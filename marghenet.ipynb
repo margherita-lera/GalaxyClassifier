{
 "cells": [
  {
   "cell_type": "markdown",
   "id": "268aaca6",
   "metadata": {},
   "source": [
    "# Trial with mapping\n",
    "## important changes:\n",
    "- use zookeper.py from my branch!!!\n",
    "- __ getitem__ function changed\n",
    "- forward changed\n",
    "- check the path for '../artifacts' because I changed it"
   ]
  },
  {
   "cell_type": "code",
   "execution_count": 1,
   "id": "67044c95",
   "metadata": {},
   "outputs": [
    {
     "name": "stderr",
     "output_type": "stream",
     "text": [
      "/home/margherita/src/ambiente/lib/python3.12/site-packages/tqdm/auto.py:21: TqdmWarning: IProgress not found. Please update jupyter and ipywidgets. See https://ipywidgets.readthedocs.io/en/stable/user_install.html\n",
      "  from .autonotebook import tqdm as notebook_tqdm\n"
     ]
    },
    {
     "name": "stdout",
     "output_type": "stream",
     "text": [
      "cuda\n"
     ]
    }
   ],
   "source": [
    "import optuna\n",
    "from tqdm import tqdm\n",
    "import logging\n",
    "import sys\n",
    "import torch\n",
    "import os\n",
    "from datetime import datetime\n",
    "import pandas as pd\n",
    "import numpy as np\n",
    "import torch.nn as nn\n",
    "import torch.nn.functional as F\n",
    "import torch.optim as optim\n",
    "#import torch.utils.data\n",
    "#from torchvision import datasets\n",
    "from torchvision import transforms\n",
    "import matplotlib.pyplot as plt\n",
    "from torch.utils.data import random_split, Dataset, DataLoader\n",
    "from PIL import Image\n",
    "import zookeeper as zk  # convool_size & mappy\n",
    "import pickle  # for artifact, maybe not useful\n",
    "\n",
    "device = torch.device('cuda' if torch.cuda.is_available() else 'cpu')\n",
    "print(device)"
   ]
  },
  {
   "cell_type": "code",
   "execution_count": null,
   "id": "2c77e18a",
   "metadata": {},
   "outputs": [
    {
     "name": "stdout",
     "output_type": "stream",
     "text": [
      "Collecting optuna-dashboard\n",
      "  Downloading optuna_dashboard-0.18.0-py3-none-any.whl.metadata (7.1 kB)\n",
      "Collecting bottle>=0.13.0 (from optuna-dashboard)\n",
      "  Downloading bottle-0.13.3-py2.py3-none-any.whl.metadata (2.1 kB)\n",
      "Requirement already satisfied: optuna>=3.1.0 in /home/margherita/src/ambiente/lib/python3.12/site-packages (from optuna-dashboard) (4.3.0)\n",
      "Requirement already satisfied: packaging in /home/margherita/src/ambiente/lib/python3.12/site-packages (from optuna-dashboard) (24.1)\n",
      "Requirement already satisfied: scikit-learn in /home/margherita/src/ambiente/lib/python3.12/site-packages (from optuna-dashboard) (1.6.1)\n",
      "Requirement already satisfied: alembic>=1.5.0 in /home/margherita/src/ambiente/lib/python3.12/site-packages (from optuna>=3.1.0->optuna-dashboard) (1.15.2)\n",
      "Requirement already satisfied: colorlog in /home/margherita/src/ambiente/lib/python3.12/site-packages (from optuna>=3.1.0->optuna-dashboard) (6.9.0)\n",
      "Requirement already satisfied: numpy in /home/margherita/src/ambiente/lib/python3.12/site-packages (from optuna>=3.1.0->optuna-dashboard) (2.0.2)\n",
      "Requirement already satisfied: sqlalchemy>=1.4.2 in /home/margherita/src/ambiente/lib/python3.12/site-packages (from optuna>=3.1.0->optuna-dashboard) (2.0.41)\n",
      "Requirement already satisfied: tqdm in /home/margherita/src/ambiente/lib/python3.12/site-packages (from optuna>=3.1.0->optuna-dashboard) (4.67.1)\n",
      "Requirement already satisfied: PyYAML in /home/margherita/src/ambiente/lib/python3.12/site-packages (from optuna>=3.1.0->optuna-dashboard) (6.0.2)\n",
      "Requirement already satisfied: scipy>=1.6.0 in /home/margherita/src/ambiente/lib/python3.12/site-packages (from scikit-learn->optuna-dashboard) (1.14.1)\n",
      "Requirement already satisfied: joblib>=1.2.0 in /home/margherita/src/ambiente/lib/python3.12/site-packages (from scikit-learn->optuna-dashboard) (1.4.2)\n",
      "Requirement already satisfied: threadpoolctl>=3.1.0 in /home/margherita/src/ambiente/lib/python3.12/site-packages (from scikit-learn->optuna-dashboard) (3.5.0)\n",
      "Requirement already satisfied: Mako in /home/margherita/src/ambiente/lib/python3.12/site-packages (from alembic>=1.5.0->optuna>=3.1.0->optuna-dashboard) (1.3.10)\n",
      "Requirement already satisfied: typing-extensions>=4.12 in /home/margherita/src/ambiente/lib/python3.12/site-packages (from alembic>=1.5.0->optuna>=3.1.0->optuna-dashboard) (4.12.2)\n",
      "Requirement already satisfied: greenlet>=1 in /home/margherita/src/ambiente/lib/python3.12/site-packages (from sqlalchemy>=1.4.2->optuna>=3.1.0->optuna-dashboard) (3.2.2)\n",
      "Requirement already satisfied: MarkupSafe>=0.9.2 in /home/margherita/src/ambiente/lib/python3.12/site-packages (from Mako->alembic>=1.5.0->optuna>=3.1.0->optuna-dashboard) (3.0.2)\n",
      "Downloading optuna_dashboard-0.18.0-py3-none-any.whl (8.4 MB)\n",
      "\u001b[2K   \u001b[90m━━━━━━━━━━━━━━━━━━━━━━━━━━━━━━━━━━━━━━━━\u001b[0m \u001b[32m8.4/8.4 MB\u001b[0m \u001b[31m4.0 MB/s\u001b[0m eta \u001b[36m0:00:00\u001b[0m00:01\u001b[0m00:01\u001b[0m\n",
      "\u001b[?25hDownloading bottle-0.13.3-py2.py3-none-any.whl (104 kB)\n",
      "\u001b[2K   \u001b[90m━━━━━━━━━━━━━━━━━━━━━━━━━━━━━━━━━━━━━━━━\u001b[0m \u001b[32m104.2/104.2 kB\u001b[0m \u001b[31m1.6 MB/s\u001b[0m eta \u001b[36m0:00:00\u001b[0m \u001b[36m0:00:01\u001b[0m\n",
      "\u001b[?25hInstalling collected packages: bottle, optuna-dashboard\n",
      "Successfully installed bottle-0.13.3 optuna-dashboard-0.18.0\n",
      "Note: you may need to restart the kernel to use updated packages.\n"
     ]
    }
   ],
   "source": []
  },
  {
   "cell_type": "markdown",
   "id": "aed5fbdd",
   "metadata": {},
   "source": [
    "import shutil\n",
    "    \n",
    "data = pd.read_csv('../data/og/training_solutions_rev1.csv')\n",
    "test = data.sample(frac=.1)\n",
    "train = data.drop(test.index)\n",
    "train.reset_index(drop=True, inplace=True)\n",
    "test.reset_index(drop=True, inplace=True)\n",
    "train.to_csv('../data/training/training_solutions_rev1.csv', index_label=False)\n",
    "test.to_csv('../data/test/test_solutions_rev1.csv', index_label=False)\n",
    "\n",
    "for image in (train.GalaxyID.astype('string') + '.jpg').values:\n",
    "    shutil.move(os.path.join('../data/og/', image), os.path.join('../data/training/', image))\n",
    "\n",
    "for image in (test.GalaxyID.astype('string') + '.jpg').values:\n",
    "    shutil.move(os.path.join('../data/og/', image), os.path.join('../data/test/', image))"
   ]
  },
  {
   "cell_type": "markdown",
   "id": "4f276bac",
   "metadata": {},
   "source": [
    "train.head()"
   ]
  },
  {
   "cell_type": "markdown",
   "id": "3ac92a77",
   "metadata": {},
   "source": [
    "\n",
    "pd.read_csv('../data/test/test_solutions_rev1.csv').shape[0] + pd.read_csv('../data/training/training_solutions_rev1.csv').shape[0]\n"
   ]
  },
  {
   "cell_type": "code",
   "execution_count": 2,
   "id": "2ddb36d0",
   "metadata": {},
   "outputs": [],
   "source": [
    "class GalaxyJungle(Dataset):\n",
    "    \n",
    "    #the init function initializes the directory containing the image,\n",
    "    #the annotations file,\n",
    "    #and both transforms\n",
    "    def __init__(self, annotations_file, img_dir, transform=None, target_transform=None, is_rgb=False):\n",
    "        self.rgb = is_rgb\n",
    "        self.img_labels = pd.read_csv(annotations_file)\n",
    "        self.img_dir = img_dir\n",
    "        self.transform = transform\n",
    "        self.target_transform = target_transform\n",
    "\n",
    "    #returns number of samples in the dataset\n",
    "    def __len__(self):\n",
    "        return (self.img_labels).shape[0]\n",
    "\n",
    "    #loads a sample from the dataset\n",
    "     ############### MAPPED TARGET LABELS\n",
    "    def __getitem__(self, idx):\n",
    "        img_path = os.path.join(self.img_dir, str(self.img_labels.iloc[idx, 0])) + '.jpg'\n",
    "        #retrieves the image\n",
    "        image = Image.open(img_path)\n",
    "        if not self.rgb: image = image.convert('L')\n",
    "        #retrieves corresponding label\n",
    "        label = self.img_labels.iloc[idx, 1:]\n",
    "        #if possible, transform the image and the label into a tensor.\n",
    "        if self.transform:\n",
    "            image = self.transform(image)#.type(torch.float16)\n",
    "        label=torch.tensor(label.to_numpy(), dtype=torch.float32, requires_grad=False) #cambiato in to_numpy perchè label.values restituisce un metodo e non un valore. In alternativa label.values() meno version proof\n",
    "        label = zk.mappy(label)#.detach().clone()\n",
    "        if self.target_transform:\n",
    "            label = self.target_transform(label)\n",
    "        return image, label, self.img_labels.iloc[idx, 0]\n",
    "    \n",
    "\n",
    "transfs = transforms.Compose([\n",
    "    transforms.ToTensor(), # Riscala le immagini tra 0 e 1\n",
    "    transforms.CenterCrop(324),\n",
    "    transforms.Resize(128),\n",
    "    transforms.RandomRotation(180)\n",
    "    ])"
   ]
  },
  {
   "cell_type": "markdown",
   "id": "ed8e6517",
   "metadata": {},
   "source": [
    "DS = GalaxyJungle('../data/training/training_solutions_rev1.csv', '../data/training/', transfs)\n",
    "training, test = random_split(DS, [.8, .2])\n",
    "x=DS.__getitem__(0)\n",
    "print(x[1].shape)"
   ]
  },
  {
   "cell_type": "code",
   "execution_count": 15,
   "id": "e9be8f66",
   "metadata": {},
   "outputs": [],
   "source": [
    "class GalaxyNet(nn.Module):\n",
    "    def __init__(self, activation, initialization=False, is_rgb=False):\n",
    "        super().__init__()\n",
    "        \n",
    "        rgb = 3 if is_rgb else 1\n",
    "        input_size = 128\n",
    "        num_labels = 37\n",
    "        \n",
    "        self.loss_dict = {'batch' : [], 'epoch' : [], 'vbatch' : [], 'vepoch' : []}\n",
    "        self.activation = activation\n",
    "\n",
    "        \n",
    "        ## convolutional layers\n",
    "        self.convs = nn.Sequential(\n",
    "            nn.Conv2d(rgb, 16, 3, bias=False),\n",
    "            nn.BatchNorm2d(16),\n",
    "            self.activation(),\n",
    "            \n",
    "\n",
    "            nn.MaxPool2d(2),\n",
    "            \n",
    "            nn.Conv2d(16, 16, 3, bias=False),\n",
    "            nn.BatchNorm2d(16),\n",
    "            self.activation(),\n",
    "\n",
    "            nn.MaxPool2d(2),\n",
    "\n",
    "            nn.Conv2d(16, 32, 3, bias=False),\n",
    "            nn.BatchNorm2d(32),\n",
    "            self.activation(),\n",
    "            \n",
    "\n",
    "            nn.MaxPool2d(2),\n",
    "\n",
    "            nn.Conv2d(32, 64, 3, bias=False),\n",
    "            nn.BatchNorm2d(64),\n",
    "            self.activation(),\n",
    "            \n",
    "\n",
    "            nn.MaxPool2d(2),\n",
    "\n",
    "            nn.Conv2d(64, 128, 3, bias=False),\n",
    "            nn.BatchNorm2d(128),\n",
    "            self.activation(),\n",
    "                               \n",
    "\n",
    "            nn.MaxPool2d(2)\n",
    "            )\n",
    "\n",
    "        for layer in self.convs:\n",
    "            if layer.__class__.__name__ == 'Conv2d': input_size = zk.convool_size(input_size, 3, 1)\n",
    "            elif layer.__class__.__name__ == 'MaxPool2d': input_size = zk.convool_size(input_size, 2, 2)\n",
    "\n",
    "        if input_size < 2: raise ValueError('You shrank too much dude.')\n",
    "        print(f'Convs output size: {input_size}')\n",
    "\n",
    "        input_linear = 128 * input_size * input_size\n",
    "        \n",
    "        self.fc = nn.Sequential(\n",
    "            nn.Flatten(),\n",
    "            nn.Linear(input_linear, 100),\n",
    "            self.activation(),\n",
    "            nn.Linear(100, num_labels)\n",
    "            )\n",
    "        \n",
    "        if initialization: self.init_weights()\n",
    "\n",
    "\n",
    "\n",
    "    def forward(self, x):\n",
    "        x = self.convs(x)\n",
    "        x = self.fc(x)\n",
    "        x= zk.mappy2D(x)\n",
    "        #print('After mappy:', x.shape)\n",
    "        return x\n",
    "\n",
    "\n",
    "    def init_weights(self):\n",
    "        if self.activation == nn.ReLU:\n",
    "            nonlin = 'relu'\n",
    "            a = 0\n",
    "        elif self.activation == nn.LeakyReLU:\n",
    "            nonlin = 'leaky_relu'\n",
    "            a = .01\n",
    "        \n",
    "        # Init convolutional parameters\n",
    "        for layer in self.convs: \n",
    "            if layer.__class__.__name__ == 'Conv2d': nn.init.kaiming_normal_(layer.weight, a=a, nonlinearity=nonlin)\n",
    "        \n",
    "\n",
    "        # Init linear parameters\n",
    "        for i in (1, -1): nn.init.constant_(self.fc[i].bias, 0)\n",
    "        nn.init.kaiming_normal_(self.fc[1].weight, a=a, nonlinearity=nonlin)\n",
    "        nn.init.xavier_uniform_(self.fc[-1].weight)      \n",
    "        \n",
    "\n",
    "\n",
    "    def log_the_loss(self, item,epoch=False): # per avere una history della loss???\n",
    "        verbose=False\n",
    "        train = self.__getstate__()['training']\n",
    "        if verbose: print(train)\n",
    "        if epoch and train:\n",
    "            self.loss_dict['epoch'].append(item) ### get state of the model so you can ditch the validation parameter\n",
    "        elif not epoch and train:\n",
    "            self.loss_dict['batch'].append(item)\n",
    "        elif not train and epoch:\n",
    "            self.loss_dict['vepoch'].append(item)\n",
    "        elif not train and not epoch:\n",
    "            self.loss_dict['vbatch'].append(item)\n",
    "        return item\n"
   ]
  },
  {
   "cell_type": "code",
   "execution_count": 16,
   "id": "dee86cb6",
   "metadata": {},
   "outputs": [],
   "source": [
    "def one_epoch_train(model, train_loader, optimizer, loss_function, verbose=False):\n",
    "    running_loss = 0\n",
    "    model.train()\n",
    "    for i, data in tqdm(enumerate(train_loader)):\n",
    "        inputs,labels, _ = data\n",
    "        inputs,labels = inputs.to(device), labels.to(device)\n",
    "        optimizer.zero_grad()\n",
    "        outputs = model(inputs)\n",
    "        loss=loss_function(outputs, labels)\n",
    "        loss.backward()\n",
    "        optimizer.step() # fa update del parameter\n",
    "        RMSEloss = np.sqrt(loss.item())\n",
    "        running_loss += RMSEloss\n",
    "        if verbose and i%10 ==0: print(f'Batch {i+1}/{len(train_loader)} - Loss: {RMSEloss:.3f}')\n",
    "\n",
    "        model.log_the_loss(RMSEloss, epoch=False)\n",
    "    epochmean_loss = running_loss / len(train_loader)\n",
    "    print(f'\\nLoss: {epochmean_loss}')\n",
    "    model.log_the_loss(epochmean_loss, epoch=True)\n",
    "    last_loss = RMSEloss\n",
    "    print(f\"Last loss: {last_loss}\")\n",
    "    return epochmean_loss\n",
    "\n",
    "\n",
    "\n",
    "def one_epoch_eval(model, test_loader, loss_function, verbose=False):\n",
    "    model.eval()\n",
    "    running_validation_loss = 0.\n",
    "   \n",
    "    with torch.no_grad(): # deactivates gradient evaluation\n",
    "        for i, vdata in tqdm(enumerate(test_loader)):\n",
    "            inputs,labels, _ = vdata\n",
    "            inputs,labels= inputs.to(device), labels.to(device)\n",
    "            outputs = model(inputs)#, activation=F.relu)\n",
    "            loss = loss_function(outputs ,labels)\n",
    "            RMSEloss = np.sqrt(loss.item())\n",
    "            running_validation_loss +=RMSEloss\n",
    "            model.log_the_loss(RMSEloss,epoch=False)\n",
    "    mean_vloss=model.log_the_loss(running_validation_loss / len(test_loader),epoch=True)\n",
    "    print(f\"Validation Loss: {mean_vloss}\\n---\")\n",
    "    return mean_vloss"
   ]
  },
  {
   "cell_type": "code",
   "execution_count": 17,
   "id": "a1c72b5d",
   "metadata": {},
   "outputs": [],
   "source": [
    "DS = GalaxyJungle('../data/training/training_solutions_rev1.csv', '../data/training/', transfs)\n",
    "training, test = random_split(DS, [.8, .2])\n",
    "\n",
    "# MARGH: ARTIFACTS È FUORI DALLA CARTELLA. CONTROLLARE IL PATH\n",
    "artifact_store = optuna.artifacts.FileSystemArtifactStore(base_path='../artifacts')\n",
    "\n",
    "def objective(trial:optuna.Trial):\n",
    "    epochs = 50\n",
    "    loss_function = nn.MSELoss()\n",
    "    train_loader = DataLoader(training, batch_size=32, shuffle=True, num_workers=os.cpu_count())\n",
    "    test_loader = DataLoader(test, batch_size=32, shuffle=False, num_workers=os.cpu_count())    \n",
    "    \n",
    "    # Trial choices\n",
    "    activation = trial.suggest_categorical(\"activation\", ['ReLU', 'LeakyReLU'])\n",
    "    optimizer = trial.suggest_categorical(\"optimizer\", ['Adam', 'SGD', 'AdamW', 'RMSprop', 'Adagrad', 'NAdam']) #AdamW è suggerito per CNN.\n",
    "    learning_rate = trial.suggest_float(\"learning_rate\", 1e-5, 1e-1, log=True) #log true cerca i valori in scala logaritmica\n",
    "    momentum = trial.suggest_float(\"momentum\", 0.5, 0.9, step=0.1) #per SGD\n",
    "    initialization = trial.suggest_categorical('init weight', [True, False])\n",
    "    \n",
    "    # Training phase\n",
    "    activation = getattr(nn, activation)\n",
    "    model = GalaxyNet(activation, initialization).to(device)\n",
    "    if optimizer in ('SGD', \"RMSprop\"): optimizer = getattr(optim, optimizer)(model.parameters(), lr=learning_rate, momentum = momentum)\n",
    "    else: optimizer = getattr(optim, optimizer)(model.parameters(), lr=learning_rate)\n",
    "    \n",
    "    \n",
    "    for epoch in range(epochs):\n",
    "        print(f'Training epoch {epoch}')\n",
    "        one_epoch_train(model, train_loader, optimizer, loss_function, verbose=False)\n",
    "\n",
    "        print(f'Validation epoch {epoch}')\n",
    "        epoch_last_val_loss = one_epoch_eval(model, test_loader, loss_function, verbose=False)\n",
    "        trial.report(epoch_last_val_loss, epoch)\n",
    "\n",
    "\n",
    "        if trial.should_prune(): raise optuna.TrialPruned()\n",
    "\n",
    "    with open('model.pickle', 'wb') as fout: pickle.dump(model, fout)\n",
    "    art_id = optuna.artifacts.upload_artifact(artifact_store=artifact_store, file_path='model.pickle', study_or_trial=trial.study)\n",
    "    trial.set_user_attr('artifact_id', art_id)\n",
    "\n",
    "    \n",
    "    return epoch_last_val_loss"
   ]
  },
  {
   "cell_type": "code",
   "execution_count": 18,
   "id": "b2bc1b55",
   "metadata": {},
   "outputs": [
    {
     "name": "stderr",
     "output_type": "stream",
     "text": [
      "[I 2025-05-24 21:28:58,824] Using an existing study with name 'JAGZooNet' instead of creating a new one.\n"
     ]
    },
    {
     "name": "stdout",
     "output_type": "stream",
     "text": [
      "Using an existing study with name 'JAGZooNet' instead of creating a new one.\n",
      "Using an existing study with name 'JAGZooNet' instead of creating a new one.\n",
      "Using an existing study with name 'JAGZooNet' instead of creating a new one.\n",
      "Using an existing study with name 'JAGZooNet' instead of creating a new one.\n",
      "Convs output size: 2\n",
      "Training epoch 0\n"
     ]
    },
    {
     "name": "stderr",
     "output_type": "stream",
     "text": [
      "1386it [00:18, 73.57it/s] "
     ]
    },
    {
     "name": "stdout",
     "output_type": "stream",
     "text": [
      "\n",
      "Loss: 0.9347704643473823\n",
      "Last loss: 0.4400384353518091\n",
      "Validation epoch 0\n"
     ]
    },
    {
     "name": "stderr",
     "output_type": "stream",
     "text": [
      "\n",
      "347it [00:03, 97.27it/s] "
     ]
    },
    {
     "name": "stdout",
     "output_type": "stream",
     "text": [
      "Validation Loss: 0.4525658963828967\n",
      "---\n",
      "Training epoch 1\n"
     ]
    },
    {
     "name": "stderr",
     "output_type": "stream",
     "text": [
      "\n",
      "1386it [00:18, 74.42it/s]"
     ]
    },
    {
     "name": "stdout",
     "output_type": "stream",
     "text": [
      "\n",
      "Loss: 1.4265186618532908\n",
      "Last loss: 1.8143349271285227\n",
      "Validation epoch 1\n"
     ]
    },
    {
     "name": "stderr",
     "output_type": "stream",
     "text": [
      "\n",
      "347it [00:03, 99.30it/s] "
     ]
    },
    {
     "name": "stdout",
     "output_type": "stream",
     "text": [
      "Validation Loss: 14.75106579520492\n",
      "---\n",
      "Training epoch 2\n"
     ]
    },
    {
     "name": "stderr",
     "output_type": "stream",
     "text": [
      "\n",
      "1386it [00:18, 74.53it/s]"
     ]
    },
    {
     "name": "stdout",
     "output_type": "stream",
     "text": [
      "\n",
      "Loss: 0.7882295925660817\n",
      "Last loss: 0.4072040762056038\n",
      "Validation epoch 2\n"
     ]
    },
    {
     "name": "stderr",
     "output_type": "stream",
     "text": [
      "\n",
      "347it [00:03, 100.25it/s]\n"
     ]
    },
    {
     "name": "stdout",
     "output_type": "stream",
     "text": [
      "Validation Loss: 0.585212150772836\n",
      "---\n",
      "Training epoch 3\n"
     ]
    },
    {
     "name": "stderr",
     "output_type": "stream",
     "text": [
      "1386it [00:18, 73.69it/s]"
     ]
    },
    {
     "name": "stdout",
     "output_type": "stream",
     "text": [
      "\n",
      "Loss: 0.5498081059021277\n",
      "Last loss: 0.3373777101746371\n",
      "Validation epoch 3\n"
     ]
    },
    {
     "name": "stderr",
     "output_type": "stream",
     "text": [
      "\n",
      "347it [00:03, 105.38it/s]"
     ]
    },
    {
     "name": "stdout",
     "output_type": "stream",
     "text": [
      "Validation Loss: 0.8387273156927941\n",
      "---\n",
      "Training epoch 4\n"
     ]
    },
    {
     "name": "stderr",
     "output_type": "stream",
     "text": [
      "\n",
      "1386it [00:18, 75.52it/s]"
     ]
    },
    {
     "name": "stdout",
     "output_type": "stream",
     "text": [
      "\n",
      "Loss: 0.7910426942593983\n",
      "Last loss: 0.3222046534340751\n",
      "Validation epoch 4\n"
     ]
    },
    {
     "name": "stderr",
     "output_type": "stream",
     "text": [
      "\n",
      "347it [00:03, 105.64it/s]\n"
     ]
    },
    {
     "name": "stdout",
     "output_type": "stream",
     "text": [
      "Validation Loss: 0.410210778799213\n",
      "---\n",
      "Training epoch 5\n"
     ]
    },
    {
     "name": "stderr",
     "output_type": "stream",
     "text": [
      "1386it [00:18, 75.32it/s]"
     ]
    },
    {
     "name": "stdout",
     "output_type": "stream",
     "text": [
      "\n",
      "Loss: 0.43932277567568334\n",
      "Last loss: 0.288080338245871\n",
      "Validation epoch 5\n"
     ]
    },
    {
     "name": "stderr",
     "output_type": "stream",
     "text": [
      "\n",
      "347it [00:03, 105.49it/s]"
     ]
    },
    {
     "name": "stdout",
     "output_type": "stream",
     "text": [
      "Validation Loss: 0.5131087600438102\n",
      "---\n",
      "Training epoch 6\n"
     ]
    },
    {
     "name": "stderr",
     "output_type": "stream",
     "text": [
      "\n",
      "1386it [00:18, 76.05it/s]"
     ]
    },
    {
     "name": "stdout",
     "output_type": "stream",
     "text": [
      "\n",
      "Loss: 4.90521969570965\n",
      "Last loss: 8.112050227083087\n",
      "Validation epoch 6\n"
     ]
    },
    {
     "name": "stderr",
     "output_type": "stream",
     "text": [
      "\n",
      "347it [00:03, 105.10it/s]"
     ]
    },
    {
     "name": "stdout",
     "output_type": "stream",
     "text": [
      "Validation Loss: 5.5991688565728435\n",
      "---\n",
      "Training epoch 7\n"
     ]
    },
    {
     "name": "stderr",
     "output_type": "stream",
     "text": [
      "\n",
      "1386it [00:18, 76.13it/s]"
     ]
    },
    {
     "name": "stdout",
     "output_type": "stream",
     "text": [
      "\n",
      "Loss: 3.1361211325201364\n",
      "Last loss: 0.34419403874046667\n",
      "Validation epoch 7\n"
     ]
    },
    {
     "name": "stderr",
     "output_type": "stream",
     "text": [
      "\n",
      "347it [00:03, 101.58it/s]\n"
     ]
    },
    {
     "name": "stdout",
     "output_type": "stream",
     "text": [
      "Validation Loss: 0.35042119866947835\n",
      "---\n",
      "Training epoch 8\n"
     ]
    },
    {
     "name": "stderr",
     "output_type": "stream",
     "text": [
      "1386it [00:18, 75.48it/s]\n"
     ]
    },
    {
     "name": "stdout",
     "output_type": "stream",
     "text": [
      "\n",
      "Loss: 0.35000066876510566\n",
      "Last loss: 0.36085603133091787\n",
      "Validation epoch 8\n"
     ]
    },
    {
     "name": "stderr",
     "output_type": "stream",
     "text": [
      "347it [00:03, 97.90it/s] "
     ]
    },
    {
     "name": "stdout",
     "output_type": "stream",
     "text": [
      "Validation Loss: 0.3465347439436204\n",
      "---\n",
      "Training epoch 9\n"
     ]
    },
    {
     "name": "stderr",
     "output_type": "stream",
     "text": [
      "\n",
      "1386it [00:18, 74.39it/s]"
     ]
    },
    {
     "name": "stdout",
     "output_type": "stream",
     "text": [
      "\n",
      "Loss: 0.34546930958893424\n",
      "Last loss: 0.3751542052467863\n",
      "Validation epoch 9\n"
     ]
    },
    {
     "name": "stderr",
     "output_type": "stream",
     "text": [
      "\n",
      "347it [00:03, 100.25it/s]"
     ]
    },
    {
     "name": "stdout",
     "output_type": "stream",
     "text": [
      "Validation Loss: 0.3412974933100104\n",
      "---\n",
      "Training epoch 10\n"
     ]
    },
    {
     "name": "stderr",
     "output_type": "stream",
     "text": [
      "\n",
      "1386it [00:18, 76.34it/s] "
     ]
    },
    {
     "name": "stdout",
     "output_type": "stream",
     "text": [
      "\n",
      "Loss: 0.33640477567322397\n",
      "Last loss: 0.34556180145088194\n",
      "Validation epoch 10\n"
     ]
    },
    {
     "name": "stderr",
     "output_type": "stream",
     "text": [
      "\n",
      "347it [00:03, 106.14it/s]"
     ]
    },
    {
     "name": "stdout",
     "output_type": "stream",
     "text": [
      "Validation Loss: 0.33064061568655345\n",
      "---\n",
      "Training epoch 11\n"
     ]
    },
    {
     "name": "stderr",
     "output_type": "stream",
     "text": [
      "\n",
      "1386it [00:18, 76.68it/s] "
     ]
    },
    {
     "name": "stdout",
     "output_type": "stream",
     "text": [
      "\n",
      "Loss: 0.33016550448319343\n",
      "Last loss: 0.31847128042227013\n",
      "Validation epoch 11\n"
     ]
    },
    {
     "name": "stderr",
     "output_type": "stream",
     "text": [
      "\n",
      "347it [00:03, 100.87it/s]"
     ]
    },
    {
     "name": "stdout",
     "output_type": "stream",
     "text": [
      "Validation Loss: 0.3294689314771644\n",
      "---\n",
      "Training epoch 12\n"
     ]
    },
    {
     "name": "stderr",
     "output_type": "stream",
     "text": [
      "\n",
      "1386it [00:18, 75.85it/s]"
     ]
    },
    {
     "name": "stdout",
     "output_type": "stream",
     "text": [
      "\n",
      "Loss: 0.32581531388084284\n",
      "Last loss: 0.34815977900474493\n",
      "Validation epoch 12\n"
     ]
    },
    {
     "name": "stderr",
     "output_type": "stream",
     "text": [
      "\n",
      "347it [00:03, 108.44it/s]"
     ]
    },
    {
     "name": "stdout",
     "output_type": "stream",
     "text": [
      "Validation Loss: 0.3237401086363239\n",
      "---\n",
      "Training epoch 13\n"
     ]
    },
    {
     "name": "stderr",
     "output_type": "stream",
     "text": [
      "\n",
      "1386it [00:18, 74.58it/s]"
     ]
    },
    {
     "name": "stdout",
     "output_type": "stream",
     "text": [
      "\n",
      "Loss: 0.3220780063979959\n",
      "Last loss: 0.333642315958669\n",
      "Validation epoch 13\n"
     ]
    },
    {
     "name": "stderr",
     "output_type": "stream",
     "text": [
      "\n",
      "347it [00:03, 107.57it/s]"
     ]
    },
    {
     "name": "stdout",
     "output_type": "stream",
     "text": [
      "Validation Loss: 0.3169176597874135\n",
      "---\n",
      "Training epoch 14\n"
     ]
    },
    {
     "name": "stderr",
     "output_type": "stream",
     "text": [
      "\n",
      "1386it [00:18, 75.46it/s] "
     ]
    },
    {
     "name": "stdout",
     "output_type": "stream",
     "text": [
      "\n",
      "Loss: 0.3179457287800278\n",
      "Last loss: 0.3140646981878833\n",
      "Validation epoch 14\n"
     ]
    },
    {
     "name": "stderr",
     "output_type": "stream",
     "text": [
      "\n",
      "347it [00:03, 105.89it/s]"
     ]
    },
    {
     "name": "stdout",
     "output_type": "stream",
     "text": [
      "Validation Loss: 0.3141951423251946\n",
      "---\n",
      "Training epoch 15\n"
     ]
    },
    {
     "name": "stderr",
     "output_type": "stream",
     "text": [
      "\n",
      "1386it [00:18, 73.96it/s]"
     ]
    },
    {
     "name": "stdout",
     "output_type": "stream",
     "text": [
      "\n",
      "Loss: 0.31518409878523046\n",
      "Last loss: 0.3048233438541471\n",
      "Validation epoch 15\n"
     ]
    },
    {
     "name": "stderr",
     "output_type": "stream",
     "text": [
      "\n",
      "347it [00:03, 106.41it/s]\n"
     ]
    },
    {
     "name": "stdout",
     "output_type": "stream",
     "text": [
      "Validation Loss: 0.3132367138757066\n",
      "---\n",
      "Training epoch 16\n"
     ]
    },
    {
     "name": "stderr",
     "output_type": "stream",
     "text": [
      "1386it [00:18, 75.90it/s]"
     ]
    },
    {
     "name": "stdout",
     "output_type": "stream",
     "text": [
      "\n",
      "Loss: 0.31468843361284454\n",
      "Last loss: 0.3097291412611804\n",
      "Validation epoch 16\n"
     ]
    },
    {
     "name": "stderr",
     "output_type": "stream",
     "text": [
      "\n",
      "347it [00:03, 106.79it/s]"
     ]
    },
    {
     "name": "stdout",
     "output_type": "stream",
     "text": [
      "Validation Loss: 0.3053096488418979\n",
      "---\n",
      "Training epoch 17\n"
     ]
    },
    {
     "name": "stderr",
     "output_type": "stream",
     "text": [
      "\n",
      "1386it [00:18, 76.50it/s]"
     ]
    },
    {
     "name": "stdout",
     "output_type": "stream",
     "text": [
      "\n",
      "Loss: 0.30991211615699354\n",
      "Last loss: 0.3154721895760639\n",
      "Validation epoch 17\n"
     ]
    },
    {
     "name": "stderr",
     "output_type": "stream",
     "text": [
      "\n",
      "347it [00:03, 101.28it/s]"
     ]
    },
    {
     "name": "stdout",
     "output_type": "stream",
     "text": [
      "Validation Loss: 0.30889842088737723\n",
      "---\n",
      "Training epoch 18\n"
     ]
    },
    {
     "name": "stderr",
     "output_type": "stream",
     "text": [
      "\n",
      "1386it [00:18, 75.79it/s]"
     ]
    },
    {
     "name": "stdout",
     "output_type": "stream",
     "text": [
      "\n",
      "Loss: 0.30369129114092214\n",
      "Last loss: 0.30921605294522625\n",
      "Validation epoch 18\n"
     ]
    },
    {
     "name": "stderr",
     "output_type": "stream",
     "text": [
      "\n",
      "347it [00:03, 101.97it/s]"
     ]
    },
    {
     "name": "stdout",
     "output_type": "stream",
     "text": [
      "Validation Loss: 0.2875401645629282\n",
      "---\n",
      "Training epoch 19\n"
     ]
    },
    {
     "name": "stderr",
     "output_type": "stream",
     "text": [
      "\n",
      "1386it [00:18, 74.89it/s]"
     ]
    },
    {
     "name": "stdout",
     "output_type": "stream",
     "text": [
      "\n",
      "Loss: 0.26452974280681385\n",
      "Last loss: 0.21931223482239315\n",
      "Validation epoch 19\n"
     ]
    },
    {
     "name": "stderr",
     "output_type": "stream",
     "text": [
      "\n",
      "347it [00:03, 107.16it/s]"
     ]
    },
    {
     "name": "stdout",
     "output_type": "stream",
     "text": [
      "Validation Loss: 0.23789422123428297\n",
      "---\n",
      "Training epoch 20\n"
     ]
    },
    {
     "name": "stderr",
     "output_type": "stream",
     "text": [
      "\n",
      "1386it [00:18, 76.11it/s]"
     ]
    },
    {
     "name": "stdout",
     "output_type": "stream",
     "text": [
      "\n",
      "Loss: 0.22105357699565673\n",
      "Last loss: 0.2012777327745641\n",
      "Validation epoch 20\n"
     ]
    },
    {
     "name": "stderr",
     "output_type": "stream",
     "text": [
      "\n",
      "347it [00:03, 101.86it/s]\n"
     ]
    },
    {
     "name": "stdout",
     "output_type": "stream",
     "text": [
      "Validation Loss: 0.20578364554906436\n",
      "---\n",
      "Training epoch 21\n"
     ]
    },
    {
     "name": "stderr",
     "output_type": "stream",
     "text": [
      "1386it [00:18, 76.37it/s] "
     ]
    },
    {
     "name": "stdout",
     "output_type": "stream",
     "text": [
      "\n",
      "Loss: 0.1936785884719958\n",
      "Last loss: 0.2169989597695552\n",
      "Validation epoch 21\n"
     ]
    },
    {
     "name": "stderr",
     "output_type": "stream",
     "text": [
      "\n",
      "347it [00:03, 109.07it/s]"
     ]
    },
    {
     "name": "stdout",
     "output_type": "stream",
     "text": [
      "Validation Loss: 0.18317823888930554\n",
      "---\n",
      "Training epoch 22\n"
     ]
    },
    {
     "name": "stderr",
     "output_type": "stream",
     "text": [
      "\n",
      "1386it [00:17, 77.70it/s] "
     ]
    },
    {
     "name": "stdout",
     "output_type": "stream",
     "text": [
      "\n",
      "Loss: 0.17515388083933073\n",
      "Last loss: 0.1647946562588282\n",
      "Validation epoch 22\n"
     ]
    },
    {
     "name": "stderr",
     "output_type": "stream",
     "text": [
      "\n",
      "347it [00:03, 107.22it/s]"
     ]
    },
    {
     "name": "stdout",
     "output_type": "stream",
     "text": [
      "Validation Loss: 0.1696595098355826\n",
      "---\n",
      "Training epoch 23\n"
     ]
    },
    {
     "name": "stderr",
     "output_type": "stream",
     "text": [
      "\n",
      "1386it [00:18, 75.30it/s] "
     ]
    },
    {
     "name": "stdout",
     "output_type": "stream",
     "text": [
      "\n",
      "Loss: 0.16532815009909427\n",
      "Last loss: 0.17522838327178825\n",
      "Validation epoch 23\n"
     ]
    },
    {
     "name": "stderr",
     "output_type": "stream",
     "text": [
      "\n",
      "347it [00:03, 107.08it/s]"
     ]
    },
    {
     "name": "stdout",
     "output_type": "stream",
     "text": [
      "Validation Loss: 0.16322536911570948\n",
      "---\n",
      "Training epoch 24\n"
     ]
    },
    {
     "name": "stderr",
     "output_type": "stream",
     "text": [
      "\n",
      "1386it [00:18, 76.31it/s]"
     ]
    },
    {
     "name": "stdout",
     "output_type": "stream",
     "text": [
      "\n",
      "Loss: 0.15953298769728505\n",
      "Last loss: 0.1906459558412413\n",
      "Validation epoch 24\n"
     ]
    },
    {
     "name": "stderr",
     "output_type": "stream",
     "text": [
      "\n",
      "347it [00:03, 106.69it/s]\n"
     ]
    },
    {
     "name": "stdout",
     "output_type": "stream",
     "text": [
      "Validation Loss: 0.15662703694551636\n",
      "---\n",
      "Training epoch 25\n"
     ]
    },
    {
     "name": "stderr",
     "output_type": "stream",
     "text": [
      "1386it [00:18, 75.82it/s]"
     ]
    },
    {
     "name": "stdout",
     "output_type": "stream",
     "text": [
      "\n",
      "Loss: 0.1508153280940285\n",
      "Last loss: 0.14523413862811424\n",
      "Validation epoch 25\n"
     ]
    },
    {
     "name": "stderr",
     "output_type": "stream",
     "text": [
      "\n",
      "347it [00:03, 101.59it/s]"
     ]
    },
    {
     "name": "stdout",
     "output_type": "stream",
     "text": [
      "Validation Loss: 0.14536272923796453\n",
      "---\n",
      "Training epoch 26\n"
     ]
    },
    {
     "name": "stderr",
     "output_type": "stream",
     "text": [
      "\n",
      "1386it [00:18, 74.76it/s]"
     ]
    },
    {
     "name": "stdout",
     "output_type": "stream",
     "text": [
      "\n",
      "Loss: 0.1429904660529006\n",
      "Last loss: 0.16441508847725633\n",
      "Validation epoch 26\n"
     ]
    },
    {
     "name": "stderr",
     "output_type": "stream",
     "text": [
      "\n",
      "347it [00:03, 101.14it/s]"
     ]
    },
    {
     "name": "stdout",
     "output_type": "stream",
     "text": [
      "Validation Loss: 0.14064187393768152\n",
      "---\n",
      "Training epoch 27\n"
     ]
    },
    {
     "name": "stderr",
     "output_type": "stream",
     "text": [
      "\n",
      "1386it [00:18, 75.77it/s]"
     ]
    },
    {
     "name": "stdout",
     "output_type": "stream",
     "text": [
      "\n",
      "Loss: 0.13728697885605956\n",
      "Last loss: 0.13176372811105458\n",
      "Validation epoch 27\n"
     ]
    },
    {
     "name": "stderr",
     "output_type": "stream",
     "text": [
      "\n",
      "347it [00:03, 101.84it/s]"
     ]
    },
    {
     "name": "stdout",
     "output_type": "stream",
     "text": [
      "Validation Loss: 0.13524906463174421\n",
      "---\n",
      "Training epoch 28\n"
     ]
    },
    {
     "name": "stderr",
     "output_type": "stream",
     "text": [
      "\n",
      "1386it [00:18, 76.78it/s]"
     ]
    },
    {
     "name": "stdout",
     "output_type": "stream",
     "text": [
      "\n",
      "Loss: 0.13396102724346004\n",
      "Last loss: 0.13527587684637266\n",
      "Validation epoch 28\n"
     ]
    },
    {
     "name": "stderr",
     "output_type": "stream",
     "text": [
      "\n",
      "347it [00:03, 99.98it/s] "
     ]
    },
    {
     "name": "stdout",
     "output_type": "stream",
     "text": [
      "Validation Loss: 0.13234267034529176\n",
      "---\n",
      "Training epoch 29\n"
     ]
    },
    {
     "name": "stderr",
     "output_type": "stream",
     "text": [
      "\n",
      "1386it [00:18, 73.70it/s]"
     ]
    },
    {
     "name": "stdout",
     "output_type": "stream",
     "text": [
      "\n",
      "Loss: 0.13081736333690414\n",
      "Last loss: 0.1342441032187282\n",
      "Validation epoch 29\n"
     ]
    },
    {
     "name": "stderr",
     "output_type": "stream",
     "text": [
      "\n",
      "347it [00:03, 99.81it/s] "
     ]
    },
    {
     "name": "stdout",
     "output_type": "stream",
     "text": [
      "Validation Loss: 0.13033856256492837\n",
      "---\n",
      "Training epoch 30\n"
     ]
    },
    {
     "name": "stderr",
     "output_type": "stream",
     "text": [
      "\n",
      "1386it [00:18, 74.85it/s] "
     ]
    },
    {
     "name": "stdout",
     "output_type": "stream",
     "text": [
      "\n",
      "Loss: 0.12884509756034512\n",
      "Last loss: 0.1242538586970534\n",
      "Validation epoch 30\n"
     ]
    },
    {
     "name": "stderr",
     "output_type": "stream",
     "text": [
      "\n",
      "347it [00:03, 107.55it/s]"
     ]
    },
    {
     "name": "stdout",
     "output_type": "stream",
     "text": [
      "Validation Loss: 0.12725392176046674\n",
      "---\n",
      "Training epoch 31\n"
     ]
    },
    {
     "name": "stderr",
     "output_type": "stream",
     "text": [
      "\n",
      "1386it [00:18, 74.11it/s]"
     ]
    },
    {
     "name": "stdout",
     "output_type": "stream",
     "text": [
      "\n",
      "Loss: 0.12659498371906322\n",
      "Last loss: 0.12379178241908682\n",
      "Validation epoch 31\n"
     ]
    },
    {
     "name": "stderr",
     "output_type": "stream",
     "text": [
      "\n",
      "347it [00:03, 99.19it/s] "
     ]
    },
    {
     "name": "stdout",
     "output_type": "stream",
     "text": [
      "Validation Loss: 0.1253660262166073\n",
      "---\n",
      "Training epoch 32\n"
     ]
    },
    {
     "name": "stderr",
     "output_type": "stream",
     "text": [
      "\n",
      "1386it [00:18, 75.44it/s] "
     ]
    },
    {
     "name": "stdout",
     "output_type": "stream",
     "text": [
      "\n",
      "Loss: 0.12447226435335824\n",
      "Last loss: 0.1303171910784049\n",
      "Validation epoch 32\n"
     ]
    },
    {
     "name": "stderr",
     "output_type": "stream",
     "text": [
      "\n",
      "347it [00:03, 102.21it/s]"
     ]
    },
    {
     "name": "stdout",
     "output_type": "stream",
     "text": [
      "Validation Loss: 0.1233163659637964\n",
      "---\n",
      "Training epoch 33\n"
     ]
    },
    {
     "name": "stderr",
     "output_type": "stream",
     "text": [
      "\n",
      "1386it [00:18, 74.50it/s] "
     ]
    },
    {
     "name": "stdout",
     "output_type": "stream",
     "text": [
      "\n",
      "Loss: 0.12254200816589379\n",
      "Last loss: 0.12940459302252702\n",
      "Validation epoch 33\n"
     ]
    },
    {
     "name": "stderr",
     "output_type": "stream",
     "text": [
      "\n",
      "347it [00:03, 93.12it/s] "
     ]
    },
    {
     "name": "stdout",
     "output_type": "stream",
     "text": [
      "Validation Loss: 0.1208633543001424\n",
      "---\n",
      "Training epoch 34\n"
     ]
    },
    {
     "name": "stderr",
     "output_type": "stream",
     "text": [
      "\n",
      "1386it [00:18, 75.24it/s]"
     ]
    },
    {
     "name": "stdout",
     "output_type": "stream",
     "text": [
      "\n",
      "Loss: 0.12032420057846528\n",
      "Last loss: 0.1100617163755886\n",
      "Validation epoch 34\n"
     ]
    },
    {
     "name": "stderr",
     "output_type": "stream",
     "text": [
      "\n",
      "347it [00:03, 103.71it/s]"
     ]
    },
    {
     "name": "stdout",
     "output_type": "stream",
     "text": [
      "Validation Loss: 0.1189985463604725\n",
      "---\n",
      "Training epoch 35\n"
     ]
    },
    {
     "name": "stderr",
     "output_type": "stream",
     "text": [
      "\n",
      "1386it [00:17, 77.13it/s] "
     ]
    },
    {
     "name": "stdout",
     "output_type": "stream",
     "text": [
      "\n",
      "Loss: 0.1180744305630906\n",
      "Last loss: 0.12142144364022779\n",
      "Validation epoch 35\n"
     ]
    },
    {
     "name": "stderr",
     "output_type": "stream",
     "text": [
      "\n",
      "347it [00:03, 100.00it/s]"
     ]
    },
    {
     "name": "stdout",
     "output_type": "stream",
     "text": [
      "Validation Loss: 0.11692097364424153\n",
      "---\n",
      "Training epoch 36\n"
     ]
    },
    {
     "name": "stderr",
     "output_type": "stream",
     "text": [
      "\n",
      "1386it [00:18, 74.15it/s] "
     ]
    },
    {
     "name": "stdout",
     "output_type": "stream",
     "text": [
      "\n",
      "Loss: 0.11609063480809306\n",
      "Last loss: 0.12437281621041382\n",
      "Validation epoch 36\n"
     ]
    },
    {
     "name": "stderr",
     "output_type": "stream",
     "text": [
      "\n",
      "347it [00:03, 100.18it/s]"
     ]
    },
    {
     "name": "stdout",
     "output_type": "stream",
     "text": [
      "Validation Loss: 0.11443403862560589\n",
      "---\n",
      "Training epoch 37\n"
     ]
    },
    {
     "name": "stderr",
     "output_type": "stream",
     "text": [
      "\n",
      "1386it [00:17, 77.34it/s] "
     ]
    },
    {
     "name": "stdout",
     "output_type": "stream",
     "text": [
      "\n",
      "Loss: 0.11426150639308613\n",
      "Last loss: 0.1138741703738634\n",
      "Validation epoch 37\n"
     ]
    },
    {
     "name": "stderr",
     "output_type": "stream",
     "text": [
      "\n",
      "347it [00:03, 103.13it/s]"
     ]
    },
    {
     "name": "stdout",
     "output_type": "stream",
     "text": [
      "Validation Loss: 0.11304992324968909\n",
      "---\n",
      "Training epoch 38\n"
     ]
    },
    {
     "name": "stderr",
     "output_type": "stream",
     "text": [
      "\n",
      "1386it [00:18, 73.68it/s]"
     ]
    },
    {
     "name": "stdout",
     "output_type": "stream",
     "text": [
      "\n",
      "Loss: 0.11289660548300853\n",
      "Last loss: 0.1215731567759536\n",
      "Validation epoch 38\n"
     ]
    },
    {
     "name": "stderr",
     "output_type": "stream",
     "text": [
      "\n",
      "347it [00:03, 100.23it/s]"
     ]
    },
    {
     "name": "stdout",
     "output_type": "stream",
     "text": [
      "Validation Loss: 0.11176388539545051\n",
      "---\n",
      "Training epoch 39\n"
     ]
    },
    {
     "name": "stderr",
     "output_type": "stream",
     "text": [
      "\n",
      "1386it [00:18, 75.64it/s]"
     ]
    },
    {
     "name": "stdout",
     "output_type": "stream",
     "text": [
      "\n",
      "Loss: 0.11121374943045724\n",
      "Last loss: 0.12406955071984013\n",
      "Validation epoch 39\n"
     ]
    },
    {
     "name": "stderr",
     "output_type": "stream",
     "text": [
      "\n",
      "347it [00:03, 87.36it/s]"
     ]
    },
    {
     "name": "stdout",
     "output_type": "stream",
     "text": [
      "Validation Loss: 0.11001303949854753\n",
      "---\n",
      "Training epoch 40\n"
     ]
    },
    {
     "name": "stderr",
     "output_type": "stream",
     "text": [
      "\n",
      "1386it [00:18, 75.55it/s] \n"
     ]
    },
    {
     "name": "stdout",
     "output_type": "stream",
     "text": [
      "\n",
      "Loss: 0.10974120007897886\n",
      "Last loss: 0.11448593678326112\n",
      "Validation epoch 40\n"
     ]
    },
    {
     "name": "stderr",
     "output_type": "stream",
     "text": [
      "347it [00:03, 96.66it/s] "
     ]
    },
    {
     "name": "stdout",
     "output_type": "stream",
     "text": [
      "Validation Loss: 0.10914925037101664\n",
      "---\n",
      "Training epoch 41\n"
     ]
    },
    {
     "name": "stderr",
     "output_type": "stream",
     "text": [
      "\n",
      "1386it [00:18, 74.22it/s]"
     ]
    },
    {
     "name": "stdout",
     "output_type": "stream",
     "text": [
      "\n",
      "Loss: 0.10858664332900171\n",
      "Last loss: 0.11066176691848782\n",
      "Validation epoch 41\n"
     ]
    },
    {
     "name": "stderr",
     "output_type": "stream",
     "text": [
      "\n",
      "347it [00:03, 101.85it/s]\n"
     ]
    },
    {
     "name": "stdout",
     "output_type": "stream",
     "text": [
      "Validation Loss: 0.10774764265387168\n",
      "---\n",
      "Training epoch 42\n"
     ]
    },
    {
     "name": "stderr",
     "output_type": "stream",
     "text": [
      "1386it [00:18, 73.31it/s]"
     ]
    },
    {
     "name": "stdout",
     "output_type": "stream",
     "text": [
      "\n",
      "Loss: 0.10739604543780291\n",
      "Last loss: 0.1046759246718138\n",
      "Validation epoch 42\n"
     ]
    },
    {
     "name": "stderr",
     "output_type": "stream",
     "text": [
      "\n",
      "347it [00:03, 105.95it/s]"
     ]
    },
    {
     "name": "stdout",
     "output_type": "stream",
     "text": [
      "Validation Loss: 0.10663327862779207\n",
      "---\n",
      "Training epoch 43\n"
     ]
    },
    {
     "name": "stderr",
     "output_type": "stream",
     "text": [
      "\n",
      "1386it [00:18, 74.52it/s]"
     ]
    },
    {
     "name": "stdout",
     "output_type": "stream",
     "text": [
      "\n",
      "Loss: 0.10614790407397989\n",
      "Last loss: 0.11392429369147061\n",
      "Validation epoch 43\n"
     ]
    },
    {
     "name": "stderr",
     "output_type": "stream",
     "text": [
      "\n",
      "347it [00:03, 99.12it/s] "
     ]
    },
    {
     "name": "stdout",
     "output_type": "stream",
     "text": [
      "Validation Loss: 0.10525793493413112\n",
      "---\n",
      "Training epoch 44\n"
     ]
    },
    {
     "name": "stderr",
     "output_type": "stream",
     "text": [
      "\n",
      "1386it [00:18, 75.18it/s]"
     ]
    },
    {
     "name": "stdout",
     "output_type": "stream",
     "text": [
      "\n",
      "Loss: 0.10512915155176164\n",
      "Last loss: 0.11258323375247252\n",
      "Validation epoch 44\n"
     ]
    },
    {
     "name": "stderr",
     "output_type": "stream",
     "text": [
      "\n",
      "347it [00:03, 91.03it/s] "
     ]
    },
    {
     "name": "stdout",
     "output_type": "stream",
     "text": [
      "Validation Loss: 0.10419717380375099\n",
      "---\n",
      "Training epoch 45\n"
     ]
    },
    {
     "name": "stderr",
     "output_type": "stream",
     "text": [
      "\n",
      "1386it [00:18, 74.14it/s]"
     ]
    },
    {
     "name": "stdout",
     "output_type": "stream",
     "text": [
      "\n",
      "Loss: 0.10388437108175287\n",
      "Last loss: 0.10175164656162092\n",
      "Validation epoch 45\n"
     ]
    },
    {
     "name": "stderr",
     "output_type": "stream",
     "text": [
      "\n",
      "347it [00:03, 99.46it/s] "
     ]
    },
    {
     "name": "stdout",
     "output_type": "stream",
     "text": [
      "Validation Loss: 0.10279997974560479\n",
      "---\n",
      "Training epoch 46\n"
     ]
    },
    {
     "name": "stderr",
     "output_type": "stream",
     "text": [
      "\n",
      "1386it [00:19, 72.86it/s]"
     ]
    },
    {
     "name": "stdout",
     "output_type": "stream",
     "text": [
      "\n",
      "Loss: 0.10236012838751898\n",
      "Last loss: 0.10604148786116903\n",
      "Validation epoch 46\n"
     ]
    },
    {
     "name": "stderr",
     "output_type": "stream",
     "text": [
      "\n",
      "347it [00:03, 103.86it/s]"
     ]
    },
    {
     "name": "stdout",
     "output_type": "stream",
     "text": [
      "Validation Loss: 0.10132334269203988\n",
      "---\n",
      "Training epoch 47\n"
     ]
    },
    {
     "name": "stderr",
     "output_type": "stream",
     "text": [
      "\n",
      "1386it [00:18, 74.42it/s] "
     ]
    },
    {
     "name": "stdout",
     "output_type": "stream",
     "text": [
      "\n",
      "Loss: 0.1010866490949116\n",
      "Last loss: 0.10723288991634294\n",
      "Validation epoch 47\n"
     ]
    },
    {
     "name": "stderr",
     "output_type": "stream",
     "text": [
      "\n",
      "347it [00:03, 104.17it/s]"
     ]
    },
    {
     "name": "stdout",
     "output_type": "stream",
     "text": [
      "Validation Loss: 0.10006095899066306\n",
      "---\n",
      "Training epoch 48\n"
     ]
    },
    {
     "name": "stderr",
     "output_type": "stream",
     "text": [
      "\n",
      "1386it [00:18, 75.49it/s]"
     ]
    },
    {
     "name": "stdout",
     "output_type": "stream",
     "text": [
      "\n",
      "Loss: 0.09947164408218566\n",
      "Last loss: 0.10720268341466119\n",
      "Validation epoch 48\n"
     ]
    },
    {
     "name": "stderr",
     "output_type": "stream",
     "text": [
      "\n",
      "347it [00:03, 100.83it/s]"
     ]
    },
    {
     "name": "stdout",
     "output_type": "stream",
     "text": [
      "Validation Loss: 0.09821116319393364\n",
      "---\n",
      "Training epoch 49\n"
     ]
    },
    {
     "name": "stderr",
     "output_type": "stream",
     "text": [
      "\n",
      "1386it [00:18, 74.42it/s] "
     ]
    },
    {
     "name": "stdout",
     "output_type": "stream",
     "text": [
      "\n",
      "Loss: 0.09771105367754124\n",
      "Last loss: 0.10938026211205669\n",
      "Validation epoch 49\n"
     ]
    },
    {
     "name": "stderr",
     "output_type": "stream",
     "text": [
      "\n",
      "347it [00:03, 101.97it/s]\n",
      "[I 2025-05-24 21:47:39,403] Trial 12 finished with value: 0.09639266573163484 and parameters: {'activation': 'ReLU', 'optimizer': 'NAdam', 'learning_rate': 2.3684663165178658e-05, 'momentum': 0.7, 'init weight': True}. Best is trial 12 with value: 0.09639266573163484.\n"
     ]
    },
    {
     "name": "stdout",
     "output_type": "stream",
     "text": [
      "Validation Loss: 0.09639266573163484\n",
      "---\n",
      "Trial 12 finished with value: 0.09639266573163484 and parameters: {'activation': 'ReLU', 'optimizer': 'NAdam', 'learning_rate': 2.3684663165178658e-05, 'momentum': 0.7, 'init weight': True}. Best is trial 12 with value: 0.09639266573163484.\n",
      "Trial 12 finished with value: 0.09639266573163484 and parameters: {'activation': 'ReLU', 'optimizer': 'NAdam', 'learning_rate': 2.3684663165178658e-05, 'momentum': 0.7, 'init weight': True}. Best is trial 12 with value: 0.09639266573163484.\n",
      "Trial 12 finished with value: 0.09639266573163484 and parameters: {'activation': 'ReLU', 'optimizer': 'NAdam', 'learning_rate': 2.3684663165178658e-05, 'momentum': 0.7, 'init weight': True}. Best is trial 12 with value: 0.09639266573163484.\n",
      "Trial 12 finished with value: 0.09639266573163484 and parameters: {'activation': 'ReLU', 'optimizer': 'NAdam', 'learning_rate': 2.3684663165178658e-05, 'momentum': 0.7, 'init weight': True}. Best is trial 12 with value: 0.09639266573163484.\n"
     ]
    }
   ],
   "source": [
    "optuna.logging.get_logger(\"optuna\").addHandler(logging.StreamHandler(sys.stdout))\n",
    "study_name = \"JAGZooNet\"\n",
    "storage_name = \"sqlite:///{}.db\".format(study_name)\n",
    "study = optuna.create_study(direction='minimize', study_name=study_name, storage=storage_name, load_if_exists=True)\n",
    "study.optimize(objective, n_trials=1)"
   ]
  },
  {
   "cell_type": "code",
   "execution_count": 21,
   "id": "a2ce6f83",
   "metadata": {},
   "outputs": [
    {
     "name": "stderr",
     "output_type": "stream",
     "text": [
      "Bottle v0.13.3 server starting up (using WSGIRefServer())...\n",
      "Listening on http://localhost:8080/\n",
      "Hit Ctrl-C to quit.\n",
      "\n",
      "127.0.0.1 - - [24/May/2025 22:04:39] \"GET / HTTP/1.1\" 302 0\n",
      "127.0.0.1 - - [24/May/2025 22:04:39] \"GET /dashboard HTTP/1.1\" 200 4145\n",
      "127.0.0.1 - - [24/May/2025 22:04:39] \"GET /static/bundle.js HTTP/1.1\" 200 4140872\n",
      "127.0.0.1 - - [24/May/2025 22:04:40] \"GET /favicon.ico HTTP/1.1\" 200 7670\n",
      "127.0.0.1 - - [24/May/2025 22:04:40] \"GET /api/studies HTTP/1.1\" 200 137\n",
      "127.0.0.1 - - [24/May/2025 22:04:45] \"GET /api/studies/1/param_importances?evaluator=ped_anova HTTP/1.1\" 200 27\n",
      "127.0.0.1 - - [24/May/2025 22:04:45] \"GET /api/studies/1?after=0 HTTP/1.1\" 200 33038\n",
      "127.0.0.1 - - [24/May/2025 22:04:45] \"GET /api/meta HTTP/1.1\" 200 64\n",
      "127.0.0.1 - - [24/May/2025 22:04:45] \"GET /api/studies/1/param_importances?evaluator=ped_anova HTTP/1.1\" 200 27\n",
      "127.0.0.1 - - [24/May/2025 22:04:55] \"GET /api/studies/1?after=13 HTTP/1.1\" 200 6663\n",
      "127.0.0.1 - - [24/May/2025 22:05:05] \"GET /api/studies/1?after=13 HTTP/1.1\" 200 6663\n",
      "127.0.0.1 - - [24/May/2025 22:05:11] \"GET /api/studies HTTP/1.1\" 200 137\n",
      "127.0.0.1 - - [24/May/2025 22:05:15] \"GET /api/studies/1?after=13 HTTP/1.1\" 200 6663\n",
      "127.0.0.1 - - [24/May/2025 22:05:15] \"GET /api/meta HTTP/1.1\" 200 64\n",
      "127.0.0.1 - - [24/May/2025 22:05:25] \"GET /api/studies/1?after=13 HTTP/1.1\" 200 6663\n",
      "127.0.0.1 - - [24/May/2025 22:05:36] \"GET /api/studies/1?after=13 HTTP/1.1\" 200 6663\n",
      "127.0.0.1 - - [24/May/2025 22:05:46] \"GET /api/studies/1?after=13 HTTP/1.1\" 200 6663\n",
      "127.0.0.1 - - [24/May/2025 22:05:56] \"GET /api/studies/1?after=13 HTTP/1.1\" 200 6663\n",
      "127.0.0.1 - - [24/May/2025 22:06:06] \"GET /api/studies/1?after=13 HTTP/1.1\" 200 6663\n",
      "127.0.0.1 - - [24/May/2025 22:06:16] \"GET /api/studies/1?after=13 HTTP/1.1\" 200 6663\n"
     ]
    }
   ],
   "source": [
    "from optuna_dashboard import run_server\n",
    "run_server(storage_name)"
   ]
  },
  {
   "cell_type": "code",
   "execution_count": null,
   "id": "05bd11e8",
   "metadata": {},
   "outputs": [],
   "source": []
  }
 ],
 "metadata": {
  "kernelspec": {
   "display_name": "ambiente",
   "language": "python",
   "name": "ambiente"
  },
  "language_info": {
   "codemirror_mode": {
    "name": "ipython",
    "version": 3
   },
   "file_extension": ".py",
   "mimetype": "text/x-python",
   "name": "python",
   "nbconvert_exporter": "python",
   "pygments_lexer": "ipython3",
   "version": "3.12.3"
  }
 },
 "nbformat": 4,
 "nbformat_minor": 5
}
