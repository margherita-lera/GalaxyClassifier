{
 "cells": [
  {
   "cell_type": "markdown",
   "id": "268aaca6",
   "metadata": {},
   "source": [
    "# Trial with mapping\n",
    "## important changes:\n",
    "- use zookeper.py from my branch!!!\n",
    "- __ getitem__ function changed\n",
    "- forward changed\n",
    "- check the path for '../artifacts' because I changed it"
   ]
  },
  {
   "cell_type": "code",
   "execution_count": 1,
   "id": "67044c95",
   "metadata": {},
   "outputs": [
    {
     "name": "stderr",
     "output_type": "stream",
     "text": [
      "/home/margherita/src/ambiente/lib/python3.12/site-packages/tqdm/auto.py:21: TqdmWarning: IProgress not found. Please update jupyter and ipywidgets. See https://ipywidgets.readthedocs.io/en/stable/user_install.html\n",
      "  from .autonotebook import tqdm as notebook_tqdm\n"
     ]
    },
    {
     "name": "stdout",
     "output_type": "stream",
     "text": [
      "cuda\n"
     ]
    }
   ],
   "source": [
    "import optuna\n",
    "from tqdm import tqdm\n",
    "import logging\n",
    "import sys\n",
    "import torch\n",
    "import os\n",
    "from datetime import datetime\n",
    "import pandas as pd\n",
    "import numpy as np\n",
    "import torch.nn as nn\n",
    "import torch.nn.functional as F\n",
    "import torch.optim as optim\n",
    "#import torch.utils.data\n",
    "#from torchvision import datasets\n",
    "from torchvision import transforms\n",
    "import matplotlib.pyplot as plt\n",
    "from torch.utils.data import random_split, Dataset, DataLoader\n",
    "from PIL import Image\n",
    "import zookeeper as zk  # convool_size & mappy\n",
    "import pickle  # for artifact, maybe not useful\n",
    "\n",
    "device = torch.device('cuda' if torch.cuda.is_available() else 'cpu')\n",
    "print(device)"
   ]
  },
  {
   "cell_type": "markdown",
   "id": "aed5fbdd",
   "metadata": {},
   "source": [
    "import shutil\n",
    "    \n",
    "data = pd.read_csv('../data/og/training_solutions_rev1.csv')\n",
    "test = data.sample(frac=.1)\n",
    "train = data.drop(test.index)\n",
    "train.reset_index(drop=True, inplace=True)\n",
    "test.reset_index(drop=True, inplace=True)\n",
    "train.to_csv('../data/training/training_solutions_rev1.csv', index_label=False)\n",
    "test.to_csv('../data/test/test_solutions_rev1.csv', index_label=False)\n",
    "\n",
    "for image in (train.GalaxyID.astype('string') + '.jpg').values:\n",
    "    shutil.move(os.path.join('../data/og/', image), os.path.join('../data/training/', image))\n",
    "\n",
    "for image in (test.GalaxyID.astype('string') + '.jpg').values:\n",
    "    shutil.move(os.path.join('../data/og/', image), os.path.join('../data/test/', image))"
   ]
  },
  {
   "cell_type": "markdown",
   "id": "4f276bac",
   "metadata": {},
   "source": [
    "train.head()"
   ]
  },
  {
   "cell_type": "markdown",
   "id": "3ac92a77",
   "metadata": {},
   "source": [
    "\n",
    "pd.read_csv('../data/test/test_solutions_rev1.csv').shape[0] + pd.read_csv('../data/training/training_solutions_rev1.csv').shape[0]\n"
   ]
  },
  {
   "cell_type": "code",
   "execution_count": null,
   "id": "2ddb36d0",
   "metadata": {},
   "outputs": [],
   "source": [
    "class GalaxyJungle(Dataset):\n",
    "    \n",
    "    #the init function initializes the directory containing the image,\n",
    "    #the annotations file,\n",
    "    #and both transforms\n",
    "    def __init__(self, annotations_file, img_dir, transform=None, target_transform=None, is_rgb=False):\n",
    "        self.rgb = is_rgb\n",
    "        self.img_labels = pd.read_csv(annotations_file)\n",
    "        self.img_dir = img_dir\n",
    "        self.transform = transform\n",
    "        self.target_transform = target_transform\n",
    "\n",
    "    #returns number of samples in the dataset\n",
    "    def __len__(self):\n",
    "        return (self.img_labels).shape[0]\n",
    "\n",
    "    #loads a sample from the dataset\n",
    "     ############### MAPPED TARGET LABELS\n",
    "    def __getitem__(self, idx):\n",
    "        img_path = os.path.join(self.img_dir, str(self.img_labels.iloc[idx, 0])) + '.jpg'\n",
    "        #retrieves the image\n",
    "        image = Image.open(img_path)\n",
    "        if not self.rgb: image = image.convert('L')\n",
    "        #retrieves corresponding label\n",
    "        label = self.img_labels.iloc[idx, 1:]\n",
    "        #if possible, transform the image and the label into a tensor.\n",
    "        if self.transform:\n",
    "            image = self.transform(image)#.type(torch.float16)\n",
    "        label=torch.tensor(label.to_numpy(), dtype=torch.float32, requires_grad=False) #cambiato in to_numpy perchè label.values restituisce un metodo e non un valore. In alternativa label.values() meno version proof\n",
    "        label = zk.mappy(label)#.detach().clone()\n",
    "        if self.target_transform:\n",
    "            label = self.target_transform(label)\n",
    "        return image, label, self.img_labels.iloc[idx, 0]\n",
    "    \n",
    "\n",
    "transfs = transforms.Compose([\n",
    "    transforms.ToTensor(), # Riscala le immagini tra 0 e 1\n",
    "    transforms.CenterCrop(324),\n",
    "    transforms.Resize(128),\n",
    "    transforms.RandomRotation(180)\n",
    "    ])"
   ]
  },
  {
   "cell_type": "markdown",
   "id": "ed8e6517",
   "metadata": {},
   "source": [
    "DS = GalaxyJungle('../data/training/training_solutions_rev1.csv', '../data/training/', transfs)\n",
    "training, test = random_split(DS, [.8, .2])\n",
    "x=DS.__getitem__(0)\n",
    "print(x[1].shape)"
   ]
  },
  {
   "cell_type": "code",
   "execution_count": 3,
   "id": "e9be8f66",
   "metadata": {},
   "outputs": [],
   "source": [
    "class GalaxyNet(nn.Module):\n",
    "    def __init__(self, activation, initialization=False, is_rgb=False):\n",
    "        super().__init__()\n",
    "        \n",
    "        rgb = 3 if is_rgb else 1\n",
    "        input_size = 128\n",
    "        num_labels = 37\n",
    "        \n",
    "        self.loss_dict = {'batch' : [], 'epoch' : [], 'vbatch' : [], 'vepoch' : []}\n",
    "        self.activation = activation\n",
    "\n",
    "        \n",
    "        ## convolutional layers\n",
    "        self.convs = nn.Sequential(\n",
    "            nn.Conv2d(rgb, 16, 3, bias=False),\n",
    "            nn.BatchNorm2d(16),\n",
    "            self.activation(),\n",
    "            \n",
    "\n",
    "            nn.MaxPool2d(2),\n",
    "            \n",
    "            nn.Conv2d(16, 16, 3, bias=False),\n",
    "            nn.BatchNorm2d(16),\n",
    "            self.activation(),\n",
    "\n",
    "            nn.MaxPool2d(2),\n",
    "\n",
    "            nn.Conv2d(16, 32, 3, bias=False),\n",
    "            nn.BatchNorm2d(32),\n",
    "            self.activation(),\n",
    "            \n",
    "\n",
    "            nn.MaxPool2d(2),\n",
    "\n",
    "            nn.Conv2d(32, 64, 3, bias=False),\n",
    "            nn.BatchNorm2d(64),\n",
    "            self.activation(),\n",
    "            \n",
    "\n",
    "            nn.MaxPool2d(2),\n",
    "\n",
    "            nn.Conv2d(64, 128, 3, bias=False),\n",
    "            nn.BatchNorm2d(128),\n",
    "            self.activation(),\n",
    "                               \n",
    "\n",
    "            nn.MaxPool2d(2)\n",
    "            )\n",
    "\n",
    "        for layer in self.convs:\n",
    "            if layer.__class__.__name__ == 'Conv2d': input_size = zk.convool_size(input_size, 3, 1)\n",
    "            elif layer.__class__.__name__ == 'MaxPool2d': input_size = zk.convool_size(input_size, 2, 2)\n",
    "\n",
    "        if input_size < 2: raise ValueError('You shrank too much dude.')\n",
    "        print(f'Convs output size: {input_size}')\n",
    "\n",
    "        input_linear = 128 * input_size * input_size\n",
    "        \n",
    "        self.fc = nn.Sequential(\n",
    "            nn.Flatten(),\n",
    "            nn.Linear(input_linear, 100),\n",
    "            self.activation(),\n",
    "            nn.Linear(100, num_labels)\n",
    "            )\n",
    "        \n",
    "        if initialization: self.init_weights()\n",
    "\n",
    "\n",
    "\n",
    "    def forward(self, x):\n",
    "        x = self.convs(x)\n",
    "        x = self.fc(x)\n",
    "        x= zk.mappy2D(x)\n",
    "        #print('After mappy:', x.shape)\n",
    "        return x\n",
    "\n",
    "\n",
    "    def init_weights(self):\n",
    "        if self.activation == nn.ReLU:\n",
    "            nonlin = 'relu'\n",
    "            a = 0\n",
    "        elif self.activation == nn.LeakyReLU:\n",
    "            nonlin = 'leaky_relu'\n",
    "            a = .01\n",
    "        \n",
    "        # Init convolutional parameters\n",
    "        for layer in self.convs: \n",
    "            if layer.__class__.__name__ == 'Conv2d': nn.init.kaiming_normal_(layer.weight, a=a, nonlinearity=nonlin)\n",
    "        \n",
    "\n",
    "        # Init linear parameters\n",
    "        for i in (1, -1): nn.init.constant_(self.fc[i].bias, 0)\n",
    "        nn.init.kaiming_normal_(self.fc[1].weight, a=a, nonlinearity=nonlin)\n",
    "        nn.init.xavier_uniform_(self.fc[-1].weight)      \n",
    "        \n",
    "\n",
    "\n",
    "    def log_the_loss(self, item,epoch=False): # per avere una history della loss???\n",
    "        verbose=False\n",
    "        train = self.__getstate__()['training']\n",
    "        if verbose: print(train)\n",
    "        if epoch and train:\n",
    "            self.loss_dict['epoch'].append(item) ### get state of the model so you can ditch the validation parameter\n",
    "        elif not epoch and train:\n",
    "            self.loss_dict['batch'].append(item)\n",
    "        elif not train and epoch:\n",
    "            self.loss_dict['vepoch'].append(item)\n",
    "        elif not train and not epoch:\n",
    "            self.loss_dict['vbatch'].append(item)\n",
    "        return item\n"
   ]
  },
  {
   "cell_type": "code",
   "execution_count": 6,
   "id": "cd224e58",
   "metadata": {},
   "outputs": [
    {
     "name": "stdout",
     "output_type": "stream",
     "text": [
      "Convs output size: 2\n",
      "GalaxyNet(\n",
      "  (convs): Sequential(\n",
      "    (0): Conv2d(1, 16, kernel_size=(3, 3), stride=(1, 1), bias=False)\n",
      "    (1): BatchNorm2d(16, eps=1e-05, momentum=0.1, affine=True, track_running_stats=True)\n",
      "    (2): ReLU()\n",
      "    (3): MaxPool2d(kernel_size=2, stride=2, padding=0, dilation=1, ceil_mode=False)\n",
      "    (4): Conv2d(16, 16, kernel_size=(3, 3), stride=(1, 1), bias=False)\n",
      "    (5): BatchNorm2d(16, eps=1e-05, momentum=0.1, affine=True, track_running_stats=True)\n",
      "    (6): ReLU()\n",
      "    (7): MaxPool2d(kernel_size=2, stride=2, padding=0, dilation=1, ceil_mode=False)\n",
      "    (8): Conv2d(16, 32, kernel_size=(3, 3), stride=(1, 1), bias=False)\n",
      "    (9): BatchNorm2d(32, eps=1e-05, momentum=0.1, affine=True, track_running_stats=True)\n",
      "    (10): ReLU()\n",
      "    (11): MaxPool2d(kernel_size=2, stride=2, padding=0, dilation=1, ceil_mode=False)\n",
      "    (12): Conv2d(32, 64, kernel_size=(3, 3), stride=(1, 1), bias=False)\n",
      "    (13): BatchNorm2d(64, eps=1e-05, momentum=0.1, affine=True, track_running_stats=True)\n",
      "    (14): ReLU()\n",
      "    (15): MaxPool2d(kernel_size=2, stride=2, padding=0, dilation=1, ceil_mode=False)\n",
      "    (16): Conv2d(64, 128, kernel_size=(3, 3), stride=(1, 1), bias=False)\n",
      "    (17): BatchNorm2d(128, eps=1e-05, momentum=0.1, affine=True, track_running_stats=True)\n",
      "    (18): ReLU()\n",
      "    (19): MaxPool2d(kernel_size=2, stride=2, padding=0, dilation=1, ceil_mode=False)\n",
      "  )\n",
      "  (fc): Sequential(\n",
      "    (0): Flatten(start_dim=1, end_dim=-1)\n",
      "    (1): Linear(in_features=512, out_features=100, bias=True)\n",
      "    (2): ReLU()\n",
      "    (3): Linear(in_features=100, out_features=37, bias=True)\n",
      "  )\n",
      ")\n"
     ]
    }
   ],
   "source": [
    "g=GalaxyNet(activation=nn.ReLU, initialization=True, is_rgb=False)\n",
    "print(g)"
   ]
  },
  {
   "cell_type": "code",
   "execution_count": 4,
   "id": "dee86cb6",
   "metadata": {},
   "outputs": [],
   "source": [
    "def one_epoch_train(model, train_loader, optimizer, loss_function, verbose=False):\n",
    "    running_loss = 0\n",
    "    model.train()\n",
    "    for i, data in tqdm(enumerate(train_loader)):\n",
    "        inputs,labels, _ = data\n",
    "        inputs,labels = inputs.to(device), labels.to(device)\n",
    "        optimizer.zero_grad()\n",
    "        outputs = model(inputs)\n",
    "        loss=loss_function(outputs, labels)\n",
    "        loss.backward()\n",
    "        optimizer.step() # fa update del parameter\n",
    "        RMSEloss = np.sqrt(loss.item())\n",
    "        running_loss += RMSEloss\n",
    "        if verbose and i%10 ==0: print(f'Batch {i+1}/{len(train_loader)} - Loss: {RMSEloss:.3f}')\n",
    "\n",
    "        model.log_the_loss(RMSEloss, epoch=False)\n",
    "    epochmean_loss = running_loss / len(train_loader)\n",
    "    print(f'\\nLoss: {epochmean_loss}')\n",
    "    model.log_the_loss(epochmean_loss, epoch=True)\n",
    "    last_loss = RMSEloss\n",
    "    print(f\"Last loss: {last_loss}\")\n",
    "    return epochmean_loss\n",
    "\n",
    "\n",
    "\n",
    "def one_epoch_eval(model, test_loader, loss_function, verbose=False):\n",
    "    model.eval()\n",
    "    running_validation_loss = 0.\n",
    "   \n",
    "    with torch.no_grad(): # deactivates gradient evaluation\n",
    "        for i, vdata in tqdm(enumerate(test_loader)):\n",
    "            inputs,labels, _ = vdata\n",
    "            inputs,labels= inputs.to(device), labels.to(device)\n",
    "            outputs = model(inputs)#, activation=F.relu)\n",
    "            loss = loss_function(outputs ,labels)\n",
    "            RMSEloss = np.sqrt(loss.item())\n",
    "            running_validation_loss += RMSEloss\n",
    "            model.log_the_loss(RMSEloss,epoch=False)\n",
    "    mean_vloss=model.log_the_loss(running_validation_loss / len(test_loader),epoch=True)\n",
    "    print(f\"Validation Loss: {mean_vloss}\\n---\")\n",
    "    return mean_vloss"
   ]
  },
  {
   "cell_type": "code",
   "execution_count": 5,
   "id": "a1c72b5d",
   "metadata": {},
   "outputs": [],
   "source": [
    "DS = GalaxyJungle('../data/training/training_solutions_rev1.csv', '../data/training/', transfs)\n",
    "training, test = random_split(DS, [.8, .2])\n",
    "\n",
    "# MARGH: ARTIFACTS È FUORI DALLA CARTELLA. CONTROLLARE IL PATH\n",
    "artifact_store = optuna.artifacts.FileSystemArtifactStore(base_path='../artifacts')\n",
    "\n",
    "def objective(trial:optuna.Trial):\n",
    "    epochs = 50\n",
    "    loss_function = nn.MSELoss()\n",
    "    train_loader = DataLoader(training, batch_size=32, shuffle=True, num_workers=os.cpu_count())\n",
    "    test_loader = DataLoader(test, batch_size=32, shuffle=False, num_workers=os.cpu_count())    \n",
    "    \n",
    "    # Trial choices\n",
    "    activation = trial.suggest_categorical(\"activation\", ['ReLU', 'LeakyReLU'])\n",
    "    optimizer = trial.suggest_categorical(\"optimizer\", ['Adam', 'SGD', 'AdamW', 'RMSprop', 'Adagrad', 'NAdam']) #AdamW è suggerito per CNN.\n",
    "    learning_rate = trial.suggest_float(\"learning_rate\", 1e-5, 1e-1, log=True) #log true cerca i valori in scala logaritmica\n",
    "    momentum = trial.suggest_float(\"momentum\", 0.5, 0.9, step=0.1) #per SGD\n",
    "    initialization = trial.suggest_categorical('init weight', [True, False])\n",
    "    \n",
    "    # Training phase\n",
    "    activation = getattr(nn, activation)\n",
    "    model = GalaxyNet(activation, initialization).to(device)\n",
    "    if optimizer in ('SGD', \"RMSprop\"): optimizer = getattr(optim, optimizer)(model.parameters(), lr=learning_rate, momentum = momentum)\n",
    "    else: optimizer = getattr(optim, optimizer)(model.parameters(), lr=learning_rate)\n",
    "    \n",
    "    \n",
    "    for epoch in range(epochs):\n",
    "        print(f'Training epoch {epoch}')\n",
    "        one_epoch_train(model, train_loader, optimizer, loss_function, verbose=False)\n",
    "\n",
    "        print(f'Validation epoch {epoch}')\n",
    "        epoch_last_val_loss = one_epoch_eval(model, test_loader, loss_function, verbose=False)\n",
    "        trial.report(epoch_last_val_loss, epoch)\n",
    "\n",
    "\n",
    "        if trial.should_prune(): raise optuna.TrialPruned()\n",
    "\n",
    "    with open('model.pickle', 'wb') as fout: pickle.dump(model, fout)\n",
    "    art_id = optuna.artifacts.upload_artifact(artifact_store=artifact_store, file_path='model.pickle', study_or_trial=trial.study)\n",
    "    trial.set_user_attr('artifact_id', art_id)\n",
    "\n",
    "    \n",
    "    return epoch_last_val_loss"
   ]
  },
  {
   "cell_type": "markdown",
   "id": "8dd67c8b",
   "metadata": {},
   "source": [
    "# MODEL LOAD + NEW TRAINING"
   ]
  },
  {
   "cell_type": "code",
   "execution_count": 6,
   "id": "a5741543",
   "metadata": {},
   "outputs": [
    {
     "name": "stdout",
     "output_type": "stream",
     "text": [
      "GalaxyNet(\n",
      "  (convs): Sequential(\n",
      "    (0): Conv2d(1, 16, kernel_size=(3, 3), stride=(1, 1), bias=False)\n",
      "    (1): BatchNorm2d(16, eps=1e-05, momentum=0.1, affine=True, track_running_stats=True)\n",
      "    (2): ReLU()\n",
      "    (3): MaxPool2d(kernel_size=2, stride=2, padding=0, dilation=1, ceil_mode=False)\n",
      "    (4): Conv2d(16, 16, kernel_size=(3, 3), stride=(1, 1), bias=False)\n",
      "    (5): BatchNorm2d(16, eps=1e-05, momentum=0.1, affine=True, track_running_stats=True)\n",
      "    (6): ReLU()\n",
      "    (7): MaxPool2d(kernel_size=2, stride=2, padding=0, dilation=1, ceil_mode=False)\n",
      "    (8): Conv2d(16, 32, kernel_size=(3, 3), stride=(1, 1), bias=False)\n",
      "    (9): BatchNorm2d(32, eps=1e-05, momentum=0.1, affine=True, track_running_stats=True)\n",
      "    (10): ReLU()\n",
      "    (11): MaxPool2d(kernel_size=2, stride=2, padding=0, dilation=1, ceil_mode=False)\n",
      "    (12): Conv2d(32, 64, kernel_size=(3, 3), stride=(1, 1), bias=False)\n",
      "    (13): BatchNorm2d(64, eps=1e-05, momentum=0.1, affine=True, track_running_stats=True)\n",
      "    (14): ReLU()\n",
      "    (15): MaxPool2d(kernel_size=2, stride=2, padding=0, dilation=1, ceil_mode=False)\n",
      "    (16): Conv2d(64, 128, kernel_size=(3, 3), stride=(1, 1), bias=False)\n",
      "    (17): BatchNorm2d(128, eps=1e-05, momentum=0.1, affine=True, track_running_stats=True)\n",
      "    (18): ReLU()\n",
      "    (19): MaxPool2d(kernel_size=2, stride=2, padding=0, dilation=1, ceil_mode=False)\n",
      "  )\n",
      "  (fc): Sequential(\n",
      "    (0): Flatten(start_dim=1, end_dim=-1)\n",
      "    (1): Linear(in_features=512, out_features=100, bias=True)\n",
      "    (2): ReLU()\n",
      "    (3): Linear(in_features=100, out_features=37, bias=True)\n",
      "  )\n",
      ")\n"
     ]
    }
   ],
   "source": [
    "model = pd.read_pickle('../artifacts/4ec97088-5fca-463c-a02b-a8d92f855242')\n",
    "print(model)"
   ]
  },
  {
   "cell_type": "code",
   "execution_count": 11,
   "id": "6bd26378",
   "metadata": {},
   "outputs": [
    {
     "name": "stdout",
     "output_type": "stream",
     "text": [
      "Training epoch 0\n"
     ]
    },
    {
     "name": "stderr",
     "output_type": "stream",
     "text": [
      "1386it [00:32, 43.05it/s]"
     ]
    },
    {
     "name": "stdout",
     "output_type": "stream",
     "text": [
      "\n",
      "Loss: 0.06345913402083213\n",
      "Last loss: 0.058063199191764885\n",
      "Validation epoch 0\n"
     ]
    },
    {
     "name": "stderr",
     "output_type": "stream",
     "text": [
      "\n",
      "347it [00:05, 62.86it/s]"
     ]
    },
    {
     "name": "stdout",
     "output_type": "stream",
     "text": [
      "Validation Loss: 0.06448081397251235\n",
      "---\n",
      "Training epoch 1\n"
     ]
    },
    {
     "name": "stderr",
     "output_type": "stream",
     "text": [
      "\n",
      "1386it [00:28, 49.01it/s]"
     ]
    },
    {
     "name": "stdout",
     "output_type": "stream",
     "text": [
      "\n",
      "Loss: 0.06341474871909852\n",
      "Last loss: 0.05751352359764144\n",
      "Validation epoch 1\n"
     ]
    },
    {
     "name": "stderr",
     "output_type": "stream",
     "text": [
      "\n",
      "347it [00:05, 64.68it/s]"
     ]
    },
    {
     "name": "stdout",
     "output_type": "stream",
     "text": [
      "Validation Loss: 0.06523848887313873\n",
      "---\n",
      "Training epoch 2\n"
     ]
    },
    {
     "name": "stderr",
     "output_type": "stream",
     "text": [
      "\n",
      "1386it [00:29, 47.60it/s]"
     ]
    },
    {
     "name": "stdout",
     "output_type": "stream",
     "text": [
      "\n",
      "Loss: 0.06335989739201454\n",
      "Last loss: 0.05847916525308598\n",
      "Validation epoch 2\n"
     ]
    },
    {
     "name": "stderr",
     "output_type": "stream",
     "text": [
      "\n",
      "347it [00:05, 62.68it/s]"
     ]
    },
    {
     "name": "stdout",
     "output_type": "stream",
     "text": [
      "Validation Loss: 0.0636540854170428\n",
      "---\n",
      "Training epoch 3\n"
     ]
    },
    {
     "name": "stderr",
     "output_type": "stream",
     "text": [
      "\n",
      "1386it [00:22, 62.13it/s]"
     ]
    },
    {
     "name": "stdout",
     "output_type": "stream",
     "text": [
      "\n",
      "Loss: 0.0634028495516736\n",
      "Last loss: 0.05851972195094065\n",
      "Validation epoch 3\n"
     ]
    },
    {
     "name": "stderr",
     "output_type": "stream",
     "text": [
      "\n",
      "347it [00:03, 95.73it/s] "
     ]
    },
    {
     "name": "stdout",
     "output_type": "stream",
     "text": [
      "Validation Loss: 0.06328405716595721\n",
      "---\n",
      "Training epoch 4\n"
     ]
    },
    {
     "name": "stderr",
     "output_type": "stream",
     "text": [
      "\n",
      "1386it [00:19, 72.89it/s]"
     ]
    },
    {
     "name": "stdout",
     "output_type": "stream",
     "text": [
      "\n",
      "Loss: 0.06324502526566408\n",
      "Last loss: 0.05770462683144361\n",
      "Validation epoch 4\n"
     ]
    },
    {
     "name": "stderr",
     "output_type": "stream",
     "text": [
      "\n",
      "347it [00:03, 91.53it/s] "
     ]
    },
    {
     "name": "stdout",
     "output_type": "stream",
     "text": [
      "Validation Loss: 0.06328328446189745\n",
      "---\n",
      "Training epoch 5\n"
     ]
    },
    {
     "name": "stderr",
     "output_type": "stream",
     "text": [
      "\n",
      "1386it [00:19, 72.20it/s]"
     ]
    },
    {
     "name": "stdout",
     "output_type": "stream",
     "text": [
      "\n",
      "Loss: 0.06316990315247203\n",
      "Last loss: 0.06009579297333352\n",
      "Validation epoch 5\n"
     ]
    },
    {
     "name": "stderr",
     "output_type": "stream",
     "text": [
      "\n",
      "347it [00:03, 97.91it/s] "
     ]
    },
    {
     "name": "stdout",
     "output_type": "stream",
     "text": [
      "Validation Loss: 0.06383531514063302\n",
      "---\n",
      "Training epoch 6\n"
     ]
    },
    {
     "name": "stderr",
     "output_type": "stream",
     "text": [
      "\n",
      "1386it [00:18, 74.23it/s]"
     ]
    },
    {
     "name": "stdout",
     "output_type": "stream",
     "text": [
      "\n",
      "Loss: 0.06316759518583193\n",
      "Last loss: 0.06865922356179466\n",
      "Validation epoch 6\n"
     ]
    },
    {
     "name": "stderr",
     "output_type": "stream",
     "text": [
      "\n",
      "347it [00:03, 97.67it/s] "
     ]
    },
    {
     "name": "stdout",
     "output_type": "stream",
     "text": [
      "Validation Loss: 0.06373515903596128\n",
      "---\n",
      "Training epoch 7\n"
     ]
    },
    {
     "name": "stderr",
     "output_type": "stream",
     "text": [
      "\n",
      "1386it [00:18, 74.27it/s]"
     ]
    },
    {
     "name": "stdout",
     "output_type": "stream",
     "text": [
      "\n",
      "Loss: 0.06308759197088347\n",
      "Last loss: 0.06645760934284882\n",
      "Validation epoch 7\n"
     ]
    },
    {
     "name": "stderr",
     "output_type": "stream",
     "text": [
      "\n",
      "347it [00:03, 99.70it/s] "
     ]
    },
    {
     "name": "stdout",
     "output_type": "stream",
     "text": [
      "Validation Loss: 0.06362493450367393\n",
      "---\n",
      "Training epoch 8\n"
     ]
    },
    {
     "name": "stderr",
     "output_type": "stream",
     "text": [
      "\n",
      "1386it [00:18, 75.07it/s]"
     ]
    },
    {
     "name": "stdout",
     "output_type": "stream",
     "text": [
      "\n",
      "Loss: 0.06291490985421311\n",
      "Last loss: 0.06384050135462567\n",
      "Validation epoch 8\n"
     ]
    },
    {
     "name": "stderr",
     "output_type": "stream",
     "text": [
      "\n",
      "347it [00:03, 98.99it/s] "
     ]
    },
    {
     "name": "stdout",
     "output_type": "stream",
     "text": [
      "Validation Loss: 0.06329029710839537\n",
      "---\n",
      "Training epoch 9\n"
     ]
    },
    {
     "name": "stderr",
     "output_type": "stream",
     "text": [
      "\n",
      "1386it [00:19, 72.27it/s]"
     ]
    },
    {
     "name": "stdout",
     "output_type": "stream",
     "text": [
      "\n",
      "Loss: 0.06295095412857164\n",
      "Last loss: 0.0664403245961097\n",
      "Validation epoch 9\n"
     ]
    },
    {
     "name": "stderr",
     "output_type": "stream",
     "text": [
      "\n",
      "347it [00:03, 89.60it/s] "
     ]
    },
    {
     "name": "stdout",
     "output_type": "stream",
     "text": [
      "Validation Loss: 0.0638429341934659\n",
      "---\n",
      "Training epoch 10\n"
     ]
    },
    {
     "name": "stderr",
     "output_type": "stream",
     "text": [
      "\n",
      "1386it [00:18, 73.57it/s] "
     ]
    },
    {
     "name": "stdout",
     "output_type": "stream",
     "text": [
      "\n",
      "Loss: 0.06286230191037888\n",
      "Last loss: 0.0706183384869999\n",
      "Validation epoch 10\n"
     ]
    },
    {
     "name": "stderr",
     "output_type": "stream",
     "text": [
      "\n",
      "347it [00:03, 89.78it/s] "
     ]
    },
    {
     "name": "stdout",
     "output_type": "stream",
     "text": [
      "Validation Loss: 0.06319720390669802\n",
      "---\n",
      "Training epoch 11\n"
     ]
    },
    {
     "name": "stderr",
     "output_type": "stream",
     "text": [
      "\n",
      "1386it [00:18, 73.97it/s]"
     ]
    },
    {
     "name": "stdout",
     "output_type": "stream",
     "text": [
      "\n",
      "Loss: 0.06282226830319126\n",
      "Last loss: 0.06985615286801136\n",
      "Validation epoch 11\n"
     ]
    },
    {
     "name": "stderr",
     "output_type": "stream",
     "text": [
      "\n",
      "347it [00:03, 97.73it/s] "
     ]
    },
    {
     "name": "stdout",
     "output_type": "stream",
     "text": [
      "Validation Loss: 0.06418631516383519\n",
      "---\n",
      "Training epoch 12\n"
     ]
    },
    {
     "name": "stderr",
     "output_type": "stream",
     "text": [
      "\n",
      "1386it [00:18, 74.60it/s]"
     ]
    },
    {
     "name": "stdout",
     "output_type": "stream",
     "text": [
      "\n",
      "Loss: 0.06274735069898396\n",
      "Last loss: 0.06174983648083538\n",
      "Validation epoch 12\n"
     ]
    },
    {
     "name": "stderr",
     "output_type": "stream",
     "text": [
      "\n",
      "347it [00:03, 106.07it/s]\n"
     ]
    },
    {
     "name": "stdout",
     "output_type": "stream",
     "text": [
      "Validation Loss: 0.06307060299255889\n",
      "---\n",
      "Training epoch 13\n"
     ]
    },
    {
     "name": "stderr",
     "output_type": "stream",
     "text": [
      "1386it [00:18, 76.67it/s] "
     ]
    },
    {
     "name": "stdout",
     "output_type": "stream",
     "text": [
      "\n",
      "Loss: 0.06280106060454622\n",
      "Last loss: 0.052393824730482735\n",
      "Validation epoch 13\n"
     ]
    },
    {
     "name": "stderr",
     "output_type": "stream",
     "text": [
      "\n",
      "347it [00:03, 92.53it/s] "
     ]
    },
    {
     "name": "stdout",
     "output_type": "stream",
     "text": [
      "Validation Loss: 0.06354623841489002\n",
      "---\n",
      "Training epoch 14\n"
     ]
    },
    {
     "name": "stderr",
     "output_type": "stream",
     "text": [
      "\n",
      "1386it [00:18, 73.95it/s]"
     ]
    },
    {
     "name": "stdout",
     "output_type": "stream",
     "text": [
      "\n",
      "Loss: 0.0627994379943498\n",
      "Last loss: 0.06836692904559831\n",
      "Validation epoch 14\n"
     ]
    },
    {
     "name": "stderr",
     "output_type": "stream",
     "text": [
      "\n",
      "347it [00:03, 99.25it/s] "
     ]
    },
    {
     "name": "stdout",
     "output_type": "stream",
     "text": [
      "Validation Loss: 0.0633238928112954\n",
      "---\n",
      "Training epoch 15\n"
     ]
    },
    {
     "name": "stderr",
     "output_type": "stream",
     "text": [
      "\n",
      "1386it [00:18, 73.05it/s]"
     ]
    },
    {
     "name": "stdout",
     "output_type": "stream",
     "text": [
      "\n",
      "Loss: 0.06281597986593788\n",
      "Last loss: 0.06380140740497166\n",
      "Validation epoch 15\n"
     ]
    },
    {
     "name": "stderr",
     "output_type": "stream",
     "text": [
      "\n",
      "347it [00:03, 99.18it/s] "
     ]
    },
    {
     "name": "stdout",
     "output_type": "stream",
     "text": [
      "Validation Loss: 0.06310511266606926\n",
      "---\n",
      "Training epoch 16\n"
     ]
    },
    {
     "name": "stderr",
     "output_type": "stream",
     "text": [
      "\n",
      "1386it [00:18, 74.03it/s] "
     ]
    },
    {
     "name": "stdout",
     "output_type": "stream",
     "text": [
      "\n",
      "Loss: 0.0626752892122228\n",
      "Last loss: 0.061081525355180646\n",
      "Validation epoch 16\n"
     ]
    },
    {
     "name": "stderr",
     "output_type": "stream",
     "text": [
      "\n",
      "347it [00:03, 90.24it/s] "
     ]
    },
    {
     "name": "stdout",
     "output_type": "stream",
     "text": [
      "Validation Loss: 0.06316410037872044\n",
      "---\n",
      "Training epoch 17\n"
     ]
    },
    {
     "name": "stderr",
     "output_type": "stream",
     "text": [
      "\n",
      "1386it [00:18, 74.05it/s]"
     ]
    },
    {
     "name": "stdout",
     "output_type": "stream",
     "text": [
      "\n",
      "Loss: 0.06256789027579289\n",
      "Last loss: 0.06615836847293814\n",
      "Validation epoch 17\n"
     ]
    },
    {
     "name": "stderr",
     "output_type": "stream",
     "text": [
      "\n",
      "347it [00:03, 104.00it/s]"
     ]
    },
    {
     "name": "stdout",
     "output_type": "stream",
     "text": [
      "Validation Loss: 0.06302226186385991\n",
      "---\n",
      "Training epoch 18\n"
     ]
    },
    {
     "name": "stderr",
     "output_type": "stream",
     "text": [
      "\n",
      "1386it [00:18, 74.17it/s] "
     ]
    },
    {
     "name": "stdout",
     "output_type": "stream",
     "text": [
      "\n",
      "Loss: 0.06250640811707446\n",
      "Last loss: 0.052922819455625054\n",
      "Validation epoch 18\n"
     ]
    },
    {
     "name": "stderr",
     "output_type": "stream",
     "text": [
      "\n",
      "347it [00:03, 105.33it/s]"
     ]
    },
    {
     "name": "stdout",
     "output_type": "stream",
     "text": [
      "Validation Loss: 0.06370813886098653\n",
      "---\n",
      "Training epoch 19\n"
     ]
    },
    {
     "name": "stderr",
     "output_type": "stream",
     "text": [
      "\n",
      "1386it [00:18, 75.08it/s] "
     ]
    },
    {
     "name": "stdout",
     "output_type": "stream",
     "text": [
      "\n",
      "Loss: 0.06258706473795364\n",
      "Last loss: 0.0645339884823496\n",
      "Validation epoch 19\n"
     ]
    },
    {
     "name": "stderr",
     "output_type": "stream",
     "text": [
      "\n",
      "347it [00:03, 98.24it/s] "
     ]
    },
    {
     "name": "stdout",
     "output_type": "stream",
     "text": [
      "Validation Loss: 0.06307249941219188\n",
      "---\n",
      "Training epoch 20\n"
     ]
    },
    {
     "name": "stderr",
     "output_type": "stream",
     "text": [
      "\n",
      "1386it [00:18, 75.14it/s]"
     ]
    },
    {
     "name": "stdout",
     "output_type": "stream",
     "text": [
      "\n",
      "Loss: 0.06252969020528419\n",
      "Last loss: 0.06351665184556363\n",
      "Validation epoch 20\n"
     ]
    },
    {
     "name": "stderr",
     "output_type": "stream",
     "text": [
      "\n",
      "347it [00:03, 105.32it/s]"
     ]
    },
    {
     "name": "stdout",
     "output_type": "stream",
     "text": [
      "Validation Loss: 0.06350888860201997\n",
      "---\n",
      "Training epoch 21\n"
     ]
    },
    {
     "name": "stderr",
     "output_type": "stream",
     "text": [
      "\n",
      "1386it [00:18, 76.27it/s] "
     ]
    },
    {
     "name": "stdout",
     "output_type": "stream",
     "text": [
      "\n",
      "Loss: 0.06240419766518786\n",
      "Last loss: 0.059292583611846736\n",
      "Validation epoch 21\n"
     ]
    },
    {
     "name": "stderr",
     "output_type": "stream",
     "text": [
      "\n",
      "347it [00:03, 100.77it/s]"
     ]
    },
    {
     "name": "stdout",
     "output_type": "stream",
     "text": [
      "Validation Loss: 0.06448135388736136\n",
      "---\n",
      "Training epoch 22\n"
     ]
    },
    {
     "name": "stderr",
     "output_type": "stream",
     "text": [
      "\n",
      "1386it [00:18, 74.48it/s]"
     ]
    },
    {
     "name": "stdout",
     "output_type": "stream",
     "text": [
      "\n",
      "Loss: 0.06237414036666496\n",
      "Last loss: 0.07804775591707301\n",
      "Validation epoch 22\n"
     ]
    },
    {
     "name": "stderr",
     "output_type": "stream",
     "text": [
      "\n",
      "347it [00:03, 107.49it/s]"
     ]
    },
    {
     "name": "stdout",
     "output_type": "stream",
     "text": [
      "Validation Loss: 0.06384177268187587\n",
      "---\n",
      "Training epoch 23\n"
     ]
    },
    {
     "name": "stderr",
     "output_type": "stream",
     "text": [
      "\n",
      "1386it [00:18, 75.32it/s]"
     ]
    },
    {
     "name": "stdout",
     "output_type": "stream",
     "text": [
      "\n",
      "Loss: 0.062349820784412056\n",
      "Last loss: 0.0494988720119923\n",
      "Validation epoch 23\n"
     ]
    },
    {
     "name": "stderr",
     "output_type": "stream",
     "text": [
      "\n",
      "347it [00:03, 104.40it/s]"
     ]
    },
    {
     "name": "stdout",
     "output_type": "stream",
     "text": [
      "Validation Loss: 0.06295830195087573\n",
      "---\n",
      "Training epoch 24\n"
     ]
    },
    {
     "name": "stderr",
     "output_type": "stream",
     "text": [
      "\n",
      "1386it [00:18, 74.96it/s]"
     ]
    },
    {
     "name": "stdout",
     "output_type": "stream",
     "text": [
      "\n",
      "Loss: 0.06226026443321138\n",
      "Last loss: 0.04674401459716568\n",
      "Validation epoch 24\n"
     ]
    },
    {
     "name": "stderr",
     "output_type": "stream",
     "text": [
      "\n",
      "347it [00:03, 106.05it/s]"
     ]
    },
    {
     "name": "stdout",
     "output_type": "stream",
     "text": [
      "Validation Loss: 0.06310382137572551\n",
      "---\n",
      "Training epoch 25\n"
     ]
    },
    {
     "name": "stderr",
     "output_type": "stream",
     "text": [
      "\n",
      "1386it [00:18, 75.76it/s]"
     ]
    },
    {
     "name": "stdout",
     "output_type": "stream",
     "text": [
      "\n",
      "Loss: 0.06226056897983898\n",
      "Last loss: 0.06688437071438719\n",
      "Validation epoch 25\n"
     ]
    },
    {
     "name": "stderr",
     "output_type": "stream",
     "text": [
      "\n",
      "347it [00:03, 106.89it/s]"
     ]
    },
    {
     "name": "stdout",
     "output_type": "stream",
     "text": [
      "Validation Loss: 0.06337910739798663\n",
      "---\n",
      "Training epoch 26\n"
     ]
    },
    {
     "name": "stderr",
     "output_type": "stream",
     "text": [
      "\n",
      "1386it [00:18, 74.00it/s]"
     ]
    },
    {
     "name": "stdout",
     "output_type": "stream",
     "text": [
      "\n",
      "Loss: 0.0623992802790703\n",
      "Last loss: 0.05255512174693727\n",
      "Validation epoch 26\n"
     ]
    },
    {
     "name": "stderr",
     "output_type": "stream",
     "text": [
      "\n",
      "347it [00:03, 95.53it/s] "
     ]
    },
    {
     "name": "stdout",
     "output_type": "stream",
     "text": [
      "Validation Loss: 0.06310013405757246\n",
      "---\n",
      "Training epoch 27\n"
     ]
    },
    {
     "name": "stderr",
     "output_type": "stream",
     "text": [
      "\n",
      "1386it [00:18, 73.66it/s] "
     ]
    },
    {
     "name": "stdout",
     "output_type": "stream",
     "text": [
      "\n",
      "Loss: 0.0622402847762702\n",
      "Last loss: 0.07028427153423643\n",
      "Validation epoch 27\n"
     ]
    },
    {
     "name": "stderr",
     "output_type": "stream",
     "text": [
      "\n",
      "347it [00:03, 102.71it/s]"
     ]
    },
    {
     "name": "stdout",
     "output_type": "stream",
     "text": [
      "Validation Loss: 0.0641945597150343\n",
      "---\n",
      "Training epoch 28\n"
     ]
    },
    {
     "name": "stderr",
     "output_type": "stream",
     "text": [
      "\n",
      "1386it [00:18, 76.39it/s]"
     ]
    },
    {
     "name": "stdout",
     "output_type": "stream",
     "text": [
      "\n",
      "Loss: 0.062255736447676215\n",
      "Last loss: 0.05717898073474969\n",
      "Validation epoch 28\n"
     ]
    },
    {
     "name": "stderr",
     "output_type": "stream",
     "text": [
      "\n",
      "347it [00:03, 101.80it/s]"
     ]
    },
    {
     "name": "stdout",
     "output_type": "stream",
     "text": [
      "Validation Loss: 0.0630906958572547\n",
      "---\n",
      "Training epoch 29\n"
     ]
    },
    {
     "name": "stderr",
     "output_type": "stream",
     "text": [
      "\n",
      "1386it [00:18, 74.13it/s]"
     ]
    },
    {
     "name": "stdout",
     "output_type": "stream",
     "text": [
      "\n",
      "Loss: 0.062260683536821335\n",
      "Last loss: 0.06452423926433945\n",
      "Validation epoch 29\n"
     ]
    },
    {
     "name": "stderr",
     "output_type": "stream",
     "text": [
      "\n",
      "347it [00:03, 93.64it/s] "
     ]
    },
    {
     "name": "stdout",
     "output_type": "stream",
     "text": [
      "Validation Loss: 0.0631954293222742\n",
      "---\n",
      "Training epoch 30\n"
     ]
    },
    {
     "name": "stderr",
     "output_type": "stream",
     "text": [
      "\n",
      "1386it [00:18, 74.87it/s] "
     ]
    },
    {
     "name": "stdout",
     "output_type": "stream",
     "text": [
      "\n",
      "Loss: 0.06213050748919813\n",
      "Last loss: 0.0633909712124501\n",
      "Validation epoch 30\n"
     ]
    },
    {
     "name": "stderr",
     "output_type": "stream",
     "text": [
      "\n",
      "347it [00:03, 99.58it/s] "
     ]
    },
    {
     "name": "stdout",
     "output_type": "stream",
     "text": [
      "Validation Loss: 0.06384186564743091\n",
      "---\n",
      "Training epoch 31\n"
     ]
    },
    {
     "name": "stderr",
     "output_type": "stream",
     "text": [
      "\n",
      "1386it [00:18, 74.58it/s]"
     ]
    },
    {
     "name": "stdout",
     "output_type": "stream",
     "text": [
      "\n",
      "Loss: 0.06210082875021388\n",
      "Last loss: 0.06024513312140755\n",
      "Validation epoch 31\n"
     ]
    },
    {
     "name": "stderr",
     "output_type": "stream",
     "text": [
      "\n",
      "347it [00:03, 100.78it/s]"
     ]
    },
    {
     "name": "stdout",
     "output_type": "stream",
     "text": [
      "Validation Loss: 0.06312715381831717\n",
      "---\n",
      "Training epoch 32\n"
     ]
    },
    {
     "name": "stderr",
     "output_type": "stream",
     "text": [
      "\n",
      "1386it [00:18, 76.37it/s]"
     ]
    },
    {
     "name": "stdout",
     "output_type": "stream",
     "text": [
      "\n",
      "Loss: 0.06214316082591614\n",
      "Last loss: 0.05447832404611624\n",
      "Validation epoch 32\n"
     ]
    },
    {
     "name": "stderr",
     "output_type": "stream",
     "text": [
      "\n",
      "347it [00:03, 99.88it/s] "
     ]
    },
    {
     "name": "stdout",
     "output_type": "stream",
     "text": [
      "Validation Loss: 0.0631209652696532\n",
      "---\n",
      "Training epoch 33\n"
     ]
    },
    {
     "name": "stderr",
     "output_type": "stream",
     "text": [
      "\n",
      "1386it [00:18, 74.38it/s]"
     ]
    },
    {
     "name": "stdout",
     "output_type": "stream",
     "text": [
      "\n",
      "Loss: 0.06203028916587501\n",
      "Last loss: 0.06638515010977056\n",
      "Validation epoch 33\n"
     ]
    },
    {
     "name": "stderr",
     "output_type": "stream",
     "text": [
      "\n",
      "347it [00:03, 105.68it/s]"
     ]
    },
    {
     "name": "stdout",
     "output_type": "stream",
     "text": [
      "Validation Loss: 0.06328439607197786\n",
      "---\n",
      "Training epoch 34\n"
     ]
    },
    {
     "name": "stderr",
     "output_type": "stream",
     "text": [
      "\n",
      "1386it [00:18, 75.86it/s]"
     ]
    },
    {
     "name": "stdout",
     "output_type": "stream",
     "text": [
      "\n",
      "Loss: 0.0620794722003435\n",
      "Last loss: 0.059628362590686705\n",
      "Validation epoch 34\n"
     ]
    },
    {
     "name": "stderr",
     "output_type": "stream",
     "text": [
      "\n",
      "347it [00:03, 97.44it/s] "
     ]
    },
    {
     "name": "stdout",
     "output_type": "stream",
     "text": [
      "Validation Loss: 0.06285230698607798\n",
      "---\n",
      "Training epoch 35\n"
     ]
    },
    {
     "name": "stderr",
     "output_type": "stream",
     "text": [
      "\n",
      "1386it [00:18, 73.17it/s]"
     ]
    },
    {
     "name": "stdout",
     "output_type": "stream",
     "text": [
      "\n",
      "Loss: 0.06202013088584411\n",
      "Last loss: 0.058683761362195615\n",
      "Validation epoch 35\n"
     ]
    },
    {
     "name": "stderr",
     "output_type": "stream",
     "text": [
      "\n",
      "347it [00:03, 103.53it/s]"
     ]
    },
    {
     "name": "stdout",
     "output_type": "stream",
     "text": [
      "Validation Loss: 0.06293485019999746\n",
      "---\n",
      "Training epoch 36\n"
     ]
    },
    {
     "name": "stderr",
     "output_type": "stream",
     "text": [
      "\n",
      "1386it [00:18, 74.11it/s]"
     ]
    },
    {
     "name": "stdout",
     "output_type": "stream",
     "text": [
      "\n",
      "Loss: 0.06203585295863103\n",
      "Last loss: 0.06351087083185411\n",
      "Validation epoch 36\n"
     ]
    },
    {
     "name": "stderr",
     "output_type": "stream",
     "text": [
      "\n",
      "347it [00:03, 100.89it/s]"
     ]
    },
    {
     "name": "stdout",
     "output_type": "stream",
     "text": [
      "Validation Loss: 0.06267967517906708\n",
      "---\n",
      "Training epoch 37\n"
     ]
    },
    {
     "name": "stderr",
     "output_type": "stream",
     "text": [
      "\n",
      "1386it [00:18, 73.67it/s] "
     ]
    },
    {
     "name": "stdout",
     "output_type": "stream",
     "text": [
      "\n",
      "Loss: 0.06184939649224934\n",
      "Last loss: 0.06781892349434365\n",
      "Validation epoch 37\n"
     ]
    },
    {
     "name": "stderr",
     "output_type": "stream",
     "text": [
      "\n",
      "347it [00:03, 103.94it/s]"
     ]
    },
    {
     "name": "stdout",
     "output_type": "stream",
     "text": [
      "Validation Loss: 0.06293293699478975\n",
      "---\n",
      "Training epoch 38\n"
     ]
    },
    {
     "name": "stderr",
     "output_type": "stream",
     "text": [
      "\n",
      "1386it [00:18, 74.68it/s] "
     ]
    },
    {
     "name": "stdout",
     "output_type": "stream",
     "text": [
      "\n",
      "Loss: 0.06197314499651791\n",
      "Last loss: 0.06391044662378843\n",
      "Validation epoch 38\n"
     ]
    },
    {
     "name": "stderr",
     "output_type": "stream",
     "text": [
      "\n",
      "347it [00:03, 100.67it/s]"
     ]
    },
    {
     "name": "stdout",
     "output_type": "stream",
     "text": [
      "Validation Loss: 0.0635466255425935\n",
      "---\n",
      "Training epoch 39\n"
     ]
    },
    {
     "name": "stderr",
     "output_type": "stream",
     "text": [
      "\n",
      "1386it [00:18, 74.91it/s] "
     ]
    },
    {
     "name": "stdout",
     "output_type": "stream",
     "text": [
      "\n",
      "Loss: 0.06188581078921255\n",
      "Last loss: 0.06510798164952114\n",
      "Validation epoch 39\n"
     ]
    },
    {
     "name": "stderr",
     "output_type": "stream",
     "text": [
      "\n",
      "347it [00:03, 104.35it/s]"
     ]
    },
    {
     "name": "stdout",
     "output_type": "stream",
     "text": [
      "Validation Loss: 0.06268855987930336\n",
      "---\n",
      "Training epoch 40\n"
     ]
    },
    {
     "name": "stderr",
     "output_type": "stream",
     "text": [
      "\n",
      "1386it [00:18, 76.09it/s] "
     ]
    },
    {
     "name": "stdout",
     "output_type": "stream",
     "text": [
      "\n",
      "Loss: 0.06189590065297143\n",
      "Last loss: 0.06683330448767662\n",
      "Validation epoch 40\n"
     ]
    },
    {
     "name": "stderr",
     "output_type": "stream",
     "text": [
      "\n",
      "347it [00:03, 101.80it/s]"
     ]
    },
    {
     "name": "stdout",
     "output_type": "stream",
     "text": [
      "Validation Loss: 0.06273605672367298\n",
      "---\n",
      "Training epoch 41\n"
     ]
    },
    {
     "name": "stderr",
     "output_type": "stream",
     "text": [
      "\n",
      "1386it [00:18, 75.02it/s]"
     ]
    },
    {
     "name": "stdout",
     "output_type": "stream",
     "text": [
      "\n",
      "Loss: 0.061793909955380345\n",
      "Last loss: 0.05166979268991013\n",
      "Validation epoch 41\n"
     ]
    },
    {
     "name": "stderr",
     "output_type": "stream",
     "text": [
      "\n",
      "347it [00:03, 107.09it/s]"
     ]
    },
    {
     "name": "stdout",
     "output_type": "stream",
     "text": [
      "Validation Loss: 0.06268703047596179\n",
      "---\n",
      "Training epoch 42\n"
     ]
    },
    {
     "name": "stderr",
     "output_type": "stream",
     "text": [
      "\n",
      "1386it [00:18, 74.75it/s]"
     ]
    },
    {
     "name": "stdout",
     "output_type": "stream",
     "text": [
      "\n",
      "Loss: 0.06184824084981453\n",
      "Last loss: 0.049655065465504314\n",
      "Validation epoch 42\n"
     ]
    },
    {
     "name": "stderr",
     "output_type": "stream",
     "text": [
      "\n",
      "347it [00:03, 106.02it/s]"
     ]
    },
    {
     "name": "stdout",
     "output_type": "stream",
     "text": [
      "Validation Loss: 0.06294218559822594\n",
      "---\n",
      "Training epoch 43\n"
     ]
    },
    {
     "name": "stderr",
     "output_type": "stream",
     "text": [
      "\n",
      "1386it [00:18, 75.60it/s]"
     ]
    },
    {
     "name": "stdout",
     "output_type": "stream",
     "text": [
      "\n",
      "Loss: 0.06171235627452128\n",
      "Last loss: 0.06206411678572288\n",
      "Validation epoch 43\n"
     ]
    },
    {
     "name": "stderr",
     "output_type": "stream",
     "text": [
      "\n",
      "347it [00:03, 103.06it/s]"
     ]
    },
    {
     "name": "stdout",
     "output_type": "stream",
     "text": [
      "Validation Loss: 0.06329557727825808\n",
      "---\n",
      "Training epoch 44\n"
     ]
    },
    {
     "name": "stderr",
     "output_type": "stream",
     "text": [
      "\n",
      "1386it [00:17, 77.94it/s]"
     ]
    },
    {
     "name": "stdout",
     "output_type": "stream",
     "text": [
      "\n",
      "Loss: 0.06173216951406864\n",
      "Last loss: 0.06279840608966988\n",
      "Validation epoch 44\n"
     ]
    },
    {
     "name": "stderr",
     "output_type": "stream",
     "text": [
      "\n",
      "347it [00:03, 107.44it/s]"
     ]
    },
    {
     "name": "stdout",
     "output_type": "stream",
     "text": [
      "Validation Loss: 0.06269804911048443\n",
      "---\n",
      "Training epoch 45\n"
     ]
    },
    {
     "name": "stderr",
     "output_type": "stream",
     "text": [
      "\n",
      "1386it [00:18, 75.57it/s] "
     ]
    },
    {
     "name": "stdout",
     "output_type": "stream",
     "text": [
      "\n",
      "Loss: 0.06166433023153681\n",
      "Last loss: 0.07909296130288644\n",
      "Validation epoch 45\n"
     ]
    },
    {
     "name": "stderr",
     "output_type": "stream",
     "text": [
      "\n",
      "347it [00:03, 106.97it/s]"
     ]
    },
    {
     "name": "stdout",
     "output_type": "stream",
     "text": [
      "Validation Loss: 0.0628212836643516\n",
      "---\n",
      "Training epoch 46\n"
     ]
    },
    {
     "name": "stderr",
     "output_type": "stream",
     "text": [
      "\n",
      "1386it [00:18, 75.31it/s]"
     ]
    },
    {
     "name": "stdout",
     "output_type": "stream",
     "text": [
      "\n",
      "Loss: 0.06166289007304072\n",
      "Last loss: 0.061152511308307074\n",
      "Validation epoch 46\n"
     ]
    },
    {
     "name": "stderr",
     "output_type": "stream",
     "text": [
      "\n",
      "347it [00:03, 103.04it/s]"
     ]
    },
    {
     "name": "stdout",
     "output_type": "stream",
     "text": [
      "Validation Loss: 0.06342624197030622\n",
      "---\n",
      "Training epoch 47\n"
     ]
    },
    {
     "name": "stderr",
     "output_type": "stream",
     "text": [
      "\n",
      "1386it [00:18, 73.19it/s]"
     ]
    },
    {
     "name": "stdout",
     "output_type": "stream",
     "text": [
      "\n",
      "Loss: 0.0616078776445286\n",
      "Last loss: 0.06802436277203394\n",
      "Validation epoch 47\n"
     ]
    },
    {
     "name": "stderr",
     "output_type": "stream",
     "text": [
      "\n",
      "347it [00:03, 100.33it/s]"
     ]
    },
    {
     "name": "stdout",
     "output_type": "stream",
     "text": [
      "Validation Loss: 0.06308520888289383\n",
      "---\n",
      "Training epoch 48\n"
     ]
    },
    {
     "name": "stderr",
     "output_type": "stream",
     "text": [
      "\n",
      "1386it [00:18, 74.70it/s]"
     ]
    },
    {
     "name": "stdout",
     "output_type": "stream",
     "text": [
      "\n",
      "Loss: 0.061712318708510225\n",
      "Last loss: 0.06127339596852125\n",
      "Validation epoch 48\n"
     ]
    },
    {
     "name": "stderr",
     "output_type": "stream",
     "text": [
      "\n",
      "347it [00:03, 107.27it/s]"
     ]
    },
    {
     "name": "stdout",
     "output_type": "stream",
     "text": [
      "Validation Loss: 0.06376190268938284\n",
      "---\n",
      "Training epoch 49\n"
     ]
    },
    {
     "name": "stderr",
     "output_type": "stream",
     "text": [
      "\n",
      "1386it [00:18, 75.53it/s]"
     ]
    },
    {
     "name": "stdout",
     "output_type": "stream",
     "text": [
      "\n",
      "Loss: 0.061622734567953016\n",
      "Last loss: 0.06664905616626042\n",
      "Validation epoch 49\n"
     ]
    },
    {
     "name": "stderr",
     "output_type": "stream",
     "text": [
      "\n",
      "347it [00:03, 106.98it/s]"
     ]
    },
    {
     "name": "stdout",
     "output_type": "stream",
     "text": [
      "Validation Loss: 0.06257973982103282\n",
      "---\n"
     ]
    },
    {
     "name": "stderr",
     "output_type": "stream",
     "text": [
      "\n"
     ]
    }
   ],
   "source": [
    "model = model\n",
    "learning_rate = 0.0008509005973164451\n",
    "optimizer = optim.Adam(model.parameters(), lr=learning_rate)\n",
    "epochs = 50\n",
    "loss_function = nn.MSELoss()\n",
    "train_loader = DataLoader(training, batch_size=32, shuffle=True, num_workers=os.cpu_count())\n",
    "test_loader = DataLoader(test, batch_size=32, shuffle=False, num_workers=os.cpu_count())\n",
    "for epoch in range(epochs):\n",
    "    print(f'Training epoch {epoch}')\n",
    "    one_epoch_train(model, train_loader, optimizer, loss_function, verbose=False)\n",
    "    print(f'Validation epoch {epoch}')\n",
    "    epoch_last_val_loss = one_epoch_eval(model, test_loader, loss_function, verbose=False)\n"
   ]
  },
  {
   "cell_type": "markdown",
   "id": "a8ad7f51",
   "metadata": {},
   "source": [
    "la loss è del training, validation è quella della validation\n",
    "Validation quando sale non ci piace più."
   ]
  },
  {
   "cell_type": "code",
   "execution_count": 13,
   "id": "b72ef767",
   "metadata": {},
   "outputs": [
    {
     "data": {
      "text/plain": [
       "50"
      ]
     },
     "execution_count": 13,
     "metadata": {},
     "output_type": "execute_result"
    }
   ],
   "source": [
    "model.loss_dict.keys()\n",
    "\n",
    "len(model.loss_dict['epoch'])\n"
   ]
  },
  {
   "cell_type": "code",
   "execution_count": 31,
   "id": "400f5c0b",
   "metadata": {},
   "outputs": [],
   "source": [
    "torch.set_printoptions(sci_mode=False)"
   ]
  },
  {
   "cell_type": "markdown",
   "id": "a6400900",
   "metadata": {},
   "source": [
    "# LABELING THE UNLABELED IMAGES"
   ]
  },
  {
   "cell_type": "markdown",
   "id": "05bd11e8",
   "metadata": {},
   "source": [
    "model.eval()\n",
    "   \n",
    "with torch.no_grad(): # deactivates gradient evaluation\n",
    "    for i, vdata in tqdm(enumerate(test_loader)):\n",
    "        inputs,labels, _ = vdata\n",
    "        inputs,labels= inputs.to(device), labels.to(device)\n",
    "        outputs = model(inputs)#, activation=F.relu)\n",
    "\n",
    "\n",
    "\n",
    "img_path = os.path.join(self.img_dir, str(self.img_labels.iloc[idx, 0])) + '.jpg' #retrieves the imageù\n",
    "img_path= '../data/test_old/100232.jpg'\n",
    "image = Image.open(img_path).convert('L')\n",
    "\n",
    "transform= transforms.Compose([\n",
    "    transforms.ToTensor(), # Riscala le immagini tra 0 e 1\n",
    "    transforms.CenterCrop(324),\n",
    "    transforms.Resize(128),\n",
    "])\n",
    "image = transform(image)  # Add batch dimension and move to device\n",
    "\n",
    "print(image.shape)"
   ]
  },
  {
   "cell_type": "markdown",
   "id": "cb6712cf",
   "metadata": {},
   "source": [
    "\n",
    "img_path = os.path.join('../test_old', str(img_labels.iloc[idx, 0])) + '.jpg'\n",
    "image = Image.open(img_path).convert('L')\n",
    "\n",
    "transform= transforms.Compose([\n",
    "    transforms.ToTensor(), # Riscala le immagini tra 0 e 1\n",
    "    transforms.CenterCrop(324),\n",
    "    transforms.Resize(128),\n",
    "])\n",
    "image = transform(image)  # Add batch dimension and move to device\n",
    "\n",
    "print(image.shape)\n",
    "model.eval()\n",
    "with torch.no_grad(): # deactivates gradient evaluation\n",
    "    image=image.unsqueeze(0).to(device)\n",
    "    outputs=model(image)\n",
    "\n",
    "print(outputs)\n",
    "\n",
    "labels= ['E0','E3','E6','S0a_eon','SB0a_eon','Scd_eon','SoB','SoA','SAa','SAb','SAc','SAd','SBa','SBb','SBc','SBd','A']\n",
    "df_out=pd.DataFrame(outputs.cpu().numpy(), columns=labels)\n",
    "print(df_out)"
   ]
  },
  {
   "cell_type": "code",
   "execution_count": 86,
   "id": "ebea2920",
   "metadata": {},
   "outputs": [
    {
     "data": {
      "text/html": [
       "<div>\n",
       "<style scoped>\n",
       "    .dataframe tbody tr th:only-of-type {\n",
       "        vertical-align: middle;\n",
       "    }\n",
       "\n",
       "    .dataframe tbody tr th {\n",
       "        vertical-align: top;\n",
       "    }\n",
       "\n",
       "    .dataframe thead th {\n",
       "        text-align: right;\n",
       "    }\n",
       "</style>\n",
       "<table border=\"1\" class=\"dataframe\">\n",
       "  <thead>\n",
       "    <tr style=\"text-align: right;\">\n",
       "      <th></th>\n",
       "      <th>Name</th>\n",
       "      <th>E0</th>\n",
       "      <th>E3</th>\n",
       "      <th>E6</th>\n",
       "      <th>S0a_eon</th>\n",
       "      <th>SB0a_eon</th>\n",
       "      <th>Scd_eon</th>\n",
       "      <th>SoB</th>\n",
       "      <th>SoA</th>\n",
       "      <th>SAa</th>\n",
       "      <th>SAb</th>\n",
       "      <th>SAc</th>\n",
       "      <th>SAd</th>\n",
       "      <th>SBa</th>\n",
       "      <th>SBb</th>\n",
       "      <th>SBc</th>\n",
       "      <th>SBd</th>\n",
       "      <th>A</th>\n",
       "      <th>final_labels</th>\n",
       "    </tr>\n",
       "  </thead>\n",
       "  <tbody>\n",
       "    <tr>\n",
       "      <th>1729</th>\n",
       "      <td>100078.jpg</td>\n",
       "      <td>0.464655</td>\n",
       "      <td>0.091942</td>\n",
       "      <td>0.000856</td>\n",
       "      <td>0.012567</td>\n",
       "      <td>0.000000</td>\n",
       "      <td>0.000217</td>\n",
       "      <td>0.028111</td>\n",
       "      <td>0.279394</td>\n",
       "      <td>0.012123</td>\n",
       "      <td>0.044611</td>\n",
       "      <td>0.018703</td>\n",
       "      <td>0.001055</td>\n",
       "      <td>0.001220</td>\n",
       "      <td>0.004488</td>\n",
       "      <td>0.001882</td>\n",
       "      <td>0.000106</td>\n",
       "      <td>0.025332</td>\n",
       "      <td>E0</td>\n",
       "    </tr>\n",
       "    <tr>\n",
       "      <th>5280</th>\n",
       "      <td>100128.jpg</td>\n",
       "      <td>0.636307</td>\n",
       "      <td>0.127252</td>\n",
       "      <td>0.000000</td>\n",
       "      <td>0.003772</td>\n",
       "      <td>0.000310</td>\n",
       "      <td>0.000000</td>\n",
       "      <td>0.012888</td>\n",
       "      <td>0.148794</td>\n",
       "      <td>0.005105</td>\n",
       "      <td>0.012472</td>\n",
       "      <td>0.006830</td>\n",
       "      <td>0.001878</td>\n",
       "      <td>0.000442</td>\n",
       "      <td>0.001080</td>\n",
       "      <td>0.000592</td>\n",
       "      <td>0.000163</td>\n",
       "      <td>0.038725</td>\n",
       "      <td>E0</td>\n",
       "    </tr>\n",
       "    <tr>\n",
       "      <th>4679</th>\n",
       "      <td>100143.jpg</td>\n",
       "      <td>0.000000</td>\n",
       "      <td>0.007974</td>\n",
       "      <td>0.118648</td>\n",
       "      <td>0.572754</td>\n",
       "      <td>0.144260</td>\n",
       "      <td>0.104311</td>\n",
       "      <td>0.013689</td>\n",
       "      <td>0.021367</td>\n",
       "      <td>0.002967</td>\n",
       "      <td>0.005889</td>\n",
       "      <td>0.005138</td>\n",
       "      <td>0.002547</td>\n",
       "      <td>0.001901</td>\n",
       "      <td>0.003773</td>\n",
       "      <td>0.003292</td>\n",
       "      <td>0.001632</td>\n",
       "      <td>0.005633</td>\n",
       "      <td>S0a_eon</td>\n",
       "    </tr>\n",
       "    <tr>\n",
       "      <th>128</th>\n",
       "      <td>100335.jpg</td>\n",
       "      <td>0.001162</td>\n",
       "      <td>0.082569</td>\n",
       "      <td>0.118097</td>\n",
       "      <td>0.023997</td>\n",
       "      <td>0.014627</td>\n",
       "      <td>0.117828</td>\n",
       "      <td>0.180499</td>\n",
       "      <td>0.126636</td>\n",
       "      <td>0.008122</td>\n",
       "      <td>0.007879</td>\n",
       "      <td>0.047847</td>\n",
       "      <td>0.064966</td>\n",
       "      <td>0.011577</td>\n",
       "      <td>0.011230</td>\n",
       "      <td>0.068199</td>\n",
       "      <td>0.092599</td>\n",
       "      <td>0.029378</td>\n",
       "      <td>SoB</td>\n",
       "    </tr>\n",
       "    <tr>\n",
       "      <th>153</th>\n",
       "      <td>100367.jpg</td>\n",
       "      <td>0.089447</td>\n",
       "      <td>0.490372</td>\n",
       "      <td>0.002527</td>\n",
       "      <td>0.017965</td>\n",
       "      <td>0.002555</td>\n",
       "      <td>0.006938</td>\n",
       "      <td>0.113717</td>\n",
       "      <td>0.160466</td>\n",
       "      <td>0.009653</td>\n",
       "      <td>0.029078</td>\n",
       "      <td>0.015172</td>\n",
       "      <td>0.002845</td>\n",
       "      <td>0.006841</td>\n",
       "      <td>0.020607</td>\n",
       "      <td>0.010752</td>\n",
       "      <td>0.002016</td>\n",
       "      <td>0.021128</td>\n",
       "      <td>E3</td>\n",
       "    </tr>\n",
       "    <tr>\n",
       "      <th>...</th>\n",
       "      <td>...</td>\n",
       "      <td>...</td>\n",
       "      <td>...</td>\n",
       "      <td>...</td>\n",
       "      <td>...</td>\n",
       "      <td>...</td>\n",
       "      <td>...</td>\n",
       "      <td>...</td>\n",
       "      <td>...</td>\n",
       "      <td>...</td>\n",
       "      <td>...</td>\n",
       "      <td>...</td>\n",
       "      <td>...</td>\n",
       "      <td>...</td>\n",
       "      <td>...</td>\n",
       "      <td>...</td>\n",
       "      <td>...</td>\n",
       "      <td>...</td>\n",
       "      <td>...</td>\n",
       "    </tr>\n",
       "    <tr>\n",
       "      <th>5849</th>\n",
       "      <td>998723.jpg</td>\n",
       "      <td>0.012276</td>\n",
       "      <td>0.264975</td>\n",
       "      <td>0.086866</td>\n",
       "      <td>0.078834</td>\n",
       "      <td>0.005024</td>\n",
       "      <td>0.024225</td>\n",
       "      <td>0.071169</td>\n",
       "      <td>0.237244</td>\n",
       "      <td>0.009846</td>\n",
       "      <td>0.069166</td>\n",
       "      <td>0.081092</td>\n",
       "      <td>0.007852</td>\n",
       "      <td>0.002954</td>\n",
       "      <td>0.020748</td>\n",
       "      <td>0.024326</td>\n",
       "      <td>0.002356</td>\n",
       "      <td>0.005489</td>\n",
       "      <td>E3</td>\n",
       "    </tr>\n",
       "    <tr>\n",
       "      <th>3377</th>\n",
       "      <td>998735.jpg</td>\n",
       "      <td>0.092654</td>\n",
       "      <td>0.196791</td>\n",
       "      <td>0.000000</td>\n",
       "      <td>0.023573</td>\n",
       "      <td>0.001071</td>\n",
       "      <td>0.003362</td>\n",
       "      <td>0.172584</td>\n",
       "      <td>0.161216</td>\n",
       "      <td>0.017255</td>\n",
       "      <td>0.090593</td>\n",
       "      <td>0.055645</td>\n",
       "      <td>0.002661</td>\n",
       "      <td>0.018471</td>\n",
       "      <td>0.096981</td>\n",
       "      <td>0.059568</td>\n",
       "      <td>0.002848</td>\n",
       "      <td>0.009410</td>\n",
       "      <td>E3</td>\n",
       "    </tr>\n",
       "    <tr>\n",
       "      <th>2708</th>\n",
       "      <td>999137.jpg</td>\n",
       "      <td>0.005973</td>\n",
       "      <td>0.000000</td>\n",
       "      <td>0.000000</td>\n",
       "      <td>0.027779</td>\n",
       "      <td>0.000000</td>\n",
       "      <td>0.006337</td>\n",
       "      <td>0.012745</td>\n",
       "      <td>0.008344</td>\n",
       "      <td>0.022701</td>\n",
       "      <td>0.160434</td>\n",
       "      <td>0.189193</td>\n",
       "      <td>0.019843</td>\n",
       "      <td>0.034674</td>\n",
       "      <td>0.245050</td>\n",
       "      <td>0.288976</td>\n",
       "      <td>0.030309</td>\n",
       "      <td>0.000000</td>\n",
       "      <td>SBc</td>\n",
       "    </tr>\n",
       "    <tr>\n",
       "      <th>5183</th>\n",
       "      <td>999569.jpg</td>\n",
       "      <td>0.082922</td>\n",
       "      <td>0.652412</td>\n",
       "      <td>0.000016</td>\n",
       "      <td>0.007581</td>\n",
       "      <td>0.000000</td>\n",
       "      <td>0.007945</td>\n",
       "      <td>0.016677</td>\n",
       "      <td>0.168443</td>\n",
       "      <td>0.009597</td>\n",
       "      <td>0.025383</td>\n",
       "      <td>0.011737</td>\n",
       "      <td>0.002764</td>\n",
       "      <td>0.000950</td>\n",
       "      <td>0.002513</td>\n",
       "      <td>0.001162</td>\n",
       "      <td>0.000274</td>\n",
       "      <td>0.021669</td>\n",
       "      <td>E3</td>\n",
       "    </tr>\n",
       "    <tr>\n",
       "      <th>4704</th>\n",
       "      <td>999875.jpg</td>\n",
       "      <td>0.000000</td>\n",
       "      <td>0.011155</td>\n",
       "      <td>0.142648</td>\n",
       "      <td>0.224378</td>\n",
       "      <td>0.057592</td>\n",
       "      <td>0.297698</td>\n",
       "      <td>0.018237</td>\n",
       "      <td>0.071643</td>\n",
       "      <td>0.010761</td>\n",
       "      <td>0.038224</td>\n",
       "      <td>0.073400</td>\n",
       "      <td>0.022353</td>\n",
       "      <td>0.002739</td>\n",
       "      <td>0.009730</td>\n",
       "      <td>0.018684</td>\n",
       "      <td>0.005690</td>\n",
       "      <td>0.004207</td>\n",
       "      <td>Scd_eon</td>\n",
       "    </tr>\n",
       "  </tbody>\n",
       "</table>\n",
       "<p>6158 rows × 19 columns</p>\n",
       "</div>"
      ],
      "text/plain": [
       "            Name        E0        E3        E6   S0a_eon  SB0a_eon   Scd_eon  \\\n",
       "1729  100078.jpg  0.464655  0.091942  0.000856  0.012567  0.000000  0.000217   \n",
       "5280  100128.jpg  0.636307  0.127252  0.000000  0.003772  0.000310  0.000000   \n",
       "4679  100143.jpg  0.000000  0.007974  0.118648  0.572754  0.144260  0.104311   \n",
       "128   100335.jpg  0.001162  0.082569  0.118097  0.023997  0.014627  0.117828   \n",
       "153   100367.jpg  0.089447  0.490372  0.002527  0.017965  0.002555  0.006938   \n",
       "...          ...       ...       ...       ...       ...       ...       ...   \n",
       "5849  998723.jpg  0.012276  0.264975  0.086866  0.078834  0.005024  0.024225   \n",
       "3377  998735.jpg  0.092654  0.196791  0.000000  0.023573  0.001071  0.003362   \n",
       "2708  999137.jpg  0.005973  0.000000  0.000000  0.027779  0.000000  0.006337   \n",
       "5183  999569.jpg  0.082922  0.652412  0.000016  0.007581  0.000000  0.007945   \n",
       "4704  999875.jpg  0.000000  0.011155  0.142648  0.224378  0.057592  0.297698   \n",
       "\n",
       "           SoB       SoA       SAa       SAb       SAc       SAd       SBa  \\\n",
       "1729  0.028111  0.279394  0.012123  0.044611  0.018703  0.001055  0.001220   \n",
       "5280  0.012888  0.148794  0.005105  0.012472  0.006830  0.001878  0.000442   \n",
       "4679  0.013689  0.021367  0.002967  0.005889  0.005138  0.002547  0.001901   \n",
       "128   0.180499  0.126636  0.008122  0.007879  0.047847  0.064966  0.011577   \n",
       "153   0.113717  0.160466  0.009653  0.029078  0.015172  0.002845  0.006841   \n",
       "...        ...       ...       ...       ...       ...       ...       ...   \n",
       "5849  0.071169  0.237244  0.009846  0.069166  0.081092  0.007852  0.002954   \n",
       "3377  0.172584  0.161216  0.017255  0.090593  0.055645  0.002661  0.018471   \n",
       "2708  0.012745  0.008344  0.022701  0.160434  0.189193  0.019843  0.034674   \n",
       "5183  0.016677  0.168443  0.009597  0.025383  0.011737  0.002764  0.000950   \n",
       "4704  0.018237  0.071643  0.010761  0.038224  0.073400  0.022353  0.002739   \n",
       "\n",
       "           SBb       SBc       SBd         A final_labels  \n",
       "1729  0.004488  0.001882  0.000106  0.025332           E0  \n",
       "5280  0.001080  0.000592  0.000163  0.038725           E0  \n",
       "4679  0.003773  0.003292  0.001632  0.005633      S0a_eon  \n",
       "128   0.011230  0.068199  0.092599  0.029378          SoB  \n",
       "153   0.020607  0.010752  0.002016  0.021128           E3  \n",
       "...        ...       ...       ...       ...          ...  \n",
       "5849  0.020748  0.024326  0.002356  0.005489           E3  \n",
       "3377  0.096981  0.059568  0.002848  0.009410           E3  \n",
       "2708  0.245050  0.288976  0.030309  0.000000          SBc  \n",
       "5183  0.002513  0.001162  0.000274  0.021669           E3  \n",
       "4704  0.009730  0.018684  0.005690  0.004207      Scd_eon  \n",
       "\n",
       "[6158 rows x 19 columns]"
      ]
     },
     "metadata": {},
     "output_type": "display_data"
    }
   ],
   "source": [
    "\n",
    "outs=[]\n",
    "names=[]\n",
    "transform= transforms.Compose([\n",
    "    transforms.ToTensor(), # Riscala le immagini tra 0 e 1\n",
    "    transforms.CenterCrop(324),\n",
    "    transforms.Resize(128),\n",
    "])\n",
    "\n",
    "j=0\n",
    "model.eval()\n",
    "# 'GalaxyID',\n",
    "labels= ['E0','E3','E6','S0a_eon','SB0a_eon','Scd_eon','SoB','SoA','SAa','SAb','SAc','SAd','SBa','SBb','SBc','SBd','A']\n",
    "for i in os.listdir('../data/test/'):\n",
    "    if i.endswith('.jpg'):\n",
    "        j+=1\n",
    "        img_path = os.path.join('../data/test/', i)\n",
    "        image = Image.open(img_path).convert('L')\n",
    "        #plt.imshow(image, cmap='gray')       \n",
    "        image = transform(image).unsqueeze(0).to(device)\n",
    "        with torch.no_grad():\n",
    "            outputs = model(image)\n",
    "            outs.append(outputs.cpu().numpy()[0])\n",
    "        names.append(i)\n",
    "        #if j==20: break\n",
    "\n",
    "df_out = pd.DataFrame(outs, columns=labels)\n",
    "\n",
    "#set negative values to zero\n",
    "df_out[df_out<0]=0\n",
    "\n",
    "#to get the final label\n",
    "finallbs=[]\n",
    "for i in range(len(df_out)):\n",
    "    finallbs.append(df_out.columns[np.argmax(df_out.iloc[i,:])])\n",
    "#print(finallbs)\n",
    "df_out['final_labels']=finallbs\n",
    "\n",
    "#name column and sort!\n",
    "df_out. insert(0, 'Name', names)\n",
    "df_out.sort_values('Name',inplace=True)\n",
    "\n",
    "display(df_out)\n"
   ]
  },
  {
   "cell_type": "markdown",
   "id": "574b0e9f",
   "metadata": {},
   "source": [
    "df.sort_values('Name',inplace=True)\n",
    "df"
   ]
  },
  {
   "cell_type": "markdown",
   "id": "5aecf21b",
   "metadata": {},
   "source": [
    "df=df.drop(columns='Name')\n",
    "finallbs=[]\n",
    "for i in range(len(df)):\n",
    "    finallbs.append(df.columns[np.argmax(df.iloc[i,:])])\n",
    "print(finallbs)\n"
   ]
  },
  {
   "cell_type": "markdown",
   "id": "74ac36ea",
   "metadata": {},
   "source": [
    "df['final_labels']=finallbs\n",
    "df.insert(0,'Name',names)"
   ]
  },
  {
   "cell_type": "markdown",
   "id": "a8d7b950",
   "metadata": {},
   "source": [
    "df.sort_values('Name', inplace=True)"
   ]
  },
  {
   "cell_type": "code",
   "execution_count": 87,
   "id": "16c33d16",
   "metadata": {},
   "outputs": [
    {
     "data": {
      "text/html": [
       "<div>\n",
       "<style scoped>\n",
       "    .dataframe tbody tr th:only-of-type {\n",
       "        vertical-align: middle;\n",
       "    }\n",
       "\n",
       "    .dataframe tbody tr th {\n",
       "        vertical-align: top;\n",
       "    }\n",
       "\n",
       "    .dataframe thead th {\n",
       "        text-align: right;\n",
       "    }\n",
       "</style>\n",
       "<table border=\"1\" class=\"dataframe\">\n",
       "  <thead>\n",
       "    <tr style=\"text-align: right;\">\n",
       "      <th></th>\n",
       "      <th>Name</th>\n",
       "      <th>E0</th>\n",
       "      <th>E3</th>\n",
       "      <th>E6</th>\n",
       "      <th>S0a_eon</th>\n",
       "      <th>SB0a_eon</th>\n",
       "      <th>Scd_eon</th>\n",
       "      <th>SoB</th>\n",
       "      <th>SoA</th>\n",
       "      <th>SAa</th>\n",
       "      <th>SAb</th>\n",
       "      <th>SAc</th>\n",
       "      <th>SAd</th>\n",
       "      <th>SBa</th>\n",
       "      <th>SBb</th>\n",
       "      <th>SBc</th>\n",
       "      <th>SBd</th>\n",
       "      <th>A</th>\n",
       "      <th>final_labels</th>\n",
       "    </tr>\n",
       "  </thead>\n",
       "  <tbody>\n",
       "    <tr>\n",
       "      <th>1729</th>\n",
       "      <td>100078.jpg</td>\n",
       "      <td>0.464655</td>\n",
       "      <td>0.091942</td>\n",
       "      <td>0.000856</td>\n",
       "      <td>0.012567</td>\n",
       "      <td>0.000000</td>\n",
       "      <td>0.000217</td>\n",
       "      <td>0.028111</td>\n",
       "      <td>0.279394</td>\n",
       "      <td>0.012123</td>\n",
       "      <td>0.044611</td>\n",
       "      <td>0.018703</td>\n",
       "      <td>0.001055</td>\n",
       "      <td>0.001220</td>\n",
       "      <td>0.004488</td>\n",
       "      <td>0.001882</td>\n",
       "      <td>0.000106</td>\n",
       "      <td>0.025332</td>\n",
       "      <td>E0</td>\n",
       "    </tr>\n",
       "    <tr>\n",
       "      <th>5280</th>\n",
       "      <td>100128.jpg</td>\n",
       "      <td>0.636307</td>\n",
       "      <td>0.127252</td>\n",
       "      <td>0.000000</td>\n",
       "      <td>0.003772</td>\n",
       "      <td>0.000310</td>\n",
       "      <td>0.000000</td>\n",
       "      <td>0.012888</td>\n",
       "      <td>0.148794</td>\n",
       "      <td>0.005105</td>\n",
       "      <td>0.012472</td>\n",
       "      <td>0.006830</td>\n",
       "      <td>0.001878</td>\n",
       "      <td>0.000442</td>\n",
       "      <td>0.001080</td>\n",
       "      <td>0.000592</td>\n",
       "      <td>0.000163</td>\n",
       "      <td>0.038725</td>\n",
       "      <td>E0</td>\n",
       "    </tr>\n",
       "    <tr>\n",
       "      <th>4679</th>\n",
       "      <td>100143.jpg</td>\n",
       "      <td>0.000000</td>\n",
       "      <td>0.007974</td>\n",
       "      <td>0.118648</td>\n",
       "      <td>0.572754</td>\n",
       "      <td>0.144260</td>\n",
       "      <td>0.104311</td>\n",
       "      <td>0.013689</td>\n",
       "      <td>0.021367</td>\n",
       "      <td>0.002967</td>\n",
       "      <td>0.005889</td>\n",
       "      <td>0.005138</td>\n",
       "      <td>0.002547</td>\n",
       "      <td>0.001901</td>\n",
       "      <td>0.003773</td>\n",
       "      <td>0.003292</td>\n",
       "      <td>0.001632</td>\n",
       "      <td>0.005633</td>\n",
       "      <td>S0a_eon</td>\n",
       "    </tr>\n",
       "    <tr>\n",
       "      <th>128</th>\n",
       "      <td>100335.jpg</td>\n",
       "      <td>0.001162</td>\n",
       "      <td>0.082569</td>\n",
       "      <td>0.118097</td>\n",
       "      <td>0.023997</td>\n",
       "      <td>0.014627</td>\n",
       "      <td>0.117828</td>\n",
       "      <td>0.180499</td>\n",
       "      <td>0.126636</td>\n",
       "      <td>0.008122</td>\n",
       "      <td>0.007879</td>\n",
       "      <td>0.047847</td>\n",
       "      <td>0.064966</td>\n",
       "      <td>0.011577</td>\n",
       "      <td>0.011230</td>\n",
       "      <td>0.068199</td>\n",
       "      <td>0.092599</td>\n",
       "      <td>0.029378</td>\n",
       "      <td>SoB</td>\n",
       "    </tr>\n",
       "    <tr>\n",
       "      <th>153</th>\n",
       "      <td>100367.jpg</td>\n",
       "      <td>0.089447</td>\n",
       "      <td>0.490372</td>\n",
       "      <td>0.002527</td>\n",
       "      <td>0.017965</td>\n",
       "      <td>0.002555</td>\n",
       "      <td>0.006938</td>\n",
       "      <td>0.113717</td>\n",
       "      <td>0.160466</td>\n",
       "      <td>0.009653</td>\n",
       "      <td>0.029078</td>\n",
       "      <td>0.015172</td>\n",
       "      <td>0.002845</td>\n",
       "      <td>0.006841</td>\n",
       "      <td>0.020607</td>\n",
       "      <td>0.010752</td>\n",
       "      <td>0.002016</td>\n",
       "      <td>0.021128</td>\n",
       "      <td>E3</td>\n",
       "    </tr>\n",
       "    <tr>\n",
       "      <th>...</th>\n",
       "      <td>...</td>\n",
       "      <td>...</td>\n",
       "      <td>...</td>\n",
       "      <td>...</td>\n",
       "      <td>...</td>\n",
       "      <td>...</td>\n",
       "      <td>...</td>\n",
       "      <td>...</td>\n",
       "      <td>...</td>\n",
       "      <td>...</td>\n",
       "      <td>...</td>\n",
       "      <td>...</td>\n",
       "      <td>...</td>\n",
       "      <td>...</td>\n",
       "      <td>...</td>\n",
       "      <td>...</td>\n",
       "      <td>...</td>\n",
       "      <td>...</td>\n",
       "      <td>...</td>\n",
       "    </tr>\n",
       "    <tr>\n",
       "      <th>5849</th>\n",
       "      <td>998723.jpg</td>\n",
       "      <td>0.012276</td>\n",
       "      <td>0.264975</td>\n",
       "      <td>0.086866</td>\n",
       "      <td>0.078834</td>\n",
       "      <td>0.005024</td>\n",
       "      <td>0.024225</td>\n",
       "      <td>0.071169</td>\n",
       "      <td>0.237244</td>\n",
       "      <td>0.009846</td>\n",
       "      <td>0.069166</td>\n",
       "      <td>0.081092</td>\n",
       "      <td>0.007852</td>\n",
       "      <td>0.002954</td>\n",
       "      <td>0.020748</td>\n",
       "      <td>0.024326</td>\n",
       "      <td>0.002356</td>\n",
       "      <td>0.005489</td>\n",
       "      <td>E3</td>\n",
       "    </tr>\n",
       "    <tr>\n",
       "      <th>3377</th>\n",
       "      <td>998735.jpg</td>\n",
       "      <td>0.092654</td>\n",
       "      <td>0.196791</td>\n",
       "      <td>0.000000</td>\n",
       "      <td>0.023573</td>\n",
       "      <td>0.001071</td>\n",
       "      <td>0.003362</td>\n",
       "      <td>0.172584</td>\n",
       "      <td>0.161216</td>\n",
       "      <td>0.017255</td>\n",
       "      <td>0.090593</td>\n",
       "      <td>0.055645</td>\n",
       "      <td>0.002661</td>\n",
       "      <td>0.018471</td>\n",
       "      <td>0.096981</td>\n",
       "      <td>0.059568</td>\n",
       "      <td>0.002848</td>\n",
       "      <td>0.009410</td>\n",
       "      <td>E3</td>\n",
       "    </tr>\n",
       "    <tr>\n",
       "      <th>2708</th>\n",
       "      <td>999137.jpg</td>\n",
       "      <td>0.005973</td>\n",
       "      <td>0.000000</td>\n",
       "      <td>0.000000</td>\n",
       "      <td>0.027779</td>\n",
       "      <td>0.000000</td>\n",
       "      <td>0.006337</td>\n",
       "      <td>0.012745</td>\n",
       "      <td>0.008344</td>\n",
       "      <td>0.022701</td>\n",
       "      <td>0.160434</td>\n",
       "      <td>0.189193</td>\n",
       "      <td>0.019843</td>\n",
       "      <td>0.034674</td>\n",
       "      <td>0.245050</td>\n",
       "      <td>0.288976</td>\n",
       "      <td>0.030309</td>\n",
       "      <td>0.000000</td>\n",
       "      <td>SBc</td>\n",
       "    </tr>\n",
       "    <tr>\n",
       "      <th>5183</th>\n",
       "      <td>999569.jpg</td>\n",
       "      <td>0.082922</td>\n",
       "      <td>0.652412</td>\n",
       "      <td>0.000016</td>\n",
       "      <td>0.007581</td>\n",
       "      <td>0.000000</td>\n",
       "      <td>0.007945</td>\n",
       "      <td>0.016677</td>\n",
       "      <td>0.168443</td>\n",
       "      <td>0.009597</td>\n",
       "      <td>0.025383</td>\n",
       "      <td>0.011737</td>\n",
       "      <td>0.002764</td>\n",
       "      <td>0.000950</td>\n",
       "      <td>0.002513</td>\n",
       "      <td>0.001162</td>\n",
       "      <td>0.000274</td>\n",
       "      <td>0.021669</td>\n",
       "      <td>E3</td>\n",
       "    </tr>\n",
       "    <tr>\n",
       "      <th>4704</th>\n",
       "      <td>999875.jpg</td>\n",
       "      <td>0.000000</td>\n",
       "      <td>0.011155</td>\n",
       "      <td>0.142648</td>\n",
       "      <td>0.224378</td>\n",
       "      <td>0.057592</td>\n",
       "      <td>0.297698</td>\n",
       "      <td>0.018237</td>\n",
       "      <td>0.071643</td>\n",
       "      <td>0.010761</td>\n",
       "      <td>0.038224</td>\n",
       "      <td>0.073400</td>\n",
       "      <td>0.022353</td>\n",
       "      <td>0.002739</td>\n",
       "      <td>0.009730</td>\n",
       "      <td>0.018684</td>\n",
       "      <td>0.005690</td>\n",
       "      <td>0.004207</td>\n",
       "      <td>Scd_eon</td>\n",
       "    </tr>\n",
       "  </tbody>\n",
       "</table>\n",
       "<p>6158 rows × 19 columns</p>\n",
       "</div>"
      ],
      "text/plain": [
       "            Name        E0        E3        E6   S0a_eon  SB0a_eon   Scd_eon  \\\n",
       "1729  100078.jpg  0.464655  0.091942  0.000856  0.012567  0.000000  0.000217   \n",
       "5280  100128.jpg  0.636307  0.127252  0.000000  0.003772  0.000310  0.000000   \n",
       "4679  100143.jpg  0.000000  0.007974  0.118648  0.572754  0.144260  0.104311   \n",
       "128   100335.jpg  0.001162  0.082569  0.118097  0.023997  0.014627  0.117828   \n",
       "153   100367.jpg  0.089447  0.490372  0.002527  0.017965  0.002555  0.006938   \n",
       "...          ...       ...       ...       ...       ...       ...       ...   \n",
       "5849  998723.jpg  0.012276  0.264975  0.086866  0.078834  0.005024  0.024225   \n",
       "3377  998735.jpg  0.092654  0.196791  0.000000  0.023573  0.001071  0.003362   \n",
       "2708  999137.jpg  0.005973  0.000000  0.000000  0.027779  0.000000  0.006337   \n",
       "5183  999569.jpg  0.082922  0.652412  0.000016  0.007581  0.000000  0.007945   \n",
       "4704  999875.jpg  0.000000  0.011155  0.142648  0.224378  0.057592  0.297698   \n",
       "\n",
       "           SoB       SoA       SAa       SAb       SAc       SAd       SBa  \\\n",
       "1729  0.028111  0.279394  0.012123  0.044611  0.018703  0.001055  0.001220   \n",
       "5280  0.012888  0.148794  0.005105  0.012472  0.006830  0.001878  0.000442   \n",
       "4679  0.013689  0.021367  0.002967  0.005889  0.005138  0.002547  0.001901   \n",
       "128   0.180499  0.126636  0.008122  0.007879  0.047847  0.064966  0.011577   \n",
       "153   0.113717  0.160466  0.009653  0.029078  0.015172  0.002845  0.006841   \n",
       "...        ...       ...       ...       ...       ...       ...       ...   \n",
       "5849  0.071169  0.237244  0.009846  0.069166  0.081092  0.007852  0.002954   \n",
       "3377  0.172584  0.161216  0.017255  0.090593  0.055645  0.002661  0.018471   \n",
       "2708  0.012745  0.008344  0.022701  0.160434  0.189193  0.019843  0.034674   \n",
       "5183  0.016677  0.168443  0.009597  0.025383  0.011737  0.002764  0.000950   \n",
       "4704  0.018237  0.071643  0.010761  0.038224  0.073400  0.022353  0.002739   \n",
       "\n",
       "           SBb       SBc       SBd         A final_labels  \n",
       "1729  0.004488  0.001882  0.000106  0.025332           E0  \n",
       "5280  0.001080  0.000592  0.000163  0.038725           E0  \n",
       "4679  0.003773  0.003292  0.001632  0.005633      S0a_eon  \n",
       "128   0.011230  0.068199  0.092599  0.029378          SoB  \n",
       "153   0.020607  0.010752  0.002016  0.021128           E3  \n",
       "...        ...       ...       ...       ...          ...  \n",
       "5849  0.020748  0.024326  0.002356  0.005489           E3  \n",
       "3377  0.096981  0.059568  0.002848  0.009410           E3  \n",
       "2708  0.245050  0.288976  0.030309  0.000000          SBc  \n",
       "5183  0.002513  0.001162  0.000274  0.021669           E3  \n",
       "4704  0.009730  0.018684  0.005690  0.004207      Scd_eon  \n",
       "\n",
       "[6158 rows x 19 columns]"
      ]
     },
     "execution_count": 87,
     "metadata": {},
     "output_type": "execute_result"
    }
   ],
   "source": [
    "df_out"
   ]
  },
  {
   "cell_type": "code",
   "execution_count": 88,
   "id": "43a9aa23",
   "metadata": {},
   "outputs": [],
   "source": [
    "df_out.to_csv('../data/test_old/galaxyjungle_test_gio.csv', index=False)"
   ]
  },
  {
   "cell_type": "markdown",
   "id": "b1b4167e",
   "metadata": {},
   "source": [
    "# OPTUNA DASHBOARD\n"
   ]
  },
  {
   "cell_type": "code",
   "execution_count": null,
   "id": "a2ce6f83",
   "metadata": {},
   "outputs": [],
   "source": [
    "#optuna.logging.get_logger(\"optuna\").addHandler(logging.StreamHandler(sys.stdout))\n",
    "study_name = \"InverseJagZooNet\"\n",
    "storage_name = \"sqlite:///{}.db\".format(study_name)\n",
    "\n",
    "from optuna_dashboard import run_server\n",
    "run_server(storage_name)"
   ]
  },
  {
   "cell_type": "code",
   "execution_count": null,
   "id": "b2bc1b55",
   "metadata": {},
   "outputs": [],
   "source": [
    "optuna.logging.get_logger(\"optuna\").addHandler(logging.StreamHandler(sys.stdout))\n",
    "study_name = \"JAGZooNet\"\n",
    "storage_name = \"sqlite:///{}.db\".format(study_name)\n",
    "study = optuna.create_study(direction='minimize', study_name=study_name, storage=storage_name, load_if_exists=True)\n",
    "study.optimize(objective, n_trials=1)"
   ]
  }
 ],
 "metadata": {
  "kernelspec": {
   "display_name": "ambiente",
   "language": "python",
   "name": "ambiente"
  },
  "language_info": {
   "codemirror_mode": {
    "name": "ipython",
    "version": 3
   },
   "file_extension": ".py",
   "mimetype": "text/x-python",
   "name": "python",
   "nbconvert_exporter": "python",
   "pygments_lexer": "ipython3",
   "version": "3.12.3"
  }
 },
 "nbformat": 4,
 "nbformat_minor": 5
}
