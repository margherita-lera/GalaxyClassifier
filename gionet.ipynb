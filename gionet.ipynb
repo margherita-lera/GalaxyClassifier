{
 "cells": [
  {
   "cell_type": "code",
   "execution_count": 1,
   "id": "3c831bcd",
   "metadata": {},
   "outputs": [
    {
     "name": "stdout",
     "output_type": "stream",
     "text": [
      "cuda\n"
     ]
    }
   ],
   "source": [
    "import optuna\n",
    "from tqdm import tqdm\n",
    "import logging\n",
    "import sys\n",
    "import torch\n",
    "import os\n",
    "from datetime import datetime\n",
    "import pandas as pd\n",
    "import numpy as np\n",
    "import torch.nn as nn\n",
    "import torch.nn.functional as F\n",
    "import torch.optim as optim\n",
    "#import torch.utils.data\n",
    "#from torchvision import datasets\n",
    "from torchvision import transforms\n",
    "import matplotlib.pyplot as plt\n",
    "from torch.utils.data import random_split, Dataset, DataLoader\n",
    "from PIL import Image\n",
    "import zookeeper as zk  # convool_size & mappy\n",
    "import pickle  # for artifact, maybe not useful\n",
    "\n",
    "device = torch.device('cuda' if torch.cuda.is_available() else 'cpu')\n",
    "print(device)"
   ]
  },
  {
   "cell_type": "markdown",
   "id": "4fa971be",
   "metadata": {},
   "source": [
    "import shutil\n",
    "    \n",
    "data = pd.read_csv('../data/og/training_solutions_rev1.csv')\n",
    "test = data.sample(frac=.1)\n",
    "train = data.drop(test.index)\n",
    "train.reset_index(drop=True, inplace=True)\n",
    "test.reset_index(drop=True, inplace=True)\n",
    "train.to_csv('../data/training/training_solutions_rev1.csv', index_label=False)\n",
    "test.to_csv('../data/test/test_solutions_rev1.csv', index_label=False)\n",
    "\n",
    "for image in (train.GalaxyID.astype('string') + '.jpg').values:\n",
    "    shutil.move(os.path.join('../data/og/', image), os.path.join('../data/training/', image))\n",
    "\n",
    "for image in (test.GalaxyID.astype('string') + '.jpg').values:\n",
    "    shutil.move(os.path.join('../data/og/', image), os.path.join('../data/test/', image))"
   ]
  },
  {
   "cell_type": "markdown",
   "id": "3c0c70a1",
   "metadata": {},
   "source": [
    "train.head()"
   ]
  },
  {
   "cell_type": "markdown",
   "id": "45c175bb",
   "metadata": {},
   "source": [
    "\n",
    "pd.read_csv('../data/test/test_solutions_rev1.csv').shape[0] + pd.read_csv('../data/training/training_solutions_rev1.csv').shape[0]"
   ]
  },
  {
   "cell_type": "markdown",
   "id": "41f15060",
   "metadata": {},
   "source": [
    "### Define Dataset function"
   ]
  },
  {
   "cell_type": "code",
   "execution_count": 4,
   "id": "4cac3c28",
   "metadata": {},
   "outputs": [],
   "source": [
    "class GalaxyJungle(Dataset):\n",
    "    \n",
    "    #the init function initializes the directory containing the image,\n",
    "    #the annotations file,\n",
    "    #and both transforms\n",
    "    def __init__(self, annotations_file, img_dir, transform=None, target_transform=None, is_rgb=False):\n",
    "        self.rgb = is_rgb\n",
    "        self.img_labels = pd.read_csv(annotations_file)\n",
    "        self.img_dir = img_dir\n",
    "        self.transform = transform\n",
    "        self.target_transform = target_transform\n",
    "\n",
    "    #returns number of samples in the dataset\n",
    "    def __len__(self):\n",
    "        return (self.img_labels).shape[0]\n",
    "\n",
    "    #loads a sample from the dataset\n",
    "    def __getitem__(self, idx):\n",
    "        img_path = os.path.join(self.img_dir, str(self.img_labels.iloc[idx, 0])) + '.jpg'\n",
    "        #retrieves the image\n",
    "        image = Image.open(img_path)\n",
    "        if not self.rgb: image = image.convert('L')\n",
    "        #retrieves corresponding label\n",
    "        label = self.img_labels.iloc[idx, 1:]\n",
    "        #if possible, transform the image and the label into a tensor.\n",
    "        if self.transform:\n",
    "            image = self.transform(image)#.type(torch.float16)\n",
    "        label = torch.tensor(label.values, dtype=torch.float32)\n",
    "        if self.target_transform:\n",
    "            label = self.target_transform(label)\n",
    "        return image, label, self.img_labels.iloc[idx, 0]\n",
    "    \n",
    "\n",
    "transfs = transforms.Compose([\n",
    "    transforms.ToTensor(), # Riscala le immagini tra 0 e 1\n",
    "    transforms.CenterCrop(324),\n",
    "    transforms.Resize(128),\n",
    "    transforms.RandomRotation(180)\n",
    "    ])"
   ]
  },
  {
   "cell_type": "markdown",
   "id": "c0592f53",
   "metadata": {},
   "source": [
    "## NEURAL NETWORK"
   ]
  },
  {
   "cell_type": "code",
   "execution_count": 5,
   "id": "1d162ebf",
   "metadata": {},
   "outputs": [],
   "source": [
    "class GalaxyNet(nn.Module):\n",
    "    def __init__(self, activation, initialization=False, is_rgb=False):\n",
    "        super().__init__()\n",
    "        \n",
    "        rgb = 3 if is_rgb else 1\n",
    "        input_size = 128\n",
    "        num_labels = 37\n",
    "        \n",
    "        self.loss_dict = {'batch' : [], 'epoch' : [], 'vbatch' : [], 'vepoch' : []}\n",
    "        self.activation = activation\n",
    "\n",
    "        \n",
    "        ## convolutional layers\n",
    "        self.convs = nn.Sequential(\n",
    "            nn.Conv2d(rgb, 16, 3, bias=False),\n",
    "            self.activation(),\n",
    "            nn.BatchNorm2d(16),\n",
    "\n",
    "            nn.MaxPool2d(2),\n",
    "            \n",
    "            nn.Conv2d(16, 16, 3, bias=False),\n",
    "            self.activation(),\n",
    "            nn.BatchNorm2d(16),\n",
    "\n",
    "            nn.MaxPool2d(2),\n",
    "\n",
    "            nn.Conv2d(16, 32, 3, bias=False),\n",
    "            self.activation(),\n",
    "            nn.BatchNorm2d(32),\n",
    "\n",
    "            nn.MaxPool2d(2),\n",
    "\n",
    "            nn.Conv2d(32, 64, 3, bias=False),\n",
    "            self.activation(),\n",
    "            nn.BatchNorm2d(64),\n",
    "\n",
    "            nn.MaxPool2d(2),\n",
    "\n",
    "            nn.Conv2d(64, 128, 3, bias=False),\n",
    "            self.activation(),\n",
    "            nn.BatchNorm2d(128),            \n",
    "\n",
    "            nn.MaxPool2d(2)\n",
    "            )\n",
    "\n",
    "        for layer in self.convs:\n",
    "            if layer.__class__.__name__ == 'Conv2d': input_size = zk.convool_size(input_size, 3, 1)\n",
    "            elif layer.__class__.__name__ == 'MaxPool2d': input_size = zk.convool_size(input_size, 2, 2)\n",
    "\n",
    "        if input_size < 2: raise ValueError('You shrank too much dude.')\n",
    "        print(f'Convs output size: {input_size}')\n",
    "\n",
    "        input_linear = 128 * input_size * input_size\n",
    "        \n",
    "        self.fc = nn.Sequential(\n",
    "            nn.Flatten(),\n",
    "            nn.Linear(input_linear, 100),\n",
    "            self.activation(),\n",
    "            nn.Linear(100, num_labels)\n",
    "            )\n",
    "        \n",
    "        if initialization: self.init_weights()\n",
    "\n",
    "\n",
    "\n",
    "    def forward(self, x):\n",
    "        x = self.convs(x)\n",
    "        x = self.fc(x)\n",
    "        return x\n",
    "\n",
    "\n",
    "\n",
    "    def init_weights(self):\n",
    "        if self.activation == nn.ReLU:\n",
    "            nonlin = 'relu'\n",
    "            a = 0\n",
    "        elif self.activation == nn.LeakyReLU:\n",
    "            nonlin = 'leaky_relu'\n",
    "            a = .01\n",
    "        \n",
    "        # Init convolutional parameters\n",
    "        for layer in self.convs: \n",
    "            if layer.__class__.__name__ == 'Conv2d': nn.init.kaiming_normal_(layer.weight, a=a, nonlinearity=nonlin)\n",
    "        \n",
    "\n",
    "        # Init linear parameters\n",
    "        for i in (1, -1): nn.init.constant_(self.fc[i].bias, 0)\n",
    "        nn.init.kaiming_normal_(self.fc[1].weight, a=a, nonlinearity=nonlin)\n",
    "        nn.init.xavier_uniform_(self.fc[-1].weight)      \n",
    "        \n",
    "\n",
    "\n",
    "    def log_the_loss(self, item,epoch=False): # per avere una history della loss???\n",
    "        verbose=False\n",
    "        train = self.__getstate__()['training']\n",
    "        if verbose: print(train)\n",
    "        if epoch and train:\n",
    "            self.loss_dict['epoch'].append(item) ### get state of the model so you can ditch the validation parameter\n",
    "        elif not epoch and train:\n",
    "            self.loss_dict['batch'].append(item)\n",
    "        elif not train and epoch:\n",
    "            self.loss_dict['vepoch'].append(item)\n",
    "        elif not train and not epoch:\n",
    "            self.loss_dict['vbatch'].append(item)\n",
    "        return item"
   ]
  },
  {
   "cell_type": "markdown",
   "id": "a357637a",
   "metadata": {},
   "source": [
    "## TRAINING + VALIDATION"
   ]
  },
  {
   "cell_type": "code",
   "execution_count": 40,
   "id": "e8aedbce",
   "metadata": {},
   "outputs": [],
   "source": [
    "def one_epoch_train(model, train_loader, optimizer, loss_function, verbose=False):\n",
    "    running_loss = 0\n",
    "    model.train()\n",
    "    for i, data in tqdm(enumerate(train_loader)):\n",
    "        inputs,labels, _ = data\n",
    "        inputs,labels = inputs.to(device), labels.to(device)\n",
    "        optimizer.zero_grad()\n",
    "        outputs = model(inputs)\n",
    "        loss=loss_function(outputs, labels)\n",
    "        loss.backward()\n",
    "        optimizer.step() # fa update del parameter\n",
    "        RMSEloss = np.sqrt(loss.item())\n",
    "        running_loss += RMSEloss\n",
    "        if verbose and i%10 ==0: print(f'Batch {i+1}/{len(train_loader)} - Loss: {RMSEloss:.3f}')\n",
    "\n",
    "        model.log_the_loss(RMSEloss, epoch=False)\n",
    "    epochmean_loss = running_loss / len(train_loader)\n",
    "    print(f'\\nLoss: {epochmean_loss}')\n",
    "    model.log_the_loss(epochmean_loss, epoch=True)\n",
    "    last_loss = RMSEloss\n",
    "    print(f\"Last loss: {last_loss}\")\n",
    "    return epochmean_loss\n",
    "\n",
    "\n",
    "\n",
    "def one_epoch_eval(model, test_loader, loss_function, verbose=False):\n",
    "    model.eval()\n",
    "    running_validation_loss = 0.\n",
    "   \n",
    "    with torch.no_grad(): # deactivates gradient evaluation\n",
    "        for i, vdata in tqdm(enumerate(test_loader)):\n",
    "            inputs,labels, _ = vdata\n",
    "            inputs,labels= inputs.to(device), labels.to(device)\n",
    "            outputs = model(inputs)#, activation=F.relu)\n",
    "            loss = loss_function(outputs ,labels)\n",
    "            RMSEloss = np.sqrt(loss.item())\n",
    "            running_validation_loss +=RMSEloss\n",
    "            model.log_the_loss(RMSEloss,epoch=False)\n",
    "    mean_vloss=model.log_the_loss(running_validation_loss / len(test_loader),epoch=True)\n",
    "    print(f\"Validation Loss: {mean_vloss}\\n---\")\n",
    "    return mean_vloss"
   ]
  },
  {
   "cell_type": "markdown",
   "id": "6590107b",
   "metadata": {},
   "source": [
    "## OPTUNA\n"
   ]
  },
  {
   "cell_type": "code",
   "execution_count": 41,
   "id": "3343a0af",
   "metadata": {},
   "outputs": [],
   "source": [
    "DS = GalaxyJungle('../data/training/training_solutions_rev1.csv', '../data/training/', transfs)\n",
    "training, test = random_split(DS, [.8, .2])\n",
    "\n",
    "artifact_store = optuna.artifacts.FileSystemArtifactStore(base_path='./artifacts')\n",
    "\n",
    "def objective(trial:optuna.Trial):\n",
    "    epochs = 50\n",
    "    loss_function = nn.MSELoss()\n",
    "    train_loader = DataLoader(training, batch_size=32, shuffle=True, num_workers=os.cpu_count())\n",
    "    test_loader = DataLoader(test, batch_size=32, shuffle=False, num_workers=os.cpu_count())    \n",
    "    \n",
    "    # Trial choices\n",
    "    activation = trial.suggest_categorical(\"activation\", ['ReLU', 'LeakyReLU'])\n",
    "    optimizer = trial.suggest_categorical(\"optimizer\", ['Adam', 'SGD', 'AdamW', 'RMSprop', 'Adagrad', 'NAdam']) #AdamW è suggerito per CNN.\n",
    "    learning_rate = trial.suggest_float(\"learning_rate\", 1e-5, 1e-1, log=True) #log true cerca i valori in scala logaritmica\n",
    "    momentum = trial.suggest_float(\"momentum\", 0.5, 0.9, step=0.1) #per SGD\n",
    "    initialization = trial.suggest_categorical('init weight', [True, False])\n",
    "    \n",
    "    # Training phase\n",
    "    activation = getattr(nn, activation)\n",
    "    model = GalaxyNet(activation, initialization).to(device)\n",
    "    if optimizer in ('SGD', \"RMSprop\"): optimizer = getattr(optim, optimizer)(model.parameters(), lr=learning_rate, momentum = momentum)\n",
    "    else: optimizer = getattr(optim, optimizer)(model.parameters(), lr=learning_rate)\n",
    "    \n",
    "    \n",
    "    for epoch in range(epochs):\n",
    "        print(f'Training epoch {epoch}')\n",
    "        one_epoch_train(model, train_loader, optimizer, loss_function, verbose=False)\n",
    "\n",
    "        print(f'Validation epoch {epoch}')\n",
    "        epoch_last_val_loss = one_epoch_eval(model, test_loader, loss_function, verbose=False)\n",
    "        trial.report(epoch_last_val_loss, epoch)\n",
    "\n",
    "\n",
    "        if trial.should_prune(): raise optuna.TrialPruned()\n",
    "\n",
    "    with open('model.pickle', 'wb') as fout: pickle.dump(model, fout)\n",
    "    art_id = optuna.artifacts.upload_artifact(artifact_store=artifact_store, file_path='model.pickle', study_or_trial=trial.study)\n",
    "    trial.set_user_attr('artifact_id', art_id)\n",
    "\n",
    "    \n",
    "    return epoch_last_val_loss"
   ]
  },
  {
   "cell_type": "code",
   "execution_count": 42,
   "id": "e9b544c6",
   "metadata": {},
   "outputs": [
    {
     "name": "stderr",
     "output_type": "stream",
     "text": [
      "[I 2025-05-22 16:14:11,745] A new study created in RDB with name: JAGZooNet\n"
     ]
    },
    {
     "name": "stdout",
     "output_type": "stream",
     "text": [
      "A new study created in RDB with name: JAGZooNet\n",
      "A new study created in RDB with name: JAGZooNet\n",
      "A new study created in RDB with name: JAGZooNet\n",
      "A new study created in RDB with name: JAGZooNet\n",
      "A new study created in RDB with name: JAGZooNet\n",
      "Convs output size: 2\n",
      "Training epoch 0\n"
     ]
    },
    {
     "name": "stderr",
     "output_type": "stream",
     "text": [
      "1386it [00:54, 25.35it/s]"
     ]
    },
    {
     "name": "stdout",
     "output_type": "stream",
     "text": [
      "\n",
      "Loss: 0.29175342888752726\n",
      "Last loss: 0.19072424775146632\n",
      "Validation epoch 0\n"
     ]
    },
    {
     "name": "stderr",
     "output_type": "stream",
     "text": [
      "\n",
      "347it [00:13, 24.82it/s]"
     ]
    },
    {
     "name": "stdout",
     "output_type": "stream",
     "text": [
      "Validation Loss: 0.1833262158622338\n",
      "---\n",
      "Training epoch 1\n"
     ]
    },
    {
     "name": "stderr",
     "output_type": "stream",
     "text": [
      "\n",
      "1386it [00:53, 25.83it/s]"
     ]
    },
    {
     "name": "stdout",
     "output_type": "stream",
     "text": [
      "\n",
      "Loss: 0.16886460035312867\n",
      "Last loss: 0.15607346456376758\n",
      "Validation epoch 1\n"
     ]
    },
    {
     "name": "stderr",
     "output_type": "stream",
     "text": [
      "\n",
      "347it [00:13, 24.81it/s]"
     ]
    },
    {
     "name": "stdout",
     "output_type": "stream",
     "text": [
      "Validation Loss: 0.1644279374721887\n",
      "---\n",
      "Training epoch 2\n"
     ]
    },
    {
     "name": "stderr",
     "output_type": "stream",
     "text": [
      "\n",
      "1386it [00:51, 26.96it/s]"
     ]
    },
    {
     "name": "stdout",
     "output_type": "stream",
     "text": [
      "\n",
      "Loss: 0.16268904557464592\n",
      "Last loss: 0.15585490581252362\n",
      "Validation epoch 2\n"
     ]
    },
    {
     "name": "stderr",
     "output_type": "stream",
     "text": [
      "\n",
      "347it [00:12, 28.73it/s]"
     ]
    },
    {
     "name": "stdout",
     "output_type": "stream",
     "text": [
      "Validation Loss: 0.16139866507807085\n",
      "---\n",
      "Training epoch 3\n"
     ]
    },
    {
     "name": "stderr",
     "output_type": "stream",
     "text": [
      "\n",
      "1386it [00:50, 27.56it/s]"
     ]
    },
    {
     "name": "stdout",
     "output_type": "stream",
     "text": [
      "\n",
      "Loss: 0.15888403400445372\n",
      "Last loss: 0.15773990892524759\n",
      "Validation epoch 3\n"
     ]
    },
    {
     "name": "stderr",
     "output_type": "stream",
     "text": [
      "\n",
      "347it [00:14, 24.33it/s]"
     ]
    },
    {
     "name": "stdout",
     "output_type": "stream",
     "text": [
      "Validation Loss: 0.15616983044172777\n",
      "---\n",
      "Training epoch 4\n"
     ]
    },
    {
     "name": "stderr",
     "output_type": "stream",
     "text": [
      "\n",
      "1386it [00:54, 25.63it/s]"
     ]
    },
    {
     "name": "stdout",
     "output_type": "stream",
     "text": [
      "\n",
      "Loss: 0.15050927165194972\n",
      "Last loss: 0.1530766038417045\n",
      "Validation epoch 4\n"
     ]
    },
    {
     "name": "stderr",
     "output_type": "stream",
     "text": [
      "\n",
      "347it [00:14, 24.36it/s]"
     ]
    },
    {
     "name": "stdout",
     "output_type": "stream",
     "text": [
      "Validation Loss: 0.14365694941012047\n",
      "---\n",
      "Training epoch 5\n"
     ]
    },
    {
     "name": "stderr",
     "output_type": "stream",
     "text": [
      "\n",
      "1386it [00:56, 24.41it/s]"
     ]
    },
    {
     "name": "stdout",
     "output_type": "stream",
     "text": [
      "\n",
      "Loss: 0.13848894717167268\n",
      "Last loss: 0.15272462745450283\n",
      "Validation epoch 5\n"
     ]
    },
    {
     "name": "stderr",
     "output_type": "stream",
     "text": [
      "\n",
      "347it [00:12, 28.83it/s]"
     ]
    },
    {
     "name": "stdout",
     "output_type": "stream",
     "text": [
      "Validation Loss: 0.13465304486330018\n",
      "---\n",
      "Training epoch 6\n"
     ]
    },
    {
     "name": "stderr",
     "output_type": "stream",
     "text": [
      "\n",
      "1386it [00:49, 27.78it/s]"
     ]
    },
    {
     "name": "stdout",
     "output_type": "stream",
     "text": [
      "\n",
      "Loss: 0.1326099990409554\n",
      "Last loss: 0.12601624832188357\n",
      "Validation epoch 6\n"
     ]
    },
    {
     "name": "stderr",
     "output_type": "stream",
     "text": [
      "\n",
      "347it [00:14, 24.52it/s]"
     ]
    },
    {
     "name": "stdout",
     "output_type": "stream",
     "text": [
      "Validation Loss: 0.13240186585343408\n",
      "---\n",
      "Training epoch 7\n"
     ]
    },
    {
     "name": "stderr",
     "output_type": "stream",
     "text": [
      "\n",
      "1386it [00:50, 27.32it/s]"
     ]
    },
    {
     "name": "stdout",
     "output_type": "stream",
     "text": [
      "\n",
      "Loss: 0.1291576139120692\n",
      "Last loss: 0.11030673914339499\n",
      "Validation epoch 7\n"
     ]
    },
    {
     "name": "stderr",
     "output_type": "stream",
     "text": [
      "\n",
      "347it [00:11, 29.08it/s]\n"
     ]
    },
    {
     "name": "stdout",
     "output_type": "stream",
     "text": [
      "Validation Loss: 0.12678670720245533\n",
      "---\n",
      "Training epoch 8\n"
     ]
    },
    {
     "name": "stderr",
     "output_type": "stream",
     "text": [
      "1386it [00:50, 27.70it/s]"
     ]
    },
    {
     "name": "stdout",
     "output_type": "stream",
     "text": [
      "\n",
      "Loss: 0.1261935109052163\n",
      "Last loss: 0.1333524024137292\n",
      "Validation epoch 8\n"
     ]
    },
    {
     "name": "stderr",
     "output_type": "stream",
     "text": [
      "\n",
      "347it [00:11, 29.10it/s]\n"
     ]
    },
    {
     "name": "stdout",
     "output_type": "stream",
     "text": [
      "Validation Loss: 0.12388610388035806\n",
      "---\n",
      "Training epoch 9\n"
     ]
    },
    {
     "name": "stderr",
     "output_type": "stream",
     "text": [
      "1386it [00:49, 27.84it/s]"
     ]
    },
    {
     "name": "stdout",
     "output_type": "stream",
     "text": [
      "\n",
      "Loss: 0.12354637748307964\n",
      "Last loss: 0.11687889392888799\n",
      "Validation epoch 9\n"
     ]
    },
    {
     "name": "stderr",
     "output_type": "stream",
     "text": [
      "\n",
      "347it [00:12, 28.63it/s]\n"
     ]
    },
    {
     "name": "stdout",
     "output_type": "stream",
     "text": [
      "Validation Loss: 0.12228022774487472\n",
      "---\n",
      "Training epoch 10\n"
     ]
    },
    {
     "name": "stderr",
     "output_type": "stream",
     "text": [
      "1386it [00:49, 28.17it/s]"
     ]
    },
    {
     "name": "stdout",
     "output_type": "stream",
     "text": [
      "\n",
      "Loss: 0.12127079467847271\n",
      "Last loss: 0.1452261932493943\n",
      "Validation epoch 10\n"
     ]
    },
    {
     "name": "stderr",
     "output_type": "stream",
     "text": [
      "\n",
      "347it [00:11, 29.39it/s]"
     ]
    },
    {
     "name": "stdout",
     "output_type": "stream",
     "text": [
      "Validation Loss: 0.11949961192626904\n",
      "---\n",
      "Training epoch 11\n"
     ]
    },
    {
     "name": "stderr",
     "output_type": "stream",
     "text": [
      "\n",
      "1386it [00:51, 26.98it/s]"
     ]
    },
    {
     "name": "stdout",
     "output_type": "stream",
     "text": [
      "\n",
      "Loss: 0.11908749320948597\n",
      "Last loss: 0.12020051206041912\n",
      "Validation epoch 11\n"
     ]
    },
    {
     "name": "stderr",
     "output_type": "stream",
     "text": [
      "\n",
      "347it [00:11, 29.02it/s]"
     ]
    },
    {
     "name": "stdout",
     "output_type": "stream",
     "text": [
      "Validation Loss: 0.11721539262175533\n",
      "---\n",
      "Training epoch 12\n"
     ]
    },
    {
     "name": "stderr",
     "output_type": "stream",
     "text": [
      "\n",
      "1386it [00:48, 28.32it/s]"
     ]
    },
    {
     "name": "stdout",
     "output_type": "stream",
     "text": [
      "\n",
      "Loss: 0.117229389705333\n",
      "Last loss: 0.11202314579619298\n",
      "Validation epoch 12\n"
     ]
    },
    {
     "name": "stderr",
     "output_type": "stream",
     "text": [
      "\n",
      "347it [00:12, 28.91it/s]"
     ]
    },
    {
     "name": "stdout",
     "output_type": "stream",
     "text": [
      "Validation Loss: 0.11568141882979867\n",
      "---\n",
      "Training epoch 13\n"
     ]
    },
    {
     "name": "stderr",
     "output_type": "stream",
     "text": [
      "\n",
      "1386it [00:50, 27.63it/s]"
     ]
    },
    {
     "name": "stdout",
     "output_type": "stream",
     "text": [
      "\n",
      "Loss: 0.11566486936589085\n",
      "Last loss: 0.10316764625266947\n",
      "Validation epoch 13\n"
     ]
    },
    {
     "name": "stderr",
     "output_type": "stream",
     "text": [
      "\n",
      "347it [00:11, 29.06it/s]\n"
     ]
    },
    {
     "name": "stdout",
     "output_type": "stream",
     "text": [
      "Validation Loss: 0.11368132582207416\n",
      "---\n",
      "Training epoch 14\n"
     ]
    },
    {
     "name": "stderr",
     "output_type": "stream",
     "text": [
      "1386it [00:49, 28.19it/s]"
     ]
    },
    {
     "name": "stdout",
     "output_type": "stream",
     "text": [
      "\n",
      "Loss: 0.1143537281731328\n",
      "Last loss: 0.10729771287634551\n",
      "Validation epoch 14\n"
     ]
    },
    {
     "name": "stderr",
     "output_type": "stream",
     "text": [
      "\n",
      "347it [00:12, 28.87it/s]"
     ]
    },
    {
     "name": "stdout",
     "output_type": "stream",
     "text": [
      "Validation Loss: 0.11365234090687308\n",
      "---\n",
      "Training epoch 15\n"
     ]
    },
    {
     "name": "stderr",
     "output_type": "stream",
     "text": [
      "\n",
      "1386it [00:50, 27.37it/s]"
     ]
    },
    {
     "name": "stdout",
     "output_type": "stream",
     "text": [
      "\n",
      "Loss: 0.113203491025928\n",
      "Last loss: 0.11578951887830068\n",
      "Validation epoch 15\n"
     ]
    },
    {
     "name": "stderr",
     "output_type": "stream",
     "text": [
      "\n",
      "347it [00:12, 28.19it/s]\n"
     ]
    },
    {
     "name": "stdout",
     "output_type": "stream",
     "text": [
      "Validation Loss: 0.1121015299167292\n",
      "---\n",
      "Training epoch 16\n"
     ]
    },
    {
     "name": "stderr",
     "output_type": "stream",
     "text": [
      "1386it [00:50, 27.37it/s]"
     ]
    },
    {
     "name": "stdout",
     "output_type": "stream",
     "text": [
      "\n",
      "Loss: 0.11217997257531623\n",
      "Last loss: 0.10273253489974943\n",
      "Validation epoch 16\n"
     ]
    },
    {
     "name": "stderr",
     "output_type": "stream",
     "text": [
      "\n",
      "347it [00:11, 29.19it/s]"
     ]
    },
    {
     "name": "stdout",
     "output_type": "stream",
     "text": [
      "Validation Loss: 0.11109137126533979\n",
      "---\n",
      "Training epoch 17\n"
     ]
    },
    {
     "name": "stderr",
     "output_type": "stream",
     "text": [
      "\n",
      "1386it [00:49, 28.04it/s]"
     ]
    },
    {
     "name": "stdout",
     "output_type": "stream",
     "text": [
      "\n",
      "Loss: 0.11149816241385559\n",
      "Last loss: 0.12233414177417412\n",
      "Validation epoch 17\n"
     ]
    },
    {
     "name": "stderr",
     "output_type": "stream",
     "text": [
      "\n",
      "347it [00:12, 28.79it/s]\n"
     ]
    },
    {
     "name": "stdout",
     "output_type": "stream",
     "text": [
      "Validation Loss: 0.11070952512384617\n",
      "---\n",
      "Training epoch 18\n"
     ]
    },
    {
     "name": "stderr",
     "output_type": "stream",
     "text": [
      "1386it [00:48, 28.39it/s]"
     ]
    },
    {
     "name": "stdout",
     "output_type": "stream",
     "text": [
      "\n",
      "Loss: 0.11061706585572575\n",
      "Last loss: 0.10027055926440365\n",
      "Validation epoch 18\n"
     ]
    },
    {
     "name": "stderr",
     "output_type": "stream",
     "text": [
      "\n",
      "347it [00:11, 28.96it/s]"
     ]
    },
    {
     "name": "stdout",
     "output_type": "stream",
     "text": [
      "Validation Loss: 0.10948602101902626\n",
      "---\n",
      "Training epoch 19\n"
     ]
    },
    {
     "name": "stderr",
     "output_type": "stream",
     "text": [
      "\n",
      "1386it [00:47, 29.24it/s]"
     ]
    },
    {
     "name": "stdout",
     "output_type": "stream",
     "text": [
      "\n",
      "Loss: 0.10998347242829268\n",
      "Last loss: 0.11054715402520758\n",
      "Validation epoch 19\n"
     ]
    },
    {
     "name": "stderr",
     "output_type": "stream",
     "text": [
      "\n",
      "347it [00:12, 28.85it/s]"
     ]
    },
    {
     "name": "stdout",
     "output_type": "stream",
     "text": [
      "Validation Loss: 0.11014866794886628\n",
      "---\n",
      "Training epoch 20\n"
     ]
    },
    {
     "name": "stderr",
     "output_type": "stream",
     "text": [
      "\n",
      "1386it [00:48, 28.50it/s]"
     ]
    },
    {
     "name": "stdout",
     "output_type": "stream",
     "text": [
      "\n",
      "Loss: 0.10910235460001345\n",
      "Last loss: 0.12060619848239074\n",
      "Validation epoch 20\n"
     ]
    },
    {
     "name": "stderr",
     "output_type": "stream",
     "text": [
      "\n",
      "347it [00:12, 27.81it/s]"
     ]
    },
    {
     "name": "stdout",
     "output_type": "stream",
     "text": [
      "Validation Loss: 0.10950242355412496\n",
      "---\n",
      "Training epoch 21\n"
     ]
    },
    {
     "name": "stderr",
     "output_type": "stream",
     "text": [
      "\n",
      "1386it [00:52, 26.42it/s]"
     ]
    },
    {
     "name": "stdout",
     "output_type": "stream",
     "text": [
      "\n",
      "Loss: 0.10878219199138854\n",
      "Last loss: 0.11667835176723096\n",
      "Validation epoch 21\n"
     ]
    },
    {
     "name": "stderr",
     "output_type": "stream",
     "text": [
      "\n",
      "347it [00:11, 29.01it/s]\n"
     ]
    },
    {
     "name": "stdout",
     "output_type": "stream",
     "text": [
      "Validation Loss: 0.10768012287098068\n",
      "---\n",
      "Training epoch 22\n"
     ]
    },
    {
     "name": "stderr",
     "output_type": "stream",
     "text": [
      "1386it [00:49, 28.25it/s]"
     ]
    },
    {
     "name": "stdout",
     "output_type": "stream",
     "text": [
      "\n",
      "Loss: 0.10826217051639146\n",
      "Last loss: 0.10323324464970432\n",
      "Validation epoch 22\n"
     ]
    },
    {
     "name": "stderr",
     "output_type": "stream",
     "text": [
      "\n",
      "347it [00:11, 29.11it/s]"
     ]
    },
    {
     "name": "stdout",
     "output_type": "stream",
     "text": [
      "Validation Loss: 0.10743523765797955\n",
      "---\n",
      "Training epoch 23\n"
     ]
    },
    {
     "name": "stderr",
     "output_type": "stream",
     "text": [
      "\n",
      "1386it [01:01, 22.63it/s]"
     ]
    },
    {
     "name": "stdout",
     "output_type": "stream",
     "text": [
      "\n",
      "Loss: 0.10768549968984246\n",
      "Last loss: 0.11437846196125691\n",
      "Validation epoch 23\n"
     ]
    },
    {
     "name": "stderr",
     "output_type": "stream",
     "text": [
      "\n",
      "347it [00:13, 26.12it/s]"
     ]
    },
    {
     "name": "stdout",
     "output_type": "stream",
     "text": [
      "Validation Loss: 0.10722243241607378\n",
      "---\n",
      "Training epoch 24\n"
     ]
    },
    {
     "name": "stderr",
     "output_type": "stream",
     "text": [
      "\n",
      "1386it [00:54, 25.47it/s]"
     ]
    },
    {
     "name": "stdout",
     "output_type": "stream",
     "text": [
      "\n",
      "Loss: 0.10727545807435665\n",
      "Last loss: 0.13317624237541958\n",
      "Validation epoch 24\n"
     ]
    },
    {
     "name": "stderr",
     "output_type": "stream",
     "text": [
      "\n",
      "347it [00:11, 30.40it/s]"
     ]
    },
    {
     "name": "stdout",
     "output_type": "stream",
     "text": [
      "Validation Loss: 0.10610762738449923\n",
      "---\n",
      "Training epoch 25\n"
     ]
    },
    {
     "name": "stderr",
     "output_type": "stream",
     "text": [
      "\n",
      "1386it [00:50, 27.53it/s]"
     ]
    },
    {
     "name": "stdout",
     "output_type": "stream",
     "text": [
      "\n",
      "Loss: 0.10677591165023075\n",
      "Last loss: 0.11527256413655372\n",
      "Validation epoch 25\n"
     ]
    },
    {
     "name": "stderr",
     "output_type": "stream",
     "text": [
      "\n",
      "347it [00:11, 30.05it/s]"
     ]
    },
    {
     "name": "stdout",
     "output_type": "stream",
     "text": [
      "Validation Loss: 0.10608844302024\n",
      "---\n",
      "Training epoch 26\n"
     ]
    },
    {
     "name": "stderr",
     "output_type": "stream",
     "text": [
      "\n",
      "1386it [01:03, 21.79it/s]"
     ]
    },
    {
     "name": "stdout",
     "output_type": "stream",
     "text": [
      "\n",
      "Loss: 0.10628302239795892\n",
      "Last loss: 0.09825451699579953\n",
      "Validation epoch 26\n"
     ]
    },
    {
     "name": "stderr",
     "output_type": "stream",
     "text": [
      "\n",
      "347it [00:16, 20.97it/s]"
     ]
    },
    {
     "name": "stdout",
     "output_type": "stream",
     "text": [
      "Validation Loss: 0.10545139219674582\n",
      "---\n",
      "Training epoch 27\n"
     ]
    },
    {
     "name": "stderr",
     "output_type": "stream",
     "text": [
      "\n",
      "1386it [01:12, 19.11it/s]"
     ]
    },
    {
     "name": "stdout",
     "output_type": "stream",
     "text": [
      "\n",
      "Loss: 0.10580235013041622\n",
      "Last loss: 0.10563138061499788\n",
      "Validation epoch 27\n"
     ]
    },
    {
     "name": "stderr",
     "output_type": "stream",
     "text": [
      "\n",
      "347it [00:12, 28.76it/s]"
     ]
    },
    {
     "name": "stdout",
     "output_type": "stream",
     "text": [
      "Validation Loss: 0.10477823710690037\n",
      "---\n",
      "Training epoch 28\n"
     ]
    },
    {
     "name": "stderr",
     "output_type": "stream",
     "text": [
      "\n",
      "1386it [00:49, 28.13it/s]"
     ]
    },
    {
     "name": "stdout",
     "output_type": "stream",
     "text": [
      "\n",
      "Loss: 0.1054265250039724\n",
      "Last loss: 0.12202995014475257\n",
      "Validation epoch 28\n"
     ]
    },
    {
     "name": "stderr",
     "output_type": "stream",
     "text": [
      "\n",
      "347it [00:12, 28.72it/s]"
     ]
    },
    {
     "name": "stdout",
     "output_type": "stream",
     "text": [
      "Validation Loss: 0.10540912400064498\n",
      "---\n",
      "Training epoch 29\n"
     ]
    },
    {
     "name": "stderr",
     "output_type": "stream",
     "text": [
      "\n",
      "1386it [00:49, 28.22it/s]"
     ]
    },
    {
     "name": "stdout",
     "output_type": "stream",
     "text": [
      "\n",
      "Loss: 0.10495068025028928\n",
      "Last loss: 0.11838491545094317\n",
      "Validation epoch 29\n"
     ]
    },
    {
     "name": "stderr",
     "output_type": "stream",
     "text": [
      "\n",
      "347it [00:12, 28.86it/s]"
     ]
    },
    {
     "name": "stdout",
     "output_type": "stream",
     "text": [
      "Validation Loss: 0.10430842880346063\n",
      "---\n",
      "Training epoch 30\n"
     ]
    },
    {
     "name": "stderr",
     "output_type": "stream",
     "text": [
      "\n",
      "1386it [00:49, 28.21it/s]"
     ]
    },
    {
     "name": "stdout",
     "output_type": "stream",
     "text": [
      "\n",
      "Loss: 0.10495923941007385\n",
      "Last loss: 0.1075550121281138\n",
      "Validation epoch 30\n"
     ]
    },
    {
     "name": "stderr",
     "output_type": "stream",
     "text": [
      "\n",
      "347it [00:11, 28.98it/s]"
     ]
    },
    {
     "name": "stdout",
     "output_type": "stream",
     "text": [
      "Validation Loss: 0.10405474593890753\n",
      "---\n",
      "Training epoch 31\n"
     ]
    },
    {
     "name": "stderr",
     "output_type": "stream",
     "text": [
      "\n",
      "1386it [00:51, 26.86it/s]"
     ]
    },
    {
     "name": "stdout",
     "output_type": "stream",
     "text": [
      "\n",
      "Loss: 0.10453633016254996\n",
      "Last loss: 0.12740868480854997\n",
      "Validation epoch 31\n"
     ]
    },
    {
     "name": "stderr",
     "output_type": "stream",
     "text": [
      "\n",
      "347it [00:12, 28.83it/s]"
     ]
    },
    {
     "name": "stdout",
     "output_type": "stream",
     "text": [
      "Validation Loss: 0.10355791009316803\n",
      "---\n",
      "Training epoch 32\n"
     ]
    },
    {
     "name": "stderr",
     "output_type": "stream",
     "text": [
      "\n",
      "1386it [00:53, 26.05it/s]"
     ]
    },
    {
     "name": "stdout",
     "output_type": "stream",
     "text": [
      "\n",
      "Loss: 0.10433043225405457\n",
      "Last loss: 0.10156613581825229\n",
      "Validation epoch 32\n"
     ]
    },
    {
     "name": "stderr",
     "output_type": "stream",
     "text": [
      "\n",
      "347it [00:12, 27.23it/s]"
     ]
    },
    {
     "name": "stdout",
     "output_type": "stream",
     "text": [
      "Validation Loss: 0.10340081011976703\n",
      "---\n",
      "Training epoch 33\n"
     ]
    },
    {
     "name": "stderr",
     "output_type": "stream",
     "text": [
      "\n",
      "1386it [00:49, 28.19it/s]"
     ]
    },
    {
     "name": "stdout",
     "output_type": "stream",
     "text": [
      "\n",
      "Loss: 0.10382521921196447\n",
      "Last loss: 0.10725265525929964\n",
      "Validation epoch 33\n"
     ]
    },
    {
     "name": "stderr",
     "output_type": "stream",
     "text": [
      "\n",
      "347it [00:11, 29.28it/s]"
     ]
    },
    {
     "name": "stdout",
     "output_type": "stream",
     "text": [
      "Validation Loss: 0.10318489663414747\n",
      "---\n",
      "Training epoch 34\n"
     ]
    },
    {
     "name": "stderr",
     "output_type": "stream",
     "text": [
      "\n",
      "1386it [00:48, 28.35it/s]"
     ]
    },
    {
     "name": "stdout",
     "output_type": "stream",
     "text": [
      "\n",
      "Loss: 0.10361410636262297\n",
      "Last loss: 0.10423526640905285\n",
      "Validation epoch 34\n"
     ]
    },
    {
     "name": "stderr",
     "output_type": "stream",
     "text": [
      "\n",
      "347it [00:13, 25.09it/s]"
     ]
    },
    {
     "name": "stdout",
     "output_type": "stream",
     "text": [
      "Validation Loss: 0.10298402101919858\n",
      "---\n",
      "Training epoch 35\n"
     ]
    },
    {
     "name": "stderr",
     "output_type": "stream",
     "text": [
      "\n",
      "1386it [00:50, 27.56it/s]"
     ]
    },
    {
     "name": "stdout",
     "output_type": "stream",
     "text": [
      "\n",
      "Loss: 0.10335461417854795\n",
      "Last loss: 0.08818224370436269\n",
      "Validation epoch 35\n"
     ]
    },
    {
     "name": "stderr",
     "output_type": "stream",
     "text": [
      "\n",
      "347it [00:12, 28.12it/s]"
     ]
    },
    {
     "name": "stdout",
     "output_type": "stream",
     "text": [
      "Validation Loss: 0.10275863801287188\n",
      "---\n",
      "Training epoch 36\n"
     ]
    },
    {
     "name": "stderr",
     "output_type": "stream",
     "text": [
      "\n",
      "1386it [00:51, 27.03it/s]"
     ]
    },
    {
     "name": "stdout",
     "output_type": "stream",
     "text": [
      "\n",
      "Loss: 0.1031618760179823\n",
      "Last loss: 0.09090119011403351\n",
      "Validation epoch 36\n"
     ]
    },
    {
     "name": "stderr",
     "output_type": "stream",
     "text": [
      "\n",
      "347it [00:12, 28.77it/s]"
     ]
    },
    {
     "name": "stdout",
     "output_type": "stream",
     "text": [
      "Validation Loss: 0.10271387443348746\n",
      "---\n",
      "Training epoch 37\n"
     ]
    },
    {
     "name": "stderr",
     "output_type": "stream",
     "text": [
      "\n",
      "1386it [00:50, 27.71it/s]"
     ]
    },
    {
     "name": "stdout",
     "output_type": "stream",
     "text": [
      "\n",
      "Loss: 0.10287569511070564\n",
      "Last loss: 0.10322761054587096\n",
      "Validation epoch 37\n"
     ]
    },
    {
     "name": "stderr",
     "output_type": "stream",
     "text": [
      "\n",
      "347it [00:12, 28.81it/s]"
     ]
    },
    {
     "name": "stdout",
     "output_type": "stream",
     "text": [
      "Validation Loss: 0.10234320704286338\n",
      "---\n",
      "Training epoch 38\n"
     ]
    },
    {
     "name": "stderr",
     "output_type": "stream",
     "text": [
      "\n",
      "1386it [00:55, 25.00it/s]"
     ]
    },
    {
     "name": "stdout",
     "output_type": "stream",
     "text": [
      "\n",
      "Loss: 0.10254748578819539\n",
      "Last loss: 0.10458586406527089\n",
      "Validation epoch 38\n"
     ]
    },
    {
     "name": "stderr",
     "output_type": "stream",
     "text": [
      "\n",
      "347it [00:12, 27.75it/s]"
     ]
    },
    {
     "name": "stdout",
     "output_type": "stream",
     "text": [
      "Validation Loss: 0.10196653507891464\n",
      "---\n",
      "Training epoch 39\n"
     ]
    },
    {
     "name": "stderr",
     "output_type": "stream",
     "text": [
      "\n",
      "1386it [00:51, 26.77it/s]"
     ]
    },
    {
     "name": "stdout",
     "output_type": "stream",
     "text": [
      "\n",
      "Loss: 0.10229160306163543\n",
      "Last loss: 0.11335254760362504\n",
      "Validation epoch 39\n"
     ]
    },
    {
     "name": "stderr",
     "output_type": "stream",
     "text": [
      "\n",
      "347it [00:11, 29.16it/s]"
     ]
    },
    {
     "name": "stdout",
     "output_type": "stream",
     "text": [
      "Validation Loss: 0.10145966595288167\n",
      "---\n",
      "Training epoch 40\n"
     ]
    },
    {
     "name": "stderr",
     "output_type": "stream",
     "text": [
      "\n",
      "1386it [00:49, 27.89it/s]"
     ]
    },
    {
     "name": "stdout",
     "output_type": "stream",
     "text": [
      "\n",
      "Loss: 0.10212572367870462\n",
      "Last loss: 0.08997026119374145\n",
      "Validation epoch 40\n"
     ]
    },
    {
     "name": "stderr",
     "output_type": "stream",
     "text": [
      "\n",
      "347it [00:12, 26.99it/s]\n"
     ]
    },
    {
     "name": "stdout",
     "output_type": "stream",
     "text": [
      "Validation Loss: 0.10240574138708051\n",
      "---\n",
      "Training epoch 41\n"
     ]
    },
    {
     "name": "stderr",
     "output_type": "stream",
     "text": [
      "1386it [00:49, 27.97it/s]"
     ]
    },
    {
     "name": "stdout",
     "output_type": "stream",
     "text": [
      "\n",
      "Loss: 0.10199448051957052\n",
      "Last loss: 0.09835495382860708\n",
      "Validation epoch 41\n"
     ]
    },
    {
     "name": "stderr",
     "output_type": "stream",
     "text": [
      "\n",
      "347it [00:12, 28.49it/s]"
     ]
    },
    {
     "name": "stdout",
     "output_type": "stream",
     "text": [
      "Validation Loss: 0.1016901267546609\n",
      "---\n",
      "Training epoch 42\n"
     ]
    },
    {
     "name": "stderr",
     "output_type": "stream",
     "text": [
      "\n",
      "1386it [00:52, 26.34it/s]"
     ]
    },
    {
     "name": "stdout",
     "output_type": "stream",
     "text": [
      "\n",
      "Loss: 0.10169271110192668\n",
      "Last loss: 0.10299450228859831\n",
      "Validation epoch 42\n"
     ]
    },
    {
     "name": "stderr",
     "output_type": "stream",
     "text": [
      "\n",
      "347it [00:13, 25.44it/s]"
     ]
    },
    {
     "name": "stdout",
     "output_type": "stream",
     "text": [
      "Validation Loss: 0.10208584725546561\n",
      "---\n",
      "Training epoch 43\n"
     ]
    },
    {
     "name": "stderr",
     "output_type": "stream",
     "text": [
      "\n",
      "1386it [00:53, 25.76it/s]"
     ]
    },
    {
     "name": "stdout",
     "output_type": "stream",
     "text": [
      "\n",
      "Loss: 0.10137022919229108\n",
      "Last loss: 0.11030868946496673\n",
      "Validation epoch 43\n"
     ]
    },
    {
     "name": "stderr",
     "output_type": "stream",
     "text": [
      "\n",
      "347it [00:12, 28.50it/s]\n"
     ]
    },
    {
     "name": "stdout",
     "output_type": "stream",
     "text": [
      "Validation Loss: 0.10106327343832747\n",
      "---\n",
      "Training epoch 44\n"
     ]
    },
    {
     "name": "stderr",
     "output_type": "stream",
     "text": [
      "1386it [00:50, 27.59it/s]"
     ]
    },
    {
     "name": "stdout",
     "output_type": "stream",
     "text": [
      "\n",
      "Loss: 0.10123567928750887\n",
      "Last loss: 0.10607295133718188\n",
      "Validation epoch 44\n"
     ]
    },
    {
     "name": "stderr",
     "output_type": "stream",
     "text": [
      "\n",
      "347it [00:13, 25.09it/s]"
     ]
    },
    {
     "name": "stdout",
     "output_type": "stream",
     "text": [
      "Validation Loss: 0.10060568468847485\n",
      "---\n",
      "Training epoch 45\n"
     ]
    },
    {
     "name": "stderr",
     "output_type": "stream",
     "text": [
      "\n",
      "1386it [00:50, 27.48it/s]"
     ]
    },
    {
     "name": "stdout",
     "output_type": "stream",
     "text": [
      "\n",
      "Loss: 0.10092094191677078\n",
      "Last loss: 0.07813291211594382\n",
      "Validation epoch 45\n"
     ]
    },
    {
     "name": "stderr",
     "output_type": "stream",
     "text": [
      "\n",
      "347it [00:13, 25.83it/s]"
     ]
    },
    {
     "name": "stdout",
     "output_type": "stream",
     "text": [
      "Validation Loss: 0.10044623344522774\n",
      "---\n",
      "Training epoch 46\n"
     ]
    },
    {
     "name": "stderr",
     "output_type": "stream",
     "text": [
      "\n",
      "1386it [00:55, 25.16it/s]"
     ]
    },
    {
     "name": "stdout",
     "output_type": "stream",
     "text": [
      "\n",
      "Loss: 0.10091438834726554\n",
      "Last loss: 0.08893378874587764\n",
      "Validation epoch 46\n"
     ]
    },
    {
     "name": "stderr",
     "output_type": "stream",
     "text": [
      "\n",
      "347it [00:12, 28.73it/s]\n"
     ]
    },
    {
     "name": "stdout",
     "output_type": "stream",
     "text": [
      "Validation Loss: 0.10044416483145362\n",
      "---\n",
      "Training epoch 47\n"
     ]
    },
    {
     "name": "stderr",
     "output_type": "stream",
     "text": [
      "1386it [00:49, 27.93it/s]"
     ]
    },
    {
     "name": "stdout",
     "output_type": "stream",
     "text": [
      "\n",
      "Loss: 0.10073037277625747\n",
      "Last loss: 0.12333457101891428\n",
      "Validation epoch 47\n"
     ]
    },
    {
     "name": "stderr",
     "output_type": "stream",
     "text": [
      "\n",
      "347it [00:12, 28.58it/s]\n"
     ]
    },
    {
     "name": "stdout",
     "output_type": "stream",
     "text": [
      "Validation Loss: 0.1016591135482258\n",
      "---\n",
      "Training epoch 48\n"
     ]
    },
    {
     "name": "stderr",
     "output_type": "stream",
     "text": [
      "1386it [00:51, 26.99it/s]"
     ]
    },
    {
     "name": "stdout",
     "output_type": "stream",
     "text": [
      "\n",
      "Loss: 0.10044680162418017\n",
      "Last loss: 0.10247871803110006\n",
      "Validation epoch 48\n"
     ]
    },
    {
     "name": "stderr",
     "output_type": "stream",
     "text": [
      "\n",
      "347it [00:14, 23.61it/s]"
     ]
    },
    {
     "name": "stdout",
     "output_type": "stream",
     "text": [
      "Validation Loss: 0.1003794298814045\n",
      "---\n",
      "Training epoch 49\n"
     ]
    },
    {
     "name": "stderr",
     "output_type": "stream",
     "text": [
      "\n",
      "1386it [00:51, 26.89it/s]"
     ]
    },
    {
     "name": "stdout",
     "output_type": "stream",
     "text": [
      "\n",
      "Loss: 0.10046662956486922\n",
      "Last loss: 0.1153894568947856\n",
      "Validation epoch 49\n"
     ]
    },
    {
     "name": "stderr",
     "output_type": "stream",
     "text": [
      "\n",
      "347it [00:12, 28.14it/s]\n"
     ]
    },
    {
     "name": "stdout",
     "output_type": "stream",
     "text": [
      "Validation Loss: 0.10003006981883567\n",
      "---\n"
     ]
    },
    {
     "name": "stderr",
     "output_type": "stream",
     "text": [
      "[I 2025-05-22 17:08:15,471] Trial 0 finished with value: 0.10003006981883567 and parameters: {'activation': 'LeakyReLU', 'optimizer': 'AdamW', 'learning_rate': 0.00010624463944303763, 'momentum': 0.9, 'init weight': True}. Best is trial 0 with value: 0.10003006981883567.\n"
     ]
    },
    {
     "name": "stdout",
     "output_type": "stream",
     "text": [
      "Trial 0 finished with value: 0.10003006981883567 and parameters: {'activation': 'LeakyReLU', 'optimizer': 'AdamW', 'learning_rate': 0.00010624463944303763, 'momentum': 0.9, 'init weight': True}. Best is trial 0 with value: 0.10003006981883567.\n",
      "Trial 0 finished with value: 0.10003006981883567 and parameters: {'activation': 'LeakyReLU', 'optimizer': 'AdamW', 'learning_rate': 0.00010624463944303763, 'momentum': 0.9, 'init weight': True}. Best is trial 0 with value: 0.10003006981883567.\n",
      "Trial 0 finished with value: 0.10003006981883567 and parameters: {'activation': 'LeakyReLU', 'optimizer': 'AdamW', 'learning_rate': 0.00010624463944303763, 'momentum': 0.9, 'init weight': True}. Best is trial 0 with value: 0.10003006981883567.\n",
      "Trial 0 finished with value: 0.10003006981883567 and parameters: {'activation': 'LeakyReLU', 'optimizer': 'AdamW', 'learning_rate': 0.00010624463944303763, 'momentum': 0.9, 'init weight': True}. Best is trial 0 with value: 0.10003006981883567.\n",
      "Trial 0 finished with value: 0.10003006981883567 and parameters: {'activation': 'LeakyReLU', 'optimizer': 'AdamW', 'learning_rate': 0.00010624463944303763, 'momentum': 0.9, 'init weight': True}. Best is trial 0 with value: 0.10003006981883567.\n"
     ]
    }
   ],
   "source": [
    "optuna.logging.get_logger(\"optuna\").addHandler(logging.StreamHandler(sys.stdout))\n",
    "study_name = \"JAGZooNet\"\n",
    "storage_name = \"sqlite:///{}.db\".format(study_name)\n",
    "study = optuna.create_study(direction='minimize', study_name=study_name, storage=storage_name, load_if_exists=True)\n",
    "study.optimize(objective, n_trials=1)"
   ]
  },
  {
   "cell_type": "code",
   "execution_count": 41,
   "id": "dbdb27ee",
   "metadata": {},
   "outputs": [
    {
     "name": "stdout",
     "output_type": "stream",
     "text": [
      "TRUE LABEL\n",
      "\n",
      "tensor([[0.4580, 0.5091, 0.0329, 0.3238, 0.1853, 0.0849, 0.1004, 0.0931, 0.0922,\n",
      "         0.0000, 0.0820, 0.1033, 0.0000, 0.5366, 0.4634, 0.0000, 0.2375, 0.2205,\n",
      "         0.0000, 0.0000, 0.0000, 0.0767, 0.1148, 0.3450, 0.0000, 0.1719, 0.1023,\n",
      "         0.0496, 0.0000, 0.0931, 0.0000, 0.0931, 0.0000, 0.0000, 0.0000, 0.0000,\n",
      "         0.0000]])\n",
      "PREDICT\n",
      "\n",
      "tensor([[ 0.5432,  0.4402,  0.0233,  0.3047,  0.1373,  0.0464,  0.0927,  0.0170,\n",
      "          0.1186, -0.0072,  0.0455,  0.0644,  0.0360,  0.1556,  0.8523,  0.0042,\n",
      "          0.2222,  0.3144,  0.0216,  0.0076,  0.0308,  0.0220,  0.0555,  0.0080,\n",
      "          0.0033,  0.2372,  0.0370,  0.0299,  0.0051,  0.0055,  0.0022, -0.0044,\n",
      "          0.0213, -0.0082, -0.0033,  0.0013,  0.0045]], device='cuda:0',\n",
      "       grad_fn=<AddmmBackward0>)\n",
      "TRUE LABEL - PREDICT\n",
      "\n",
      "tensor([[-0.0851,  0.0689,  0.0096,  0.0191,  0.0480,  0.0385,  0.0077,  0.0761,\n",
      "         -0.0264,  0.0072,  0.0365,  0.0389, -0.0360,  0.3809, -0.3889, -0.0042,\n",
      "          0.0153, -0.0939, -0.0216, -0.0076, -0.0308,  0.0548,  0.0593,  0.3371,\n",
      "         -0.0033, -0.0653,  0.0653,  0.0197, -0.0051,  0.0877, -0.0022,  0.0975,\n",
      "         -0.0213,  0.0082,  0.0033, -0.0013, -0.0045]], device='cuda:0',\n",
      "       grad_fn=<SubBackward0>)\n"
     ]
    },
    {
     "data": {
      "text/plain": [
       "<matplotlib.image.AxesImage at 0x75319baffb30>"
      ]
     },
     "execution_count": 41,
     "metadata": {},
     "output_type": "execute_result"
    },
    {
     "data": {
      "image/png": "[encoded data removed]",
      "text/plain": [
       "<Figure size 640x480 with 1 Axes>"
      ]
     },
     "metadata": {},
     "output_type": "display_data"
    }
   ],
   "source": [
    "device = 'cuda'\n",
    "torch.set_printoptions(sci_mode=False)\n",
    "model = pd.read_pickle('/home/teobaldo/Uni/LCP-B/proj/GalaxyClassifier/artifacts/0ddf5239-9466-41c5-8aa7-7f222cf815e5')\n",
    "DS = GalaxyJungle('../data/test/test_solutions_rev1.csv', '../data/test/', transfs)\n",
    "train_loader = DataLoader(DS, batch_size=1, shuffle=True, num_workers=os.cpu_count())\n",
    "\n",
    "stuff = next(iter(train_loader))\n",
    "print('TRUE LABEL\\n')\n",
    "print(stuff[1])\n",
    "model.eval()\n",
    "out = model(stuff[0].to(device))\n",
    "print('PREDICT\\n')\n",
    "print(out)\n",
    "\n",
    "print('TRUE LABEL - PREDICT\\n')\n",
    "print(stuff[1].to(device) - out)\n",
    "plt.imshow(stuff[0][0][0])"
   ]
  },
  {
   "cell_type": "markdown",
   "id": "c017501d",
   "metadata": {},
   "source": [
    "lossd = pd.read_pickle('/home/teobaldo/Uni/LCP-B/proj/GalaxyClassifier/artifacts/ec3820ea-6658-47f3-8139-94ad4a8883c5').loss_dict\n",
    "lossd.keys()\n",
    "fig, ax = plt.subplots(figsize=(8,8))\n",
    "\n",
    "ax.grid(alpha=0.3)\n",
    "ax.plot(range(len(lossd['batch'])), lossd['batch'], label='Training')\n",
    "ax.plot(range(len(lossd['vbatch'])), lossd['vbatch'], label='Validation')\n",
    "ax.legend(loc='upper right')\n",
    "plt.show()"
   ]
  }
 ],
 "metadata": {
  "kernelspec": {
   "display_name": "jungle",
   "language": "python",
   "name": "python3"
  },
  "language_info": {
   "codemirror_mode": {
    "name": "ipython",
    "version": 3
   },
   "file_extension": ".py",
   "mimetype": "text/x-python",
   "name": "python",
   "nbconvert_exporter": "python",
   "pygments_lexer": "ipython3",
   "version": "3.12.9"
  }
 },
 "nbformat": 4,
 "nbformat_minor": 5
}
